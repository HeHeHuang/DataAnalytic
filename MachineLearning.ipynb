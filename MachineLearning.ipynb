{
  "nbformat": 4,
  "nbformat_minor": 0,
  "metadata": {
    "colab": {
      "name": "MachineLearning.ipynb",
      "provenance": [],
      "authorship_tag": "ABX9TyOW7vlx1oS145h/I+LAsLYa",
      "include_colab_link": true
    },
    "kernelspec": {
      "name": "python3",
      "display_name": "Python 3"
    },
    "language_info": {
      "name": "python"
    }
  },
  "cells": [
    {
      "cell_type": "markdown",
      "metadata": {
        "id": "view-in-github",
        "colab_type": "text"
      },
      "source": [
        "<a href=\"https://colab.research.google.com/github/HeHeHuang/DataScientist/blob/main/MachineLearning.ipynb\" target=\"_parent\"><img src=\"https://colab.research.google.com/assets/colab-badge.svg\" alt=\"Open In Colab\"/></a>"
      ]
    },
    {
      "cell_type": "markdown",
      "source": [
        "# This Tutorial help me to have basic understanding of Machine Learning"
      ],
      "metadata": {
        "id": "lIpEVzHV5cx0"
      }
    },
    {
      "cell_type": "markdown",
      "source": [
        "## Machine Learning Process\n"
      ],
      "metadata": {
        "id": "tZClPxEjdP22"
      }
    },
    {
      "cell_type": "markdown",
      "source": [
        "### Data Preparation\n"
      ],
      "metadata": {
        "id": "jodJH98kdUZ8"
      }
    },
    {
      "cell_type": "markdown",
      "source": [
        "### Modelling\n"
      ],
      "metadata": {
        "id": "6ZmEka8edXlW"
      }
    },
    {
      "cell_type": "markdown",
      "source": [
        "### Modelling evaluation\n"
      ],
      "metadata": {
        "id": "wGLASanWdaf8"
      }
    },
    {
      "cell_type": "markdown",
      "source": [
        "## Frequency view & Bayes View\n"
      ],
      "metadata": {
        "id": "u6SUDiFFc5ZQ"
      }
    },
    {
      "cell_type": "markdown",
      "source": [
        "### Linear Regression\n"
      ],
      "metadata": {
        "id": "m9CGziLSdfOO"
      }
    },
    {
      "cell_type": "markdown",
      "source": [
        "### Logistic Regression"
      ],
      "metadata": {
        "id": "r_PeRnf45p98"
      }
    },
    {
      "cell_type": "code",
      "execution_count": null,
      "metadata": {
        "id": "U-38RNxc5cNz"
      },
      "outputs": [],
      "source": [
        ""
      ]
    }
  ]
}