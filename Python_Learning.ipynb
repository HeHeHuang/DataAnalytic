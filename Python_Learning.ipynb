{
  "nbformat": 4,
  "nbformat_minor": 0,
  "metadata": {
    "colab": {
      "name": "Python_Learning.ipynb",
      "provenance": [],
      "collapsed_sections": [
        "cqCti76ihEGf"
      ],
      "authorship_tag": "ABX9TyNSq3uwOEVMBmrTVzuBUCZz",
      "include_colab_link": true
    },
    "kernelspec": {
      "name": "python3",
      "display_name": "Python 3"
    },
    "language_info": {
      "name": "python"
    }
  },
  "cells": [
    {
      "cell_type": "markdown",
      "metadata": {
        "id": "view-in-github",
        "colab_type": "text"
      },
      "source": [
        "<a href=\"https://colab.research.google.com/github/HeHeHuang/DataScientist/blob/main/Python_Learning.ipynb\" target=\"_parent\"><img src=\"https://colab.research.google.com/assets/colab-badge.svg\" alt=\"Open In Colab\"/></a>"
      ]
    },
    {
      "cell_type": "markdown",
      "source": [
        "# This Turtorial help to have basic understanding of Python\n"
      ],
      "metadata": {
        "id": "GeV6LELrjatH"
      }
    },
    {
      "cell_type": "markdown",
      "source": [
        "### String\n"
      ],
      "metadata": {
        "id": "FArhYqxrAaFi"
      }
    },
    {
      "cell_type": "code",
      "source": [
        "#reverse the string\n",
        "str1 = 'to be or not to be'\n",
        "str1[::-1]"
      ],
      "metadata": {
        "colab": {
          "base_uri": "https://localhost:8080/",
          "height": 35
        },
        "id": "7LjButLH7DN9",
        "outputId": "cfd7f8fc-cbc0-4e57-9bc7-1c87da384d9c"
      },
      "execution_count": 20,
      "outputs": [
        {
          "output_type": "execute_result",
          "data": {
            "text/plain": [
              "'eb ot ton ro eb ot'"
            ],
            "application/vnd.google.colaboratory.intrinsic+json": {
              "type": "string"
            }
          },
          "metadata": {},
          "execution_count": 20
        }
      ]
    },
    {
      "cell_type": "code",
      "source": [
        "#take all s\n",
        "str1 = 'sxtsxtsxtsxt'\n",
        "str1[::3]"
      ],
      "metadata": {
        "colab": {
          "base_uri": "https://localhost:8080/",
          "height": 35
        },
        "id": "32OeSsXa7LHF",
        "outputId": "46fc8635-52ba-4a90-c38c-f44e51602b43"
      },
      "execution_count": 21,
      "outputs": [
        {
          "output_type": "execute_result",
          "data": {
            "text/plain": [
              "'ssss'"
            ],
            "application/vnd.google.colaboratory.intrinsic+json": {
              "type": "string"
            }
          },
          "metadata": {},
          "execution_count": 21
        }
      ]
    },
    {
      "cell_type": "markdown",
      "source": [
        ""
      ],
      "metadata": {
        "id": "blYO3QSuAX5v"
      }
    },
    {
      "cell_type": "markdown",
      "source": [
        "##### Split()\n",
        "Split() based on the 分隔符 eg: space to split the string into list, if not mention, the default will be space \n",
        "\n"
      ],
      "metadata": {
        "id": "eGTsnma8-A3G"
      }
    },
    {
      "cell_type": "code",
      "source": [
        "str2 = 'to be or not to be'\n",
        "str2.split()\n",
        "str2.split('be')"
      ],
      "metadata": {
        "colab": {
          "base_uri": "https://localhost:8080/"
        },
        "id": "ohqh59Vu-bPt",
        "outputId": "15778f7b-c860-467b-af42-366f6e825059"
      },
      "execution_count": 10,
      "outputs": [
        {
          "output_type": "execute_result",
          "data": {
            "text/plain": [
              "['to ', ' or not to ', '']"
            ]
          },
          "metadata": {},
          "execution_count": 10
        }
      ]
    },
    {
      "cell_type": "markdown",
      "source": [
        "##### Join() \n",
        "connect all the string from  one list"
      ],
      "metadata": {
        "id": "mAVXJMDh-xlo"
      }
    },
    {
      "cell_type": "code",
      "source": [
        "myList2 = ['to','be','or','not','to','be']\n",
        "\"\".join(myList2)"
      ],
      "metadata": {
        "colab": {
          "base_uri": "https://localhost:8080/",
          "height": 35
        },
        "id": "-1jI-E4o_Arq",
        "outputId": "8700c855-42ee-467e-dfb4-991012d4d1c7"
      },
      "execution_count": 11,
      "outputs": [
        {
          "output_type": "execute_result",
          "data": {
            "text/plain": [
              "'tobeornottobe'"
            ],
            "application/vnd.google.colaboratory.intrinsic+json": {
              "type": "string"
            }
          },
          "metadata": {},
          "execution_count": 11
        }
      ]
    },
    {
      "cell_type": "markdown",
      "source": [
        "compare to '+\" \n",
        "\n",
        "\n",
        "> join only create one time object, but 'a'+'b'+'c' will create three times\n",
        "\n"
      ],
      "metadata": {
        "id": "ImuhHhkP_avx"
      }
    },
    {
      "cell_type": "markdown",
      "source": [
        "##### test the time performance between '+' and join()"
      ],
      "metadata": {
        "id": "ku-5zk4CAno7"
      }
    },
    {
      "cell_type": "code",
      "source": [
        "import time\n",
        "time01 = time.time()\n",
        "str1=\"\"\n",
        "for i in range(100000):\n",
        "  str1 +='sxt'\n",
        "time02 = time.time()\n",
        "\n",
        "print(  'time performance' +str(time02-time01 ))"
      ],
      "metadata": {
        "colab": {
          "base_uri": "https://localhost:8080/"
        },
        "id": "wnON3AUvBNcn",
        "outputId": "f03b445c-8948-427a-9149-5fee048ed966"
      },
      "execution_count": 33,
      "outputs": [
        {
          "output_type": "stream",
          "name": "stdout",
          "text": [
            "0.021720170974731445\n"
          ]
        }
      ]
    },
    {
      "cell_type": "code",
      "source": [
        "import time\n",
        "time01 = time.time()\n",
        "li = []\n",
        "for i in range(100000):\n",
        "  li.append('sxt')\n",
        "a = \"\".join(li)  \n",
        "time02 = time.time()\n",
        "\n",
        "print(  time02-time01 )"
      ],
      "metadata": {
        "colab": {
          "base_uri": "https://localhost:8080/"
        },
        "id": "o4xE3osgC27A",
        "outputId": "90dcd153-2a03-44df-f464-d980523e92e4"
      },
      "execution_count": 34,
      "outputs": [
        {
          "output_type": "stream",
          "name": "stdout",
          "text": [
            "0.018254756927490234\n"
          ]
        }
      ]
    },
    {
      "cell_type": "markdown",
      "source": [
        "error: 'str' object is not callable\n",
        "\n",
        "> the error is because the str is used to be variable, therefore it impact the str() \n",
        "\n"
      ],
      "metadata": {
        "id": "JNRNh3h1CDbg"
      }
    },
    {
      "cell_type": "code",
      "source": [
        "import time\n",
        "time01 = time.time()\n",
        "str1=\"\"\n",
        "for i in range(100000):\n",
        "  str1 +='sxt'\n",
        "time02 = time.time()\n",
        "\n",
        "print(  'time performance' +str(time02-time01 ))"
      ],
      "metadata": {
        "colab": {
          "base_uri": "https://localhost:8080/",
          "height": 204
        },
        "id": "I73f6l5hECfK",
        "outputId": "92e2e43f-3093-4d07-cdf1-48a734456f80"
      },
      "execution_count": 35,
      "outputs": [
        {
          "output_type": "error",
          "ename": "TypeError",
          "evalue": "ignored",
          "traceback": [
            "\u001b[0;31m---------------------------------------------------------------------------\u001b[0m",
            "\u001b[0;31mTypeError\u001b[0m                                 Traceback (most recent call last)",
            "\u001b[0;32m<ipython-input-35-3d1e003453ea>\u001b[0m in \u001b[0;36m<module>\u001b[0;34m()\u001b[0m\n\u001b[1;32m      6\u001b[0m \u001b[0mtime02\u001b[0m \u001b[0;34m=\u001b[0m \u001b[0mtime\u001b[0m\u001b[0;34m.\u001b[0m\u001b[0mtime\u001b[0m\u001b[0;34m(\u001b[0m\u001b[0;34m)\u001b[0m\u001b[0;34m\u001b[0m\u001b[0;34m\u001b[0m\u001b[0m\n\u001b[1;32m      7\u001b[0m \u001b[0;34m\u001b[0m\u001b[0m\n\u001b[0;32m----> 8\u001b[0;31m \u001b[0mprint\u001b[0m\u001b[0;34m(\u001b[0m  \u001b[0;34m'time performance'\u001b[0m \u001b[0;34m+\u001b[0m\u001b[0mstr\u001b[0m\u001b[0;34m(\u001b[0m\u001b[0mtime02\u001b[0m\u001b[0;34m-\u001b[0m\u001b[0mtime01\u001b[0m \u001b[0;34m)\u001b[0m\u001b[0;34m)\u001b[0m\u001b[0;34m\u001b[0m\u001b[0;34m\u001b[0m\u001b[0m\n\u001b[0m",
            "\u001b[0;31mTypeError\u001b[0m: 'str' object is not callable"
          ]
        }
      ]
    },
    {
      "cell_type": "markdown",
      "source": [
        "##### string intern\n",
        "\n",
        "\n",
        "> for some strig like _, letter and number, the string intern will not create new string.  it will refer to same object \n",
        "\n"
      ],
      "metadata": {
        "id": "KVnAl--mEEpl"
      }
    },
    {
      "cell_type": "code",
      "source": [
        "# also can check by id()\n",
        "a = 'abd_33'\n",
        "b = 'abd_33'\n",
        "\n",
        "a is b "
      ],
      "metadata": {
        "colab": {
          "base_uri": "https://localhost:8080/"
        },
        "id": "nzCtaBP5G5KG",
        "outputId": "1199901e-1bd2-4551-c3c2-b400f4142ea6"
      },
      "execution_count": 36,
      "outputs": [
        {
          "output_type": "execute_result",
          "data": {
            "text/plain": [
              "True"
            ]
          },
          "metadata": {},
          "execution_count": 36
        }
      ]
    },
    {
      "cell_type": "code",
      "source": [
        "c = 'dd#'\n",
        "d = 'dd#'\n",
        "\n",
        "c is d "
      ],
      "metadata": {
        "colab": {
          "base_uri": "https://localhost:8080/"
        },
        "id": "-Rg9yP0kG-im",
        "outputId": "f1c30b92-d881-4648-fa95-6745610416a7"
      },
      "execution_count": 37,
      "outputs": [
        {
          "output_type": "execute_result",
          "data": {
            "text/plain": [
              "False"
            ]
          },
          "metadata": {},
          "execution_count": 37
        }
      ]
    },
    {
      "cell_type": "code",
      "source": [
        "myList3 = [1,2,3,4,5]\n",
        "a = 1\n",
        "a in myList3"
      ],
      "metadata": {
        "colab": {
          "base_uri": "https://localhost:8080/"
        },
        "id": "1dZ1oyg4Hngo",
        "outputId": "23b4c7eb-40be-4dce-d6b7-dc35076f1b95"
      },
      "execution_count": 38,
      "outputs": [
        {
          "output_type": "execute_result",
          "data": {
            "text/plain": [
              "True"
            ]
          },
          "metadata": {},
          "execution_count": 38
        }
      ]
    },
    {
      "cell_type": "markdown",
      "source": [
        "#### find method for string \n"
      ],
      "metadata": {
        "id": "EX36FxI4IAap"
      }
    },
    {
      "cell_type": "code",
      "source": [
        "a = 'fdafadsfdasfasdfasfasdfdasfafa'\n",
        "len(a)"
      ],
      "metadata": {
        "colab": {
          "base_uri": "https://localhost:8080/"
        },
        "id": "iKsFz6mVILtQ",
        "outputId": "cad4d690-9903-463d-f39c-99162c1f6532"
      },
      "execution_count": 39,
      "outputs": [
        {
          "output_type": "execute_result",
          "data": {
            "text/plain": [
              "30"
            ]
          },
          "metadata": {},
          "execution_count": 39
        }
      ]
    },
    {
      "cell_type": "code",
      "source": [
        "a.startswith('f')"
      ],
      "metadata": {
        "colab": {
          "base_uri": "https://localhost:8080/"
        },
        "id": "qHdJWQXwIPbs",
        "outputId": "9fd621e8-69b4-4335-ad9b-9b0531f08f52"
      },
      "execution_count": 40,
      "outputs": [
        {
          "output_type": "execute_result",
          "data": {
            "text/plain": [
              "True"
            ]
          },
          "metadata": {},
          "execution_count": 40
        }
      ]
    },
    {
      "cell_type": "code",
      "source": [
        "a.endswith('e')"
      ],
      "metadata": {
        "colab": {
          "base_uri": "https://localhost:8080/"
        },
        "id": "rzoVLUBYIS3g",
        "outputId": "41c26f54-57ca-45a1-8da0-944ee5836b38"
      },
      "execution_count": 41,
      "outputs": [
        {
          "output_type": "execute_result",
          "data": {
            "text/plain": [
              "False"
            ]
          },
          "metadata": {},
          "execution_count": 41
        }
      ]
    },
    {
      "cell_type": "code",
      "source": [
        "a.find('a') # the index that find 'a' at first time"
      ],
      "metadata": {
        "colab": {
          "base_uri": "https://localhost:8080/"
        },
        "id": "4R33U27mIVm1",
        "outputId": "18fa5e33-7fd4-423c-c14f-693fbbd105b2"
      },
      "execution_count": 42,
      "outputs": [
        {
          "output_type": "execute_result",
          "data": {
            "text/plain": [
              "2"
            ]
          },
          "metadata": {},
          "execution_count": 42
        }
      ]
    },
    {
      "cell_type": "code",
      "source": [
        "a.rfind('a') # the index that find 'a' at last time "
      ],
      "metadata": {
        "colab": {
          "base_uri": "https://localhost:8080/"
        },
        "id": "yl2HJQtOIXyU",
        "outputId": "327b3871-3874-4210-8faa-5587145be207"
      },
      "execution_count": 43,
      "outputs": [
        {
          "output_type": "execute_result",
          "data": {
            "text/plain": [
              "29"
            ]
          },
          "metadata": {},
          "execution_count": 43
        }
      ]
    },
    {
      "cell_type": "code",
      "source": [
        "a.count('a') # count how many time 'a' appear "
      ],
      "metadata": {
        "colab": {
          "base_uri": "https://localhost:8080/"
        },
        "id": "_Jxh2cbxIosu",
        "outputId": "780c6d3c-5f04-4847-b05f-99be58f0d63a"
      },
      "execution_count": 44,
      "outputs": [
        {
          "output_type": "execute_result",
          "data": {
            "text/plain": [
              "9"
            ]
          },
          "metadata": {},
          "execution_count": 44
        }
      ]
    },
    {
      "cell_type": "markdown",
      "source": [
        "##### remove the fisrt and last string strip()\n"
      ],
      "metadata": {
        "id": "NY2VVISII9Vx"
      }
    },
    {
      "cell_type": "code",
      "source": [
        "b = ' txt '\n",
        "c = '*txt*'\n",
        "b"
      ],
      "metadata": {
        "colab": {
          "base_uri": "https://localhost:8080/",
          "height": 35
        },
        "id": "s55aDfuXJFNc",
        "outputId": "38b2ce55-0e3e-4f65-9cfb-6c6dfeb89134"
      },
      "execution_count": 49,
      "outputs": [
        {
          "output_type": "execute_result",
          "data": {
            "text/plain": [
              "' txt '"
            ],
            "application/vnd.google.colaboratory.intrinsic+json": {
              "type": "string"
            }
          },
          "metadata": {},
          "execution_count": 49
        }
      ]
    },
    {
      "cell_type": "code",
      "source": [
        "b.strip()"
      ],
      "metadata": {
        "colab": {
          "base_uri": "https://localhost:8080/",
          "height": 35
        },
        "id": "Scw-5YvKJLbK",
        "outputId": "090fe929-0c80-4b2c-e030-38e80835471a"
      },
      "execution_count": 47,
      "outputs": [
        {
          "output_type": "execute_result",
          "data": {
            "text/plain": [
              "'txt'"
            ],
            "application/vnd.google.colaboratory.intrinsic+json": {
              "type": "string"
            }
          },
          "metadata": {},
          "execution_count": 47
        }
      ]
    },
    {
      "cell_type": "code",
      "source": [
        "c.strip('*')"
      ],
      "metadata": {
        "colab": {
          "base_uri": "https://localhost:8080/",
          "height": 35
        },
        "id": "UUdjWTc3JRMo",
        "outputId": "e9fef516-2062-4a24-ace7-cf639f4a8e1e"
      },
      "execution_count": 50,
      "outputs": [
        {
          "output_type": "execute_result",
          "data": {
            "text/plain": [
              "'txt'"
            ],
            "application/vnd.google.colaboratory.intrinsic+json": {
              "type": "string"
            }
          },
          "metadata": {},
          "execution_count": 50
        }
      ]
    },
    {
      "cell_type": "code",
      "source": [
        "c.lstrip('*') # l and r means left and right , remove the left first char"
      ],
      "metadata": {
        "colab": {
          "base_uri": "https://localhost:8080/",
          "height": 35
        },
        "id": "NzNEQudCJbyU",
        "outputId": "79b3e2d4-c372-41b7-a268-f3760c1af37e"
      },
      "execution_count": 52,
      "outputs": [
        {
          "output_type": "execute_result",
          "data": {
            "text/plain": [
              "'txt*'"
            ],
            "application/vnd.google.colaboratory.intrinsic+json": {
              "type": "string"
            }
          },
          "metadata": {},
          "execution_count": 52
        }
      ]
    },
    {
      "cell_type": "code",
      "source": [
        "c.rstrip('*')"
      ],
      "metadata": {
        "colab": {
          "base_uri": "https://localhost:8080/",
          "height": 35
        },
        "id": "TQ3h4aasJi-k",
        "outputId": "314c09fe-63ea-4db1-9dea-11ff20fb2106"
      },
      "execution_count": 53,
      "outputs": [
        {
          "output_type": "execute_result",
          "data": {
            "text/plain": [
              "'*txt'"
            ],
            "application/vnd.google.colaboratory.intrinsic+json": {
              "type": "string"
            }
          },
          "metadata": {},
          "execution_count": 53
        }
      ]
    },
    {
      "cell_type": "markdown",
      "source": [
        "##### change Capital\n"
      ],
      "metadata": {
        "id": "J0DORi6XKCdw"
      }
    },
    {
      "cell_type": "code",
      "source": [
        "e = \"huanghe love programming, love HH\"\n"
      ],
      "metadata": {
        "id": "6eLc4i7ZKFiK"
      },
      "execution_count": 57,
      "outputs": []
    },
    {
      "cell_type": "code",
      "source": [
        "e.capitalize()"
      ],
      "metadata": {
        "colab": {
          "base_uri": "https://localhost:8080/",
          "height": 35
        },
        "id": "zD5RM6uJKYrZ",
        "outputId": "3410075c-4958-4429-ef22-4e5a61a7233a"
      },
      "execution_count": 59,
      "outputs": [
        {
          "output_type": "execute_result",
          "data": {
            "text/plain": [
              "'Huanghe love programming, love hh'"
            ],
            "application/vnd.google.colaboratory.intrinsic+json": {
              "type": "string"
            }
          },
          "metadata": {},
          "execution_count": 59
        }
      ]
    },
    {
      "cell_type": "code",
      "source": [
        "e.title()"
      ],
      "metadata": {
        "colab": {
          "base_uri": "https://localhost:8080/",
          "height": 35
        },
        "id": "LURfLlAlKbzn",
        "outputId": "29768bae-a154-498c-ec51-65e4e1d0c1be"
      },
      "execution_count": 60,
      "outputs": [
        {
          "output_type": "execute_result",
          "data": {
            "text/plain": [
              "'Huanghe Love Programming, Love Hh'"
            ],
            "application/vnd.google.colaboratory.intrinsic+json": {
              "type": "string"
            }
          },
          "metadata": {},
          "execution_count": 60
        }
      ]
    },
    {
      "cell_type": "code",
      "source": [
        "e.upper()"
      ],
      "metadata": {
        "colab": {
          "base_uri": "https://localhost:8080/",
          "height": 35
        },
        "id": "RQeU8DHQKdK0",
        "outputId": "2157bc58-2ab8-42ba-fd0c-ca9aa566c5ef"
      },
      "execution_count": 61,
      "outputs": [
        {
          "output_type": "execute_result",
          "data": {
            "text/plain": [
              "'HUANGHE LOVE PROGRAMMING, LOVE HH'"
            ],
            "application/vnd.google.colaboratory.intrinsic+json": {
              "type": "string"
            }
          },
          "metadata": {},
          "execution_count": 61
        }
      ]
    },
    {
      "cell_type": "code",
      "source": [
        "f = 'txt'"
      ],
      "metadata": {
        "id": "UBJnqhj1KgVJ"
      },
      "execution_count": 62,
      "outputs": []
    },
    {
      "cell_type": "code",
      "source": [
        "f.center(10,'*') # the total char is 10, put the 'txt' centre and fill other position by '*'"
      ],
      "metadata": {
        "colab": {
          "base_uri": "https://localhost:8080/",
          "height": 35
        },
        "id": "ki0c058GKvYI",
        "outputId": "9ff2a69d-6623-4a2d-ed39-3b3dec92cc36"
      },
      "execution_count": 65,
      "outputs": [
        {
          "output_type": "execute_result",
          "data": {
            "text/plain": [
              "'***txt****'"
            ],
            "application/vnd.google.colaboratory.intrinsic+json": {
              "type": "string"
            }
          },
          "metadata": {},
          "execution_count": 65
        }
      ]
    },
    {
      "cell_type": "code",
      "source": [
        "f.center(10)"
      ],
      "metadata": {
        "colab": {
          "base_uri": "https://localhost:8080/",
          "height": 35
        },
        "id": "j7YHgksPK1Xn",
        "outputId": "b7f3ef1c-e09a-4702-80a7-9443109b86fc"
      },
      "execution_count": 68,
      "outputs": [
        {
          "output_type": "execute_result",
          "data": {
            "text/plain": [
              "'   txt    '"
            ],
            "application/vnd.google.colaboratory.intrinsic+json": {
              "type": "string"
            }
          },
          "metadata": {},
          "execution_count": 68
        }
      ]
    },
    {
      "cell_type": "code",
      "source": [
        "f.rjust(10,'&')"
      ],
      "metadata": {
        "colab": {
          "base_uri": "https://localhost:8080/",
          "height": 35
        },
        "id": "E9ZdEgdlKy2f",
        "outputId": "ed1d2074-b4b0-4a45-ae2c-8165b755e0f1"
      },
      "execution_count": 69,
      "outputs": [
        {
          "output_type": "execute_result",
          "data": {
            "text/plain": [
              "'&&&&&&&txt'"
            ],
            "application/vnd.google.colaboratory.intrinsic+json": {
              "type": "string"
            }
          },
          "metadata": {},
          "execution_count": 69
        }
      ]
    },
    {
      "cell_type": "code",
      "source": [
        "f.ljust(10,'&')\n"
      ],
      "metadata": {
        "colab": {
          "base_uri": "https://localhost:8080/",
          "height": 35
        },
        "id": "ecAPG28zKxnE",
        "outputId": "a5362097-0f43-4f9c-9f7a-8ea51097b768"
      },
      "execution_count": 70,
      "outputs": [
        {
          "output_type": "execute_result",
          "data": {
            "text/plain": [
              "'txt&&&&&&&'"
            ],
            "application/vnd.google.colaboratory.intrinsic+json": {
              "type": "string"
            }
          },
          "metadata": {},
          "execution_count": 70
        }
      ]
    },
    {
      "cell_type": "markdown",
      "source": [
        "##### format()\n",
        "\n",
        "> {index} or {parameter name}  to reflect the value \n",
        "\n"
      ],
      "metadata": {
        "id": "zsBCaebELfD-"
      }
    },
    {
      "cell_type": "code",
      "source": [
        "a = 'name is {0}, age is {1}'\n",
        "a.format(\"HH\",18)"
      ],
      "metadata": {
        "colab": {
          "base_uri": "https://localhost:8080/",
          "height": 35
        },
        "id": "DqMtNaVbLhVi",
        "outputId": "8906c73e-c120-4791-ef47-453802d03fc0"
      },
      "execution_count": 71,
      "outputs": [
        {
          "output_type": "execute_result",
          "data": {
            "text/plain": [
              "'name is HH, age is 18'"
            ],
            "application/vnd.google.colaboratory.intrinsic+json": {
              "type": "string"
            }
          },
          "metadata": {},
          "execution_count": 71
        }
      ]
    },
    {
      "cell_type": "code",
      "source": [
        "b= 'name is {name} , age is {age}'\n",
        "b.format(name=\"HH\",age = 18)"
      ],
      "metadata": {
        "colab": {
          "base_uri": "https://localhost:8080/",
          "height": 35
        },
        "id": "OSGqmZNJMPjU",
        "outputId": "108af0db-cb09-4a8d-bd9d-955a1fff1aac"
      },
      "execution_count": 72,
      "outputs": [
        {
          "output_type": "execute_result",
          "data": {
            "text/plain": [
              "'name is HH , age is 18'"
            ],
            "application/vnd.google.colaboratory.intrinsic+json": {
              "type": "string"
            }
          },
          "metadata": {},
          "execution_count": 72
        }
      ]
    },
    {
      "cell_type": "markdown",
      "source": [
        "##### format () with fullfill other char\n",
        "\n",
        "\n",
        "> centre ^, left: <, right:>,  one char behide : \n",
        "\n"
      ],
      "metadata": {
        "id": "c4s6VePKMnUK"
      }
    },
    {
      "cell_type": "code",
      "source": [
        " \"name is {0:*^6}\".format(\"HH\")"
      ],
      "metadata": {
        "colab": {
          "base_uri": "https://localhost:8080/",
          "height": 35
        },
        "id": "qOjScKNbMqer",
        "outputId": "e99d1504-f6af-4e6e-e490-11454714e51a"
      },
      "execution_count": 73,
      "outputs": [
        {
          "output_type": "execute_result",
          "data": {
            "text/plain": [
              "'name is **HH**'"
            ],
            "application/vnd.google.colaboratory.intrinsic+json": {
              "type": "string"
            }
          },
          "metadata": {},
          "execution_count": 73
        }
      ]
    },
    {
      "cell_type": "markdown",
      "source": [
        "format () with number format/digital format"
      ],
      "metadata": {
        "id": "DjOVAp_nNlTv"
      }
    },
    {
      "cell_type": "code",
      "source": [
        "e = 'my age is {:.2f}'\n",
        "e.format(31.16666)"
      ],
      "metadata": {
        "colab": {
          "base_uri": "https://localhost:8080/",
          "height": 35
        },
        "id": "z7QY7K3fNxnD",
        "outputId": "3ccef210-38b3-4faa-85eb-51a8f052855b"
      },
      "execution_count": 74,
      "outputs": [
        {
          "output_type": "execute_result",
          "data": {
            "text/plain": [
              "'my age is 31.17'"
            ],
            "application/vnd.google.colaboratory.intrinsic+json": {
              "type": "string"
            }
          },
          "metadata": {},
          "execution_count": 74
        }
      ]
    },
    {
      "cell_type": "markdown",
      "source": [
        "##### io.StringIO(s)\n",
        "by using this, the string is changable, no need to create ne wobject everytime "
      ],
      "metadata": {
        "id": "k0og0OE2OOyb"
      }
    },
    {
      "cell_type": "code",
      "source": [
        "import io\n",
        "a = 'hello, txt'\n",
        "strio = io.StringIO(a)\n",
        "strio.getvalue()\n"
      ],
      "metadata": {
        "colab": {
          "base_uri": "https://localhost:8080/",
          "height": 35
        },
        "id": "bpHVGGchOgtv",
        "outputId": "9e337d31-f1e9-4ee5-c6f4-41eb74d9ba29"
      },
      "execution_count": 76,
      "outputs": [
        {
          "output_type": "execute_result",
          "data": {
            "text/plain": [
              "'hello, txt'"
            ],
            "application/vnd.google.colaboratory.intrinsic+json": {
              "type": "string"
            }
          },
          "metadata": {},
          "execution_count": 76
        }
      ]
    },
    {
      "cell_type": "code",
      "source": [
        "strio.seek(7)"
      ],
      "metadata": {
        "colab": {
          "base_uri": "https://localhost:8080/"
        },
        "id": "LmquvuAePGTb",
        "outputId": "02452713-8c56-437e-d80f-3c4aea9c699b"
      },
      "execution_count": 77,
      "outputs": [
        {
          "output_type": "execute_result",
          "data": {
            "text/plain": [
              "7"
            ]
          },
          "metadata": {},
          "execution_count": 77
        }
      ]
    },
    {
      "cell_type": "code",
      "source": [
        "strio.write('g')"
      ],
      "metadata": {
        "colab": {
          "base_uri": "https://localhost:8080/"
        },
        "id": "ym0T6sPoPJni",
        "outputId": "dd330c63-c0a4-465d-eeff-ea0c8e3334b4"
      },
      "execution_count": 78,
      "outputs": [
        {
          "output_type": "execute_result",
          "data": {
            "text/plain": [
              "1"
            ]
          },
          "metadata": {},
          "execution_count": 78
        }
      ]
    },
    {
      "cell_type": "code",
      "source": [
        "strio.getvalue()"
      ],
      "metadata": {
        "colab": {
          "base_uri": "https://localhost:8080/",
          "height": 35
        },
        "id": "oBrmKmPkPTjs",
        "outputId": "9446036a-e217-4c77-97e3-7c729fa5d2c4"
      },
      "execution_count": 79,
      "outputs": [
        {
          "output_type": "execute_result",
          "data": {
            "text/plain": [
              "'hello, gxt'"
            ],
            "application/vnd.google.colaboratory.intrinsic+json": {
              "type": "string"
            }
          },
          "metadata": {},
          "execution_count": 79
        }
      ]
    },
    {
      "cell_type": "markdown",
      "source": [
        "#### 位运算\n"
      ],
      "metadata": {
        "id": "Ouiz11HlP4gj"
      }
    },
    {
      "cell_type": "markdown",
      "source": [
        ""
      ],
      "metadata": {
        "id": "H7MTlJMvP8W1"
      }
    },
    {
      "cell_type": "code",
      "source": [
        ""
      ],
      "metadata": {
        "id": "m7qJgHmZPVjG"
      },
      "execution_count": null,
      "outputs": []
    },
    {
      "cell_type": "markdown",
      "source": [
        "##Sequence 序列\n",
        "in Memory, sequence is the continuous memory space which store the id \n",
        "eg: a = [10,20,30,40]\n",
        "this list store the id of object (10,20,30,40) which is refer to each objects.and then the id of list will store in the variable a  "
      ],
      "metadata": {
        "id": "sh2cOFwmQDbQ"
      }
    },
    {
      "cell_type": "markdown",
      "source": [
        "## data structure\n"
      ],
      "metadata": {
        "id": "3JoXt5IU7VYS"
      }
    },
    {
      "cell_type": "markdown",
      "source": [
        "### list\n",
        "list 是内置可变的序列，是包含多个元素的有序连续的内存空间\n"
      ],
      "metadata": {
        "id": "qmaRArCu7cDc"
      }
    },
    {
      "cell_type": "code",
      "source": [
        ""
      ],
      "metadata": {
        "id": "WAlQXqIOSgcO"
      },
      "execution_count": null,
      "outputs": []
    },
    {
      "cell_type": "code",
      "source": [
        "myList = [1,2,3]\n",
        "print(id(myList))\n",
        "for i in range(len(myList)):\n",
        "  print(id(myList[i]))\n",
        "  print(type(myList[i]))"
      ],
      "metadata": {
        "colab": {
          "base_uri": "https://localhost:8080/"
        },
        "id": "YQ0gPjFWQoC2",
        "outputId": "90e41a30-02f1-4898-ab0b-96a68c13803b"
      },
      "execution_count": 85,
      "outputs": [
        {
          "output_type": "stream",
          "name": "stdout",
          "text": [
            "140230512675408\n",
            "11256064\n",
            "<class 'int'>\n",
            "11256096\n",
            "<class 'int'>\n",
            "11256128\n",
            "<class 'int'>\n"
          ]
        }
      ]
    },
    {
      "cell_type": "markdown",
      "source": [
        "#### List Creation\n",
        "\n",
        "\n",
        "> 4 ways\n",
        "\n"
      ],
      "metadata": {
        "id": "w-n0KGIYhB6S"
      }
    },
    {
      "cell_type": "code",
      "source": [
        "a = [1,2,'str']"
      ],
      "metadata": {
        "id": "Fn6NUuw-hEh5"
      },
      "execution_count": 86,
      "outputs": []
    },
    {
      "cell_type": "code",
      "source": [
        "a = list()"
      ],
      "metadata": {
        "id": "HYW7ArPwhMz5"
      },
      "execution_count": 87,
      "outputs": []
    },
    {
      "cell_type": "code",
      "source": [
        "b = list(range(10))\n",
        "b"
      ],
      "metadata": {
        "colab": {
          "base_uri": "https://localhost:8080/"
        },
        "id": "-vc_q7xlhP-X",
        "outputId": "bd9051fe-e59c-477e-d4ba-9448b6e8afa4"
      },
      "execution_count": 89,
      "outputs": [
        {
          "output_type": "execute_result",
          "data": {
            "text/plain": [
              "[0, 1, 2, 3, 4, 5, 6, 7, 8, 9]"
            ]
          },
          "metadata": {},
          "execution_count": 89
        }
      ]
    },
    {
      "cell_type": "code",
      "source": [
        "b1 = list(\"huanghe\")\n",
        "b1"
      ],
      "metadata": {
        "colab": {
          "base_uri": "https://localhost:8080/"
        },
        "id": "vwk51obvhuiV",
        "outputId": "2691eccf-1eef-4c55-9b8c-96bae0c9dbe2"
      },
      "execution_count": 91,
      "outputs": [
        {
          "output_type": "execute_result",
          "data": {
            "text/plain": [
              "['h', 'u', 'a', 'n', 'g', 'h', 'e']"
            ]
          },
          "metadata": {},
          "execution_count": 91
        }
      ]
    },
    {
      "cell_type": "code",
      "source": [
        "#range(start,end,step)\n",
        "list(range(1,10,2))"
      ],
      "metadata": {
        "colab": {
          "base_uri": "https://localhost:8080/"
        },
        "id": "QubE7kcmhxy_",
        "outputId": "25f907f9-a055-4e08-994b-4bb17d738fe9"
      },
      "execution_count": 93,
      "outputs": [
        {
          "output_type": "execute_result",
          "data": {
            "text/plain": [
              "[1, 3, 5, 7, 9]"
            ]
          },
          "metadata": {},
          "execution_count": 93
        }
      ]
    },
    {
      "cell_type": "code",
      "source": [
        "list(range(20,3,-1))"
      ],
      "metadata": {
        "colab": {
          "base_uri": "https://localhost:8080/"
        },
        "id": "Tg4YKFd8iT4c",
        "outputId": "564a6636-d8e9-4da7-a56a-4842fba77838"
      },
      "execution_count": 94,
      "outputs": [
        {
          "output_type": "execute_result",
          "data": {
            "text/plain": [
              "[20, 19, 18, 17, 16, 15, 14, 13, 12, 11, 10, 9, 8, 7, 6, 5, 4]"
            ]
          },
          "metadata": {},
          "execution_count": 94
        }
      ]
    },
    {
      "cell_type": "code",
      "source": [
        "c = [x for x in range(10)]\n",
        "c"
      ],
      "metadata": {
        "colab": {
          "base_uri": "https://localhost:8080/"
        },
        "id": "Tf9pTyIFhTg_",
        "outputId": "456aada7-d341-4753-9237-d18e995167ce"
      },
      "execution_count": 90,
      "outputs": [
        {
          "output_type": "execute_result",
          "data": {
            "text/plain": [
              "[0, 1, 2, 3, 4, 5, 6, 7, 8, 9]"
            ]
          },
          "metadata": {},
          "execution_count": 90
        }
      ]
    },
    {
      "cell_type": "markdown",
      "source": [
        "#### add & remove item from list\n",
        "5 ways"
      ],
      "metadata": {
        "id": "OyLI_NZTiyaP"
      }
    },
    {
      "cell_type": "code",
      "source": [
        "a = [20,40,60]\n",
        "id(a)"
      ],
      "metadata": {
        "colab": {
          "base_uri": "https://localhost:8080/"
        },
        "id": "Oqb-qSYGi33a",
        "outputId": "a269f637-4677-43cf-b4a5-140f3b58ffe8"
      },
      "execution_count": 101,
      "outputs": [
        {
          "output_type": "execute_result",
          "data": {
            "text/plain": [
              "140230512711232"
            ]
          },
          "metadata": {},
          "execution_count": 101
        }
      ]
    },
    {
      "cell_type": "code",
      "source": [
        "a.append(80)\n",
        "id(a)"
      ],
      "metadata": {
        "colab": {
          "base_uri": "https://localhost:8080/"
        },
        "id": "MguaCJxyiEmv",
        "outputId": "e51a4362-2b80-44e6-b7b5-30e719f431cf"
      },
      "execution_count": 102,
      "outputs": [
        {
          "output_type": "execute_result",
          "data": {
            "text/plain": [
              "140230512711232"
            ]
          },
          "metadata": {},
          "execution_count": 102
        }
      ]
    },
    {
      "cell_type": "markdown",
      "source": [
        "append()"
      ],
      "metadata": {
        "id": "NE8J7y4olDLW"
      }
    },
    {
      "cell_type": "markdown",
      "source": [
        "if insert item into middle of list, it will cause many item movement.  "
      ],
      "metadata": {
        "id": "kEUDUT3Dll6S"
      }
    },
    {
      "cell_type": "markdown",
      "source": [
        "'+' create new list, put these two into new list "
      ],
      "metadata": {
        "id": "ETdXZ632mFNX"
      }
    },
    {
      "cell_type": "code",
      "source": [
        "b = [20,40]\n",
        "b = b+ [50]\n",
        "b"
      ],
      "metadata": {
        "colab": {
          "base_uri": "https://localhost:8080/"
        },
        "id": "QrTshslthqL2",
        "outputId": "e166c686-2061-4f81-d44a-3a149f1344d3"
      },
      "execution_count": 100,
      "outputs": [
        {
          "output_type": "execute_result",
          "data": {
            "text/plain": [
              "[20, 40, 50]"
            ]
          },
          "metadata": {},
          "execution_count": 100
        }
      ]
    },
    {
      "cell_type": "markdown",
      "source": [
        "append()\n"
      ],
      "metadata": {
        "id": "yoBzifDxmn0M"
      }
    },
    {
      "cell_type": "code",
      "source": [
        "c= [10,20]\n",
        "c.extend([30,40])\n",
        "c"
      ],
      "metadata": {
        "colab": {
          "base_uri": "https://localhost:8080/"
        },
        "id": "Nou-GWBPmp2T",
        "outputId": "4ac9c6ec-f799-47b3-81c5-a0cc5a07019b"
      },
      "execution_count": 106,
      "outputs": [
        {
          "output_type": "execute_result",
          "data": {
            "text/plain": [
              "[10, 20, 30, 40]"
            ]
          },
          "metadata": {},
          "execution_count": 106
        }
      ]
    },
    {
      "cell_type": "markdown",
      "source": [
        "insert()\n"
      ],
      "metadata": {
        "id": "WTn5hkdgnHro"
      }
    },
    {
      "cell_type": "code",
      "source": [
        "e = [1,2,3,4,5,6]\n"
      ],
      "metadata": {
        "id": "3CsnTALenJBq"
      },
      "execution_count": 107,
      "outputs": []
    },
    {
      "cell_type": "code",
      "source": [
        "e.insert(2,10)\n",
        "e"
      ],
      "metadata": {
        "colab": {
          "base_uri": "https://localhost:8080/"
        },
        "id": "32-XqQyhnN1n",
        "outputId": "d1656d6f-2519-4c1d-d65d-9c4f292b7448"
      },
      "execution_count": 108,
      "outputs": [
        {
          "output_type": "execute_result",
          "data": {
            "text/plain": [
              "[1, 2, 10, 3, 4, 5, 6]"
            ]
          },
          "metadata": {},
          "execution_count": 108
        }
      ]
    },
    {
      "cell_type": "markdown",
      "source": [
        "multiple extend\n"
      ],
      "metadata": {
        "id": "4TYE8JPnnhal"
      }
    },
    {
      "cell_type": "code",
      "source": [
        "f = [1,2,3]\n",
        "g = f * 3 \n",
        "g"
      ],
      "metadata": {
        "colab": {
          "base_uri": "https://localhost:8080/"
        },
        "id": "uaZxzJFbnjkc",
        "outputId": "f349ee8e-d405-41c6-80e4-9ded30340302"
      },
      "execution_count": 109,
      "outputs": [
        {
          "output_type": "execute_result",
          "data": {
            "text/plain": [
              "[1, 2, 3, 1, 2, 3, 1, 2, 3]"
            ]
          },
          "metadata": {},
          "execution_count": 109
        }
      ]
    },
    {
      "cell_type": "markdown",
      "source": [
        "##### list delete item \n"
      ],
      "metadata": {
        "id": "g5m-4JBInuAl"
      }
    },
    {
      "cell_type": "markdown",
      "source": [
        "del()\n",
        "**将后面的item copy到前面来**"
      ],
      "metadata": {
        "id": "NKWX5uBXnzzo"
      }
    },
    {
      "cell_type": "code",
      "source": [
        "a = [100,200,888,300,400]"
      ],
      "metadata": {
        "id": "D_ppmhRqoUxf"
      },
      "execution_count": 110,
      "outputs": []
    },
    {
      "cell_type": "code",
      "source": [
        "del a[2]"
      ],
      "metadata": {
        "id": "tuTtsI1rohV3"
      },
      "execution_count": 111,
      "outputs": []
    },
    {
      "cell_type": "code",
      "source": [
        "a"
      ],
      "metadata": {
        "colab": {
          "base_uri": "https://localhost:8080/"
        },
        "id": "nffLP1ozoltK",
        "outputId": "57ad9713-9e80-428b-90d0-d90ced2096f2"
      },
      "execution_count": 112,
      "outputs": [
        {
          "output_type": "execute_result",
          "data": {
            "text/plain": [
              "[100, 200, 300, 400]"
            ]
          },
          "metadata": {},
          "execution_count": 112
        }
      ]
    },
    {
      "cell_type": "markdown",
      "source": [
        "pop(): delete and return the object"
      ],
      "metadata": {
        "id": "jwZcwazrospd"
      }
    },
    {
      "cell_type": "code",
      "source": [
        "a.pop()"
      ],
      "metadata": {
        "colab": {
          "base_uri": "https://localhost:8080/"
        },
        "id": "uTRwbA5yov4r",
        "outputId": "e812a068-b33a-4b19-a976-5658e1730c76"
      },
      "execution_count": 113,
      "outputs": [
        {
          "output_type": "execute_result",
          "data": {
            "text/plain": [
              "400"
            ]
          },
          "metadata": {},
          "execution_count": 113
        }
      ]
    },
    {
      "cell_type": "code",
      "source": [
        "a.pop(1)"
      ],
      "metadata": {
        "colab": {
          "base_uri": "https://localhost:8080/"
        },
        "id": "oz2EQOc6ozO5",
        "outputId": "67554849-3c3a-49c3-86c8-1e4aae42a422"
      },
      "execution_count": 114,
      "outputs": [
        {
          "output_type": "execute_result",
          "data": {
            "text/plain": [
              "200"
            ]
          },
          "metadata": {},
          "execution_count": 114
        }
      ]
    },
    {
      "cell_type": "code",
      "source": [
        "a"
      ],
      "metadata": {
        "colab": {
          "base_uri": "https://localhost:8080/"
        },
        "id": "K1ZT2zUmo2l4",
        "outputId": "01c248f0-3ef1-4f68-c64c-da45d56eb297"
      },
      "execution_count": 117,
      "outputs": [
        {
          "output_type": "execute_result",
          "data": {
            "text/plain": [
              "[100, 300]"
            ]
          },
          "metadata": {},
          "execution_count": 117
        }
      ]
    },
    {
      "cell_type": "markdown",
      "source": [
        "remove(): delete the item that first time appear. if the item is not existing, throw error\n"
      ],
      "metadata": {
        "id": "gQqKsKPqpKIZ"
      }
    },
    {
      "cell_type": "code",
      "source": [
        "a.remove(100)"
      ],
      "metadata": {
        "id": "-8DD1pQBpSGh"
      },
      "execution_count": 118,
      "outputs": []
    },
    {
      "cell_type": "code",
      "source": [
        "a.remove(50)"
      ],
      "metadata": {
        "colab": {
          "base_uri": "https://localhost:8080/",
          "height": 169
        },
        "id": "btuRB7P4pUbr",
        "outputId": "94191022-5e34-41ec-892e-26c4801c7638"
      },
      "execution_count": 119,
      "outputs": [
        {
          "output_type": "error",
          "ename": "ValueError",
          "evalue": "ignored",
          "traceback": [
            "\u001b[0;31m---------------------------------------------------------------------------\u001b[0m",
            "\u001b[0;31mValueError\u001b[0m                                Traceback (most recent call last)",
            "\u001b[0;32m<ipython-input-119-2664ee598304>\u001b[0m in \u001b[0;36m<module>\u001b[0;34m()\u001b[0m\n\u001b[0;32m----> 1\u001b[0;31m \u001b[0ma\u001b[0m\u001b[0;34m.\u001b[0m\u001b[0mremove\u001b[0m\u001b[0;34m(\u001b[0m\u001b[0;36m50\u001b[0m\u001b[0;34m)\u001b[0m\u001b[0;34m\u001b[0m\u001b[0;34m\u001b[0m\u001b[0m\n\u001b[0m",
            "\u001b[0;31mValueError\u001b[0m: list.remove(x): x not in list"
          ]
        }
      ]
    },
    {
      "cell_type": "markdown",
      "source": [
        "##### list retrieve and count"
      ],
      "metadata": {
        "id": "1V2z-g--pfH2"
      }
    },
    {
      "cell_type": "code",
      "source": [
        ""
      ],
      "metadata": {
        "id": "KgPvazq8phl_"
      },
      "execution_count": null,
      "outputs": []
    },
    {
      "cell_type": "code",
      "source": [
        ""
      ],
      "metadata": {
        "id": "vazYEBOspXVN"
      },
      "execution_count": null,
      "outputs": []
    },
    {
      "cell_type": "code",
      "source": [
        ""
      ],
      "metadata": {
        "id": "Sa5A0GV4pAiW"
      },
      "execution_count": null,
      "outputs": []
    },
    {
      "cell_type": "code",
      "source": [
        ""
      ],
      "metadata": {
        "id": "CO43chQWo-gl"
      },
      "execution_count": null,
      "outputs": []
    },
    {
      "cell_type": "code",
      "source": [
        ""
      ],
      "metadata": {
        "id": "izmKNEDCo8WJ"
      },
      "execution_count": null,
      "outputs": []
    },
    {
      "cell_type": "code",
      "source": [
        ""
      ],
      "metadata": {
        "id": "BlMfDXiSommR"
      },
      "execution_count": null,
      "outputs": []
    },
    {
      "cell_type": "code",
      "source": [
        ""
      ],
      "metadata": {
        "id": "oLEwM-tmn1Mn"
      },
      "execution_count": null,
      "outputs": []
    },
    {
      "cell_type": "code",
      "source": [
        ""
      ],
      "metadata": {
        "id": "aYbeCHvLny1H"
      },
      "execution_count": null,
      "outputs": []
    },
    {
      "cell_type": "code",
      "source": [
        ""
      ],
      "metadata": {
        "id": "oczN-Fywnn0_"
      },
      "execution_count": null,
      "outputs": []
    },
    {
      "cell_type": "code",
      "source": [
        ""
      ],
      "metadata": {
        "id": "wzN6ILi-nSNd"
      },
      "execution_count": null,
      "outputs": []
    },
    {
      "cell_type": "code",
      "source": [
        ""
      ],
      "metadata": {
        "id": "L0-fCpqLhSaV"
      },
      "execution_count": null,
      "outputs": []
    },
    {
      "cell_type": "code",
      "source": [
        ""
      ],
      "metadata": {
        "id": "0vOMd3Jz9lBY"
      },
      "execution_count": 80,
      "outputs": []
    },
    {
      "cell_type": "markdown",
      "source": [
        "### turple\n"
      ],
      "metadata": {
        "id": "qqC_8Mxa7dmh"
      }
    },
    {
      "cell_type": "markdown",
      "source": [
        "### dict\n"
      ],
      "metadata": {
        "id": "_QVBaVx67f2y"
      }
    },
    {
      "cell_type": "code",
      "source": [
        "myDict = {'key' :'key1', 'value' : 'v1'}"
      ],
      "metadata": {
        "id": "kxaQRxhe9sqr"
      },
      "execution_count": null,
      "outputs": []
    },
    {
      "cell_type": "markdown",
      "source": [
        "#### ADRC\n"
      ],
      "metadata": {
        "id": "DvBA4Nsv93pS"
      }
    },
    {
      "cell_type": "markdown",
      "source": [
        "### \n"
      ],
      "metadata": {
        "id": "_8kQwmW37h94"
      }
    },
    {
      "cell_type": "code",
      "source": [
        ""
      ],
      "metadata": {
        "id": "CPyKcp3h7bQi"
      },
      "execution_count": null,
      "outputs": []
    },
    {
      "cell_type": "markdown",
      "source": [
        "#### list slice\n",
        "list[start:end:step]\n",
        "contain start but not contain end. index from 0"
      ],
      "metadata": {
        "id": "amnAq5Lo6HMA"
      }
    },
    {
      "cell_type": "code",
      "source": [
        "myList = [1,3,5,7]\n",
        "myList[1:5:2]"
      ],
      "metadata": {
        "colab": {
          "base_uri": "https://localhost:8080/"
        },
        "id": "9Ene2Q055qTw",
        "outputId": "936bc92e-24ed-4666-ab79-dca0d9fa8719"
      },
      "execution_count": 5,
      "outputs": [
        {
          "output_type": "execute_result",
          "data": {
            "text/plain": [
              "[3, 7]"
            ]
          },
          "metadata": {},
          "execution_count": 5
        }
      ]
    },
    {
      "cell_type": "markdown",
      "source": [
        "## Object O Programing\n",
        "\n"
      ],
      "metadata": {
        "id": "nNcBZ8Ozj1sA"
      }
    },
    {
      "cell_type": "markdown",
      "source": [
        "## define class\n"
      ],
      "metadata": {
        "id": "qELw3x77yAl4"
      }
    },
    {
      "cell_type": "code",
      "source": [
        "class Student(object):\n",
        "  def __init__(self,name,age):\n",
        "    self.name = name\n",
        "    self.__age = age\n",
        "  def study(self,course_name):\n",
        "    print('%s is studying %s now' %(self.name,course_name))\n",
        "  def __exam(self):\n",
        "    print(self.__age)"
      ],
      "metadata": {
        "id": "zE5kAgiByNdZ"
      },
      "execution_count": 16,
      "outputs": []
    },
    {
      "cell_type": "code",
      "source": [
        "stu1 = Student('xiaoming',23)\n",
        "stu1.study('Math')"
      ],
      "metadata": {
        "colab": {
          "base_uri": "https://localhost:8080/"
        },
        "id": "6KxArv_FylUi",
        "outputId": "3cbbbdf0-9b7e-486e-f1d4-21d33286a0f5"
      },
      "execution_count": 17,
      "outputs": [
        {
          "output_type": "stream",
          "name": "stdout",
          "text": [
            "xiaoming is studying Math now\n"
          ]
        }
      ]
    },
    {
      "cell_type": "markdown",
      "source": [
        "### accessibility\n",
        "\n",
        "\n",
        "> if properties is private, there is __ to be begining. \n",
        "\n"
      ],
      "metadata": {
        "id": "ZhJxmFnr0B--"
      }
    },
    {
      "cell_type": "code",
      "source": [
        "stu1.__exam()"
      ],
      "metadata": {
        "colab": {
          "base_uri": "https://localhost:8080/",
          "height": 169
        },
        "id": "ZE78Af6rz_q2",
        "outputId": "822ee883-6d91-4bd5-deed-6be48f88fc58"
      },
      "execution_count": 18,
      "outputs": [
        {
          "output_type": "error",
          "ename": "AttributeError",
          "evalue": "ignored",
          "traceback": [
            "\u001b[0;31m---------------------------------------------------------------------------\u001b[0m",
            "\u001b[0;31mAttributeError\u001b[0m                            Traceback (most recent call last)",
            "\u001b[0;32m<ipython-input-18-86ed4aece8c6>\u001b[0m in \u001b[0;36m<module>\u001b[0;34m()\u001b[0m\n\u001b[0;32m----> 1\u001b[0;31m \u001b[0mstu1\u001b[0m\u001b[0;34m.\u001b[0m\u001b[0m__exam\u001b[0m\u001b[0;34m(\u001b[0m\u001b[0;34m)\u001b[0m\u001b[0;34m\u001b[0m\u001b[0;34m\u001b[0m\u001b[0m\n\u001b[0m",
            "\u001b[0;31mAttributeError\u001b[0m: 'Student' object has no attribute '__exam'"
          ]
        }
      ]
    },
    {
      "cell_type": "code",
      "source": [
        "print(stu1.__age)"
      ],
      "metadata": {
        "colab": {
          "base_uri": "https://localhost:8080/",
          "height": 169
        },
        "id": "D3EtQ58v1SYP",
        "outputId": "10a4113f-e2b5-45f1-c943-b0df7b9f591b"
      },
      "execution_count": 19,
      "outputs": [
        {
          "output_type": "error",
          "ename": "AttributeError",
          "evalue": "ignored",
          "traceback": [
            "\u001b[0;31m---------------------------------------------------------------------------\u001b[0m",
            "\u001b[0;31mAttributeError\u001b[0m                            Traceback (most recent call last)",
            "\u001b[0;32m<ipython-input-19-736ee6fe1a5c>\u001b[0m in \u001b[0;36m<module>\u001b[0;34m()\u001b[0m\n\u001b[0;32m----> 1\u001b[0;31m \u001b[0mprint\u001b[0m\u001b[0;34m(\u001b[0m\u001b[0mstu1\u001b[0m\u001b[0;34m.\u001b[0m\u001b[0m__age\u001b[0m\u001b[0;34m)\u001b[0m\u001b[0;34m\u001b[0m\u001b[0;34m\u001b[0m\u001b[0m\n\u001b[0m",
            "\u001b[0;31mAttributeError\u001b[0m: 'Student' object has no attribute '__age'"
          ]
        }
      ]
    },
    {
      "cell_type": "code",
      "source": [
        "print(stu1._Student__age)"
      ],
      "metadata": {
        "colab": {
          "base_uri": "https://localhost:8080/"
        },
        "id": "Udb6bn841i8w",
        "outputId": "14e723f0-2fbf-47d6-c52f-9fd2d729424f"
      },
      "execution_count": 21,
      "outputs": [
        {
          "output_type": "stream",
          "name": "stdout",
          "text": [
            "23\n"
          ]
        }
      ]
    },
    {
      "cell_type": "code",
      "source": [
        "stu1._Student__exam()"
      ],
      "metadata": {
        "colab": {
          "base_uri": "https://localhost:8080/"
        },
        "id": "5PiOohMf1tVw",
        "outputId": "a57049bf-09fb-446f-c3a7-fbe2daf4906b"
      },
      "execution_count": 22,
      "outputs": [
        {
          "output_type": "stream",
          "name": "stdout",
          "text": [
            "23\n"
          ]
        }
      ]
    },
    {
      "cell_type": "markdown",
      "source": [
        "### OOP\n",
        "\n",
        "\n",
        "> encapsulation,inheritance,polymorphism\n",
        "\n",
        "\n"
      ],
      "metadata": {
        "id": "-eemU1HJ1741"
      }
    },
    {
      "cell_type": "markdown",
      "source": [
        "#### encapsulation\n",
        "\n",
        "\n",
        "> we encapsulate the data and the munipulation of data. \n",
        "\n"
      ],
      "metadata": {
        "id": "-JKr282_2Tq0"
      }
    },
    {
      "cell_type": "markdown",
      "source": [
        "### @property\n"
      ],
      "metadata": {
        "id": "2-K71ngP39qy"
      }
    },
    {
      "cell_type": "markdown",
      "source": [
        "#### inheritance\n"
      ],
      "metadata": {
        "id": "__QFePsx3Cwi"
      }
    },
    {
      "cell_type": "code",
      "source": [
        ""
      ],
      "metadata": {
        "id": "pNV1ecxZ123s"
      },
      "execution_count": null,
      "outputs": []
    },
    {
      "cell_type": "markdown",
      "source": [
        "## Charpter 13 模块\n",
        "\n",
        "\n",
        "> * 高级的封装: 模块 : 模块就是程序. 保存为.py的文件, 都是一个独立的模块\n",
        "  * 容器（列表、元组、字符串、字典等），是对数据的封装。\n",
        "  * 函数，是对语句的封装。\n",
        "  * 类，是对方法和属性的封装，也就是对函数和数据的封装。\n",
        "\n"
      ],
      "metadata": {
        "id": "Jywcykb2bysE"
      }
    },
    {
      "cell_type": "markdown",
      "source": [
        "#### 命名空间\n",
        "命名空间 表示标识符的可见范围. 在python, 每个模块都会维护一个独立的命名空间,应该把模块名加上,才能够正常使用模块中的函数\n"
      ],
      "metadata": {
        "id": "Sa2vIAiWcrv8"
      }
    },
    {
      "cell_type": "code",
      "execution_count": null,
      "metadata": {
        "colab": {
          "base_uri": "https://localhost:8080/",
          "height": 218
        },
        "id": "sI5olQ8gbhFc",
        "outputId": "0092b874-145c-4231-e3eb-157bad28aea9"
      },
      "outputs": [
        {
          "output_type": "stream",
          "name": "stdout",
          "text": [
            "[1 2 3]\n"
          ]
        },
        {
          "output_type": "error",
          "ename": "NameError",
          "evalue": "ignored",
          "traceback": [
            "\u001b[0;31m---------------------------------------------------------------------------\u001b[0m",
            "\u001b[0;31mNameError\u001b[0m                                 Traceback (most recent call last)",
            "\u001b[0;32m<ipython-input-4-b9eeeb8cd2f3>\u001b[0m in \u001b[0;36m<module>\u001b[0;34m()\u001b[0m\n\u001b[1;32m      1\u001b[0m \u001b[0;32mimport\u001b[0m \u001b[0mnumpy\u001b[0m \u001b[0;32mas\u001b[0m \u001b[0mnp\u001b[0m \u001b[0;31m# np is namespace\u001b[0m\u001b[0;34m\u001b[0m\u001b[0;34m\u001b[0m\u001b[0m\n\u001b[1;32m      2\u001b[0m \u001b[0mprint\u001b[0m\u001b[0;34m(\u001b[0m\u001b[0mnp\u001b[0m\u001b[0;34m.\u001b[0m\u001b[0marray\u001b[0m\u001b[0;34m(\u001b[0m\u001b[0;34m[\u001b[0m\u001b[0;36m1\u001b[0m\u001b[0;34m,\u001b[0m\u001b[0;36m2\u001b[0m\u001b[0;34m,\u001b[0m\u001b[0;36m3\u001b[0m\u001b[0;34m]\u001b[0m\u001b[0;34m)\u001b[0m\u001b[0;34m)\u001b[0m\u001b[0;34m\u001b[0m\u001b[0;34m\u001b[0m\u001b[0m\n\u001b[0;32m----> 3\u001b[0;31m \u001b[0marray\u001b[0m\u001b[0;34m(\u001b[0m\u001b[0;34m[\u001b[0m\u001b[0;36m1\u001b[0m\u001b[0;34m,\u001b[0m\u001b[0;36m2\u001b[0m\u001b[0;34m,\u001b[0m\u001b[0;36m3\u001b[0m\u001b[0;34m]\u001b[0m\u001b[0;34m)\u001b[0m\u001b[0;34m\u001b[0m\u001b[0;34m\u001b[0m\u001b[0m\n\u001b[0m",
            "\u001b[0;31mNameError\u001b[0m: name 'array' is not defined"
          ]
        }
      ],
      "source": [
        "import numpy as np # np is namespace\n",
        "print(np.array([1,2,3]))\n",
        "array([1,2,3])    # without namespace \n"
      ]
    },
    {
      "cell_type": "markdown",
      "source": [
        "#### 三种导入模块的方法\n"
      ],
      "metadata": {
        "id": "Bgd-CyRaeBmV"
      }
    },
    {
      "cell_type": "code",
      "source": [
        "# import 模块名字\n",
        "# from 模块名字 import 函数名\n",
        "from numpy import * # 不推荐\n",
        "# import 模块名 as 新名字\n",
        "import numpy as np"
      ],
      "metadata": {
        "id": "AJB3lElxeIvB"
      },
      "execution_count": null,
      "outputs": []
    },
    {
      "cell_type": "markdown",
      "source": [
        "#### 模块的作用与用法\n",
        "\n",
        "\n",
        "1.   封装组织的python代码\n",
        "2.   python代码的重用\n",
        "\n",
        "\n",
        "\n",
        "\n"
      ],
      "metadata": {
        "id": "Hmo9ApbNeHcP"
      }
    },
    {
      "cell_type": "markdown",
      "source": [
        "#### if name = main 的作用\n",
        "让python 知道该模块是作为程序运行还是导入其他模块中\n"
      ],
      "metadata": {
        "id": "PSF0DDsOgGTC"
      }
    },
    {
      "cell_type": "code",
      "source": [
        "if __name__ = '__main__':\n",
        "  test()\n",
        "# 如果没有这句, 当这个模块导入时, 其中的函数都会跑一遍.\n"
      ],
      "metadata": {
        "id": "FFaarYFweoMC"
      },
      "execution_count": null,
      "outputs": []
    },
    {
      "cell_type": "markdown",
      "source": [
        "#### 搜索路径\n",
        "\n",
        "\n",
        "> 组织中的代码不会放在同一个文件夹中,他会用不同的文件夹来管理. python模块的导入需要一个路径搜索的过程.\n",
        "\n",
        "\n",
        "> 搜索路径有: sys.path\n",
        "\n",
        "\n",
        "> 如果你的模块不在这个搜索路径, 你可以把自己模块的位置添加进来\n",
        "sys.append(path)\n",
        "\n",
        "\n",
        "\n",
        "\n",
        "\n"
      ],
      "metadata": {
        "id": "cqCti76ihEGf"
      }
    },
    {
      "cell_type": "code",
      "source": [
        "import sys\n",
        "sys.path"
      ],
      "metadata": {
        "colab": {
          "base_uri": "https://localhost:8080/"
        },
        "id": "UNfe2FQchh0d",
        "outputId": "4c190a4d-9380-4e0f-8546-415b78966bb5"
      },
      "execution_count": null,
      "outputs": [
        {
          "output_type": "execute_result",
          "data": {
            "text/plain": [
              "['',\n",
              " '/content',\n",
              " '/env/python',\n",
              " '/usr/lib/python37.zip',\n",
              " '/usr/lib/python3.7',\n",
              " '/usr/lib/python3.7/lib-dynload',\n",
              " '/usr/local/lib/python3.7/dist-packages',\n",
              " '/usr/lib/python3/dist-packages',\n",
              " '/usr/local/lib/python3.7/dist-packages/IPython/extensions',\n",
              " '/root/.ipython']"
            ]
          },
          "metadata": {},
          "execution_count": 5
        }
      ]
    },
    {
      "cell_type": "markdown",
      "source": [
        "#### 包\n",
        "\n",
        "\n",
        "> 把模块分门别类地存放在不同的文件夹,然后把各个文件夹的位置告诉python\n",
        "\n",
        "\n",
        "> 步骤:\n",
        "\n",
        "\n",
        "1.   创建一个文件夹用于存放相关的模块,文件夹的名字即是包的名字\n",
        "2.   在文件夹中 创建一个 __init_ _.py 的模块文件, 内容可以为空  (用来告诉python 这是包)\n",
        "3.   将相关的模块放进去\n",
        "\n",
        "\n",
        "\n",
        "\n",
        "\n",
        "\n"
      ],
      "metadata": {
        "id": "PqGtRtI6ieoj"
      }
    },
    {
      "cell_type": "markdown",
      "source": [
        "#### python 标准库的模块的属性 \n",
        "\n",
        "\n",
        "> 怎么看 这个module都有什么\n",
        "\n",
        "\n",
        "1.   import 模块\n",
        "2.   _ _doc_ _ 属性来看简介\n",
        "3.   dir() 函数 查询\n",
        "4.   _ _all_ _ 属性 \n",
        "5.   _ _file_ _属性: 表明这个模块的源代码位置\n",
        "6.   help() \n",
        "\n",
        "\n",
        "\n"
      ],
      "metadata": {
        "id": "r9MC2ZrTmAVN"
      }
    },
    {
      "cell_type": "code",
      "source": [
        "import timeit\n",
        "print(timeit.__doc__)"
      ],
      "metadata": {
        "colab": {
          "base_uri": "https://localhost:8080/"
        },
        "id": "eEO36MS7ihIP",
        "outputId": "c53861c4-d3fe-4d47-8d20-96fadff26057"
      },
      "execution_count": null,
      "outputs": [
        {
          "output_type": "stream",
          "name": "stdout",
          "text": [
            "Tool for measuring execution time of small code snippets.\n",
            "\n",
            "This module avoids a number of common traps for measuring execution\n",
            "times.  See also Tim Peters' introduction to the Algorithms chapter in\n",
            "the Python Cookbook, published by O'Reilly.\n",
            "\n",
            "Library usage: see the Timer class.\n",
            "\n",
            "Command line usage:\n",
            "    python timeit.py [-n N] [-r N] [-s S] [-p] [-h] [--] [statement]\n",
            "\n",
            "Options:\n",
            "  -n/--number N: how many times to execute 'statement' (default: see below)\n",
            "  -r/--repeat N: how many times to repeat the timer (default 5)\n",
            "  -s/--setup S: statement to be executed once initially (default 'pass').\n",
            "                Execution time of this setup statement is NOT timed.\n",
            "  -p/--process: use time.process_time() (default is time.perf_counter())\n",
            "  -v/--verbose: print raw timing results; repeat for more digits precision\n",
            "  -u/--unit: set the output time unit (nsec, usec, msec, or sec)\n",
            "  -h/--help: print this usage message and exit\n",
            "  --: separate options from statement, use when statement starts with -\n",
            "  statement: statement to be timed (default 'pass')\n",
            "\n",
            "A multi-line statement may be given by specifying each line as a\n",
            "separate argument; indented lines are possible by enclosing an\n",
            "argument in quotes and using leading spaces.  Multiple -s options are\n",
            "treated similarly.\n",
            "\n",
            "If -n is not given, a suitable number of loops is calculated by trying\n",
            "increasing numbers from the sequence 1, 2, 5, 10, 20, 50, ... until the\n",
            "total time is at least 0.2 seconds.\n",
            "\n",
            "Note: there is a certain baseline overhead associated with executing a\n",
            "pass statement.  It differs between versions.  The code here doesn't try\n",
            "to hide it, but you should be aware of it.  The baseline overhead can be\n",
            "measured by invoking the program without arguments.\n",
            "\n",
            "Classes:\n",
            "\n",
            "    Timer\n",
            "\n",
            "Functions:\n",
            "\n",
            "    timeit(string, string) -> float\n",
            "    repeat(string, string) -> list\n",
            "    default_timer() -> float\n",
            "\n",
            "\n"
          ]
        }
      ]
    },
    {
      "cell_type": "code",
      "source": [
        "dir(timeit)"
      ],
      "metadata": {
        "colab": {
          "base_uri": "https://localhost:8080/"
        },
        "id": "e97zxC6inkt_",
        "outputId": "37c1baf5-6fe1-4f17-e92b-19d3057cc74b"
      },
      "execution_count": null,
      "outputs": [
        {
          "output_type": "execute_result",
          "data": {
            "text/plain": [
              "['Timer',\n",
              " '__all__',\n",
              " '__builtins__',\n",
              " '__cached__',\n",
              " '__doc__',\n",
              " '__file__',\n",
              " '__loader__',\n",
              " '__name__',\n",
              " '__package__',\n",
              " '__spec__',\n",
              " '_globals',\n",
              " 'default_number',\n",
              " 'default_repeat',\n",
              " 'default_timer',\n",
              " 'dummy_src_name',\n",
              " 'gc',\n",
              " 'itertools',\n",
              " 'main',\n",
              " 'reindent',\n",
              " 'repeat',\n",
              " 'sys',\n",
              " 'template',\n",
              " 'time',\n",
              " 'timeit']"
            ]
          },
          "metadata": {},
          "execution_count": 9
        }
      ]
    },
    {
      "cell_type": "code",
      "source": [
        "timeit.__all__  # 可以获取可供调用接口的信息"
      ],
      "metadata": {
        "colab": {
          "base_uri": "https://localhost:8080/"
        },
        "id": "aC9oJE_ZnuHy",
        "outputId": "0a9c96ec-fab7-4b0c-a563-4cfa47a8b90e"
      },
      "execution_count": null,
      "outputs": [
        {
          "output_type": "execute_result",
          "data": {
            "text/plain": [
              "['Timer', 'timeit', 'repeat', 'default_timer']"
            ]
          },
          "metadata": {},
          "execution_count": 10
        }
      ]
    },
    {
      "cell_type": "markdown",
      "source": [
        ""
      ],
      "metadata": {
        "id": "s7be9cnrm544"
      }
    },
    {
      "cell_type": "code",
      "source": [
        ""
      ],
      "metadata": {
        "id": "q6wC5LKtnxsV"
      },
      "execution_count": null,
      "outputs": []
    }
  ]
}