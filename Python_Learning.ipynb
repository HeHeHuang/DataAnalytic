{
  "nbformat": 4,
  "nbformat_minor": 0,
  "metadata": {
    "colab": {
      "name": "Python_Learning.ipynb",
      "provenance": [],
      "collapsed_sections": [
        "cqCti76ihEGf"
      ],
      "authorship_tag": "ABX9TyPRHRYbvfIo/KU1DWyuFCGq",
      "include_colab_link": true
    },
    "kernelspec": {
      "name": "python3",
      "display_name": "Python 3"
    },
    "language_info": {
      "name": "python"
    }
  },
  "cells": [
    {
      "cell_type": "markdown",
      "metadata": {
        "id": "view-in-github",
        "colab_type": "text"
      },
      "source": [
        "<a href=\"https://colab.research.google.com/github/HeHeHuang/DataScientist/blob/main/Python_Learning.ipynb\" target=\"_parent\"><img src=\"https://colab.research.google.com/assets/colab-badge.svg\" alt=\"Open In Colab\"/></a>"
      ]
    },
    {
      "cell_type": "markdown",
      "source": [
        "# This Turtorial help to have basic understanding of Python\n"
      ],
      "metadata": {
        "id": "GeV6LELrjatH"
      }
    },
    {
      "cell_type": "markdown",
      "source": [
        "## data structure\n"
      ],
      "metadata": {
        "id": "3JoXt5IU7VYS"
      }
    },
    {
      "cell_type": "markdown",
      "source": [
        "### list\n"
      ],
      "metadata": {
        "id": "qmaRArCu7cDc"
      }
    },
    {
      "cell_type": "code",
      "source": [
        "myList = [1,2,3]"
      ],
      "metadata": {
        "id": "0vOMd3Jz9lBY"
      },
      "execution_count": null,
      "outputs": []
    },
    {
      "cell_type": "markdown",
      "source": [
        "### turple\n"
      ],
      "metadata": {
        "id": "qqC_8Mxa7dmh"
      }
    },
    {
      "cell_type": "markdown",
      "source": [
        "### dict\n"
      ],
      "metadata": {
        "id": "_QVBaVx67f2y"
      }
    },
    {
      "cell_type": "code",
      "source": [
        "myDict = {'key' :'key1', 'value' : 'v1'}"
      ],
      "metadata": {
        "id": "kxaQRxhe9sqr"
      },
      "execution_count": null,
      "outputs": []
    },
    {
      "cell_type": "markdown",
      "source": [
        "#### ADRC\n"
      ],
      "metadata": {
        "id": "DvBA4Nsv93pS"
      }
    },
    {
      "cell_type": "markdown",
      "source": [
        "### \n"
      ],
      "metadata": {
        "id": "_8kQwmW37h94"
      }
    },
    {
      "cell_type": "code",
      "source": [
        ""
      ],
      "metadata": {
        "id": "CPyKcp3h7bQi"
      },
      "execution_count": null,
      "outputs": []
    },
    {
      "cell_type": "markdown",
      "source": [
        "#### list slice\n",
        "list[start:end:step]\n",
        "contain start but not contain end. index from 0"
      ],
      "metadata": {
        "id": "amnAq5Lo6HMA"
      }
    },
    {
      "cell_type": "code",
      "source": [
        "myList = [1,3,5,7]\n",
        "myList[1:5:2]"
      ],
      "metadata": {
        "colab": {
          "base_uri": "https://localhost:8080/"
        },
        "id": "9Ene2Q055qTw",
        "outputId": "936bc92e-24ed-4666-ab79-dca0d9fa8719"
      },
      "execution_count": 5,
      "outputs": [
        {
          "output_type": "execute_result",
          "data": {
            "text/plain": [
              "[3, 7]"
            ]
          },
          "metadata": {},
          "execution_count": 5
        }
      ]
    },
    {
      "cell_type": "code",
      "source": [
        "#reverse the string\n",
        "str = 'to be or not to be'\n",
        "str[::-1]"
      ],
      "metadata": {
        "colab": {
          "base_uri": "https://localhost:8080/",
          "height": 35
        },
        "id": "7LjButLH7DN9",
        "outputId": "3e431fb8-5ab0-43b5-f819-a01325b110ce"
      },
      "execution_count": 6,
      "outputs": [
        {
          "output_type": "execute_result",
          "data": {
            "text/plain": [
              "'eb ot ton ro eb ot'"
            ],
            "application/vnd.google.colaboratory.intrinsic+json": {
              "type": "string"
            }
          },
          "metadata": {},
          "execution_count": 6
        }
      ]
    },
    {
      "cell_type": "code",
      "source": [
        "#take all s\n",
        "str = 'sxtsxtsxtsxt'\n",
        "str[::3]"
      ],
      "metadata": {
        "colab": {
          "base_uri": "https://localhost:8080/",
          "height": 35
        },
        "id": "32OeSsXa7LHF",
        "outputId": "ddabc2da-f6d2-410d-9aa2-f3ef9fbd54f3"
      },
      "execution_count": 8,
      "outputs": [
        {
          "output_type": "execute_result",
          "data": {
            "text/plain": [
              "'ssss'"
            ],
            "application/vnd.google.colaboratory.intrinsic+json": {
              "type": "string"
            }
          },
          "metadata": {},
          "execution_count": 8
        }
      ]
    },
    {
      "cell_type": "markdown",
      "source": [
        "##### Split()\n",
        "Split() based on the 分隔符 eg: space to split the string into list, if not mention, the default will be space \n",
        "\n"
      ],
      "metadata": {
        "id": "eGTsnma8-A3G"
      }
    },
    {
      "cell_type": "code",
      "source": [
        "str2 = 'to be or not to be'\n",
        "str2.split()\n",
        "str2.split('be')"
      ],
      "metadata": {
        "colab": {
          "base_uri": "https://localhost:8080/"
        },
        "id": "ohqh59Vu-bPt",
        "outputId": "15778f7b-c860-467b-af42-366f6e825059"
      },
      "execution_count": 10,
      "outputs": [
        {
          "output_type": "execute_result",
          "data": {
            "text/plain": [
              "['to ', ' or not to ', '']"
            ]
          },
          "metadata": {},
          "execution_count": 10
        }
      ]
    },
    {
      "cell_type": "markdown",
      "source": [
        "##### Join() \n",
        "connect all the string from  one list"
      ],
      "metadata": {
        "id": "mAVXJMDh-xlo"
      }
    },
    {
      "cell_type": "code",
      "source": [
        "myList2 = ['to','be','or','not','to','be']\n",
        "\"\".join(myList2)"
      ],
      "metadata": {
        "colab": {
          "base_uri": "https://localhost:8080/",
          "height": 35
        },
        "id": "-1jI-E4o_Arq",
        "outputId": "8700c855-42ee-467e-dfb4-991012d4d1c7"
      },
      "execution_count": 11,
      "outputs": [
        {
          "output_type": "execute_result",
          "data": {
            "text/plain": [
              "'tobeornottobe'"
            ],
            "application/vnd.google.colaboratory.intrinsic+json": {
              "type": "string"
            }
          },
          "metadata": {},
          "execution_count": 11
        }
      ]
    },
    {
      "cell_type": "markdown",
      "source": [
        "compare to '+\" \n",
        "\n",
        "\n",
        "> join only create one time object, but 'a'+'b'+'c' will create three times\n",
        "\n"
      ],
      "metadata": {
        "id": "ImuhHhkP_avx"
      }
    },
    {
      "cell_type": "markdown",
      "source": [
        "## Object O Programing\n",
        "\n"
      ],
      "metadata": {
        "id": "nNcBZ8Ozj1sA"
      }
    },
    {
      "cell_type": "markdown",
      "source": [
        "## define class\n"
      ],
      "metadata": {
        "id": "qELw3x77yAl4"
      }
    },
    {
      "cell_type": "code",
      "source": [
        "class Student(object):\n",
        "  def __init__(self,name,age):\n",
        "    self.name = name\n",
        "    self.__age = age\n",
        "  def study(self,course_name):\n",
        "    print('%s is studying %s now' %(self.name,course_name))\n",
        "  def __exam(self):\n",
        "    print(self.__age)"
      ],
      "metadata": {
        "id": "zE5kAgiByNdZ"
      },
      "execution_count": 16,
      "outputs": []
    },
    {
      "cell_type": "code",
      "source": [
        "stu1 = Student('xiaoming',23)\n",
        "stu1.study('Math')"
      ],
      "metadata": {
        "colab": {
          "base_uri": "https://localhost:8080/"
        },
        "id": "6KxArv_FylUi",
        "outputId": "3cbbbdf0-9b7e-486e-f1d4-21d33286a0f5"
      },
      "execution_count": 17,
      "outputs": [
        {
          "output_type": "stream",
          "name": "stdout",
          "text": [
            "xiaoming is studying Math now\n"
          ]
        }
      ]
    },
    {
      "cell_type": "markdown",
      "source": [
        "### accessibility\n",
        "\n",
        "\n",
        "> if properties is private, there is __ to be begining. \n",
        "\n"
      ],
      "metadata": {
        "id": "ZhJxmFnr0B--"
      }
    },
    {
      "cell_type": "code",
      "source": [
        "stu1.__exam()"
      ],
      "metadata": {
        "colab": {
          "base_uri": "https://localhost:8080/",
          "height": 169
        },
        "id": "ZE78Af6rz_q2",
        "outputId": "822ee883-6d91-4bd5-deed-6be48f88fc58"
      },
      "execution_count": 18,
      "outputs": [
        {
          "output_type": "error",
          "ename": "AttributeError",
          "evalue": "ignored",
          "traceback": [
            "\u001b[0;31m---------------------------------------------------------------------------\u001b[0m",
            "\u001b[0;31mAttributeError\u001b[0m                            Traceback (most recent call last)",
            "\u001b[0;32m<ipython-input-18-86ed4aece8c6>\u001b[0m in \u001b[0;36m<module>\u001b[0;34m()\u001b[0m\n\u001b[0;32m----> 1\u001b[0;31m \u001b[0mstu1\u001b[0m\u001b[0;34m.\u001b[0m\u001b[0m__exam\u001b[0m\u001b[0;34m(\u001b[0m\u001b[0;34m)\u001b[0m\u001b[0;34m\u001b[0m\u001b[0;34m\u001b[0m\u001b[0m\n\u001b[0m",
            "\u001b[0;31mAttributeError\u001b[0m: 'Student' object has no attribute '__exam'"
          ]
        }
      ]
    },
    {
      "cell_type": "code",
      "source": [
        "print(stu1.__age)"
      ],
      "metadata": {
        "colab": {
          "base_uri": "https://localhost:8080/",
          "height": 169
        },
        "id": "D3EtQ58v1SYP",
        "outputId": "10a4113f-e2b5-45f1-c943-b0df7b9f591b"
      },
      "execution_count": 19,
      "outputs": [
        {
          "output_type": "error",
          "ename": "AttributeError",
          "evalue": "ignored",
          "traceback": [
            "\u001b[0;31m---------------------------------------------------------------------------\u001b[0m",
            "\u001b[0;31mAttributeError\u001b[0m                            Traceback (most recent call last)",
            "\u001b[0;32m<ipython-input-19-736ee6fe1a5c>\u001b[0m in \u001b[0;36m<module>\u001b[0;34m()\u001b[0m\n\u001b[0;32m----> 1\u001b[0;31m \u001b[0mprint\u001b[0m\u001b[0;34m(\u001b[0m\u001b[0mstu1\u001b[0m\u001b[0;34m.\u001b[0m\u001b[0m__age\u001b[0m\u001b[0;34m)\u001b[0m\u001b[0;34m\u001b[0m\u001b[0;34m\u001b[0m\u001b[0m\n\u001b[0m",
            "\u001b[0;31mAttributeError\u001b[0m: 'Student' object has no attribute '__age'"
          ]
        }
      ]
    },
    {
      "cell_type": "code",
      "source": [
        "print(stu1._Student__age)"
      ],
      "metadata": {
        "colab": {
          "base_uri": "https://localhost:8080/"
        },
        "id": "Udb6bn841i8w",
        "outputId": "14e723f0-2fbf-47d6-c52f-9fd2d729424f"
      },
      "execution_count": 21,
      "outputs": [
        {
          "output_type": "stream",
          "name": "stdout",
          "text": [
            "23\n"
          ]
        }
      ]
    },
    {
      "cell_type": "code",
      "source": [
        "stu1._Student__exam()"
      ],
      "metadata": {
        "colab": {
          "base_uri": "https://localhost:8080/"
        },
        "id": "5PiOohMf1tVw",
        "outputId": "a57049bf-09fb-446f-c3a7-fbe2daf4906b"
      },
      "execution_count": 22,
      "outputs": [
        {
          "output_type": "stream",
          "name": "stdout",
          "text": [
            "23\n"
          ]
        }
      ]
    },
    {
      "cell_type": "markdown",
      "source": [
        "### OOP\n",
        "\n",
        "\n",
        "> encapsulation,inheritance,polymorphism\n",
        "\n",
        "\n"
      ],
      "metadata": {
        "id": "-eemU1HJ1741"
      }
    },
    {
      "cell_type": "markdown",
      "source": [
        "#### encapsulation\n",
        "\n",
        "\n",
        "> we encapsulate the data and the munipulation of data. \n",
        "\n"
      ],
      "metadata": {
        "id": "-JKr282_2Tq0"
      }
    },
    {
      "cell_type": "markdown",
      "source": [
        "### @property\n"
      ],
      "metadata": {
        "id": "2-K71ngP39qy"
      }
    },
    {
      "cell_type": "markdown",
      "source": [
        "#### inheritance\n"
      ],
      "metadata": {
        "id": "__QFePsx3Cwi"
      }
    },
    {
      "cell_type": "code",
      "source": [
        ""
      ],
      "metadata": {
        "id": "pNV1ecxZ123s"
      },
      "execution_count": null,
      "outputs": []
    },
    {
      "cell_type": "markdown",
      "source": [
        "## Charpter 13 模块\n",
        "\n",
        "\n",
        "> * 高级的封装: 模块 : 模块就是程序. 保存为.py的文件, 都是一个独立的模块\n",
        "  * 容器（列表、元组、字符串、字典等），是对数据的封装。\n",
        "  * 函数，是对语句的封装。\n",
        "  * 类，是对方法和属性的封装，也就是对函数和数据的封装。\n",
        "\n"
      ],
      "metadata": {
        "id": "Jywcykb2bysE"
      }
    },
    {
      "cell_type": "markdown",
      "source": [
        "#### 命名空间\n",
        "命名空间 表示标识符的可见范围. 在python, 每个模块都会维护一个独立的命名空间,应该把模块名加上,才能够正常使用模块中的函数\n"
      ],
      "metadata": {
        "id": "Sa2vIAiWcrv8"
      }
    },
    {
      "cell_type": "code",
      "execution_count": null,
      "metadata": {
        "colab": {
          "base_uri": "https://localhost:8080/",
          "height": 218
        },
        "id": "sI5olQ8gbhFc",
        "outputId": "0092b874-145c-4231-e3eb-157bad28aea9"
      },
      "outputs": [
        {
          "output_type": "stream",
          "name": "stdout",
          "text": [
            "[1 2 3]\n"
          ]
        },
        {
          "output_type": "error",
          "ename": "NameError",
          "evalue": "ignored",
          "traceback": [
            "\u001b[0;31m---------------------------------------------------------------------------\u001b[0m",
            "\u001b[0;31mNameError\u001b[0m                                 Traceback (most recent call last)",
            "\u001b[0;32m<ipython-input-4-b9eeeb8cd2f3>\u001b[0m in \u001b[0;36m<module>\u001b[0;34m()\u001b[0m\n\u001b[1;32m      1\u001b[0m \u001b[0;32mimport\u001b[0m \u001b[0mnumpy\u001b[0m \u001b[0;32mas\u001b[0m \u001b[0mnp\u001b[0m \u001b[0;31m# np is namespace\u001b[0m\u001b[0;34m\u001b[0m\u001b[0;34m\u001b[0m\u001b[0m\n\u001b[1;32m      2\u001b[0m \u001b[0mprint\u001b[0m\u001b[0;34m(\u001b[0m\u001b[0mnp\u001b[0m\u001b[0;34m.\u001b[0m\u001b[0marray\u001b[0m\u001b[0;34m(\u001b[0m\u001b[0;34m[\u001b[0m\u001b[0;36m1\u001b[0m\u001b[0;34m,\u001b[0m\u001b[0;36m2\u001b[0m\u001b[0;34m,\u001b[0m\u001b[0;36m3\u001b[0m\u001b[0;34m]\u001b[0m\u001b[0;34m)\u001b[0m\u001b[0;34m)\u001b[0m\u001b[0;34m\u001b[0m\u001b[0;34m\u001b[0m\u001b[0m\n\u001b[0;32m----> 3\u001b[0;31m \u001b[0marray\u001b[0m\u001b[0;34m(\u001b[0m\u001b[0;34m[\u001b[0m\u001b[0;36m1\u001b[0m\u001b[0;34m,\u001b[0m\u001b[0;36m2\u001b[0m\u001b[0;34m,\u001b[0m\u001b[0;36m3\u001b[0m\u001b[0;34m]\u001b[0m\u001b[0;34m)\u001b[0m\u001b[0;34m\u001b[0m\u001b[0;34m\u001b[0m\u001b[0m\n\u001b[0m",
            "\u001b[0;31mNameError\u001b[0m: name 'array' is not defined"
          ]
        }
      ],
      "source": [
        "import numpy as np # np is namespace\n",
        "print(np.array([1,2,3]))\n",
        "array([1,2,3])    # without namespace \n"
      ]
    },
    {
      "cell_type": "markdown",
      "source": [
        "#### 三种导入模块的方法\n"
      ],
      "metadata": {
        "id": "Bgd-CyRaeBmV"
      }
    },
    {
      "cell_type": "code",
      "source": [
        "# import 模块名字\n",
        "# from 模块名字 import 函数名\n",
        "from numpy import * # 不推荐\n",
        "# import 模块名 as 新名字\n",
        "import numpy as np"
      ],
      "metadata": {
        "id": "AJB3lElxeIvB"
      },
      "execution_count": null,
      "outputs": []
    },
    {
      "cell_type": "markdown",
      "source": [
        "#### 模块的作用与用法\n",
        "\n",
        "\n",
        "1.   封装组织的python代码\n",
        "2.   python代码的重用\n",
        "\n",
        "\n",
        "\n",
        "\n"
      ],
      "metadata": {
        "id": "Hmo9ApbNeHcP"
      }
    },
    {
      "cell_type": "markdown",
      "source": [
        "#### if name = main 的作用\n",
        "让python 知道该模块是作为程序运行还是导入其他模块中\n"
      ],
      "metadata": {
        "id": "PSF0DDsOgGTC"
      }
    },
    {
      "cell_type": "code",
      "source": [
        "if __name__ = '__main__':\n",
        "  test()\n",
        "# 如果没有这句, 当这个模块导入时, 其中的函数都会跑一遍.\n"
      ],
      "metadata": {
        "id": "FFaarYFweoMC"
      },
      "execution_count": null,
      "outputs": []
    },
    {
      "cell_type": "markdown",
      "source": [
        "#### 搜索路径\n",
        "\n",
        "\n",
        "> 组织中的代码不会放在同一个文件夹中,他会用不同的文件夹来管理. python模块的导入需要一个路径搜索的过程.\n",
        "\n",
        "\n",
        "> 搜索路径有: sys.path\n",
        "\n",
        "\n",
        "> 如果你的模块不在这个搜索路径, 你可以把自己模块的位置添加进来\n",
        "sys.append(path)\n",
        "\n",
        "\n",
        "\n",
        "\n",
        "\n"
      ],
      "metadata": {
        "id": "cqCti76ihEGf"
      }
    },
    {
      "cell_type": "code",
      "source": [
        "import sys\n",
        "sys.path"
      ],
      "metadata": {
        "colab": {
          "base_uri": "https://localhost:8080/"
        },
        "id": "UNfe2FQchh0d",
        "outputId": "4c190a4d-9380-4e0f-8546-415b78966bb5"
      },
      "execution_count": null,
      "outputs": [
        {
          "output_type": "execute_result",
          "data": {
            "text/plain": [
              "['',\n",
              " '/content',\n",
              " '/env/python',\n",
              " '/usr/lib/python37.zip',\n",
              " '/usr/lib/python3.7',\n",
              " '/usr/lib/python3.7/lib-dynload',\n",
              " '/usr/local/lib/python3.7/dist-packages',\n",
              " '/usr/lib/python3/dist-packages',\n",
              " '/usr/local/lib/python3.7/dist-packages/IPython/extensions',\n",
              " '/root/.ipython']"
            ]
          },
          "metadata": {},
          "execution_count": 5
        }
      ]
    },
    {
      "cell_type": "markdown",
      "source": [
        "#### 包\n",
        "\n",
        "\n",
        "> 把模块分门别类地存放在不同的文件夹,然后把各个文件夹的位置告诉python\n",
        "\n",
        "\n",
        "> 步骤:\n",
        "\n",
        "\n",
        "1.   创建一个文件夹用于存放相关的模块,文件夹的名字即是包的名字\n",
        "2.   在文件夹中 创建一个 __init_ _.py 的模块文件, 内容可以为空  (用来告诉python 这是包)\n",
        "3.   将相关的模块放进去\n",
        "\n",
        "\n",
        "\n",
        "\n",
        "\n",
        "\n"
      ],
      "metadata": {
        "id": "PqGtRtI6ieoj"
      }
    },
    {
      "cell_type": "markdown",
      "source": [
        "#### python 标准库的模块的属性 \n",
        "\n",
        "\n",
        "> 怎么看 这个module都有什么\n",
        "\n",
        "\n",
        "1.   import 模块\n",
        "2.   _ _doc_ _ 属性来看简介\n",
        "3.   dir() 函数 查询\n",
        "4.   _ _all_ _ 属性 \n",
        "5.   _ _file_ _属性: 表明这个模块的源代码位置\n",
        "6.   help() \n",
        "\n",
        "\n",
        "\n"
      ],
      "metadata": {
        "id": "r9MC2ZrTmAVN"
      }
    },
    {
      "cell_type": "code",
      "source": [
        "import timeit\n",
        "print(timeit.__doc__)"
      ],
      "metadata": {
        "colab": {
          "base_uri": "https://localhost:8080/"
        },
        "id": "eEO36MS7ihIP",
        "outputId": "c53861c4-d3fe-4d47-8d20-96fadff26057"
      },
      "execution_count": null,
      "outputs": [
        {
          "output_type": "stream",
          "name": "stdout",
          "text": [
            "Tool for measuring execution time of small code snippets.\n",
            "\n",
            "This module avoids a number of common traps for measuring execution\n",
            "times.  See also Tim Peters' introduction to the Algorithms chapter in\n",
            "the Python Cookbook, published by O'Reilly.\n",
            "\n",
            "Library usage: see the Timer class.\n",
            "\n",
            "Command line usage:\n",
            "    python timeit.py [-n N] [-r N] [-s S] [-p] [-h] [--] [statement]\n",
            "\n",
            "Options:\n",
            "  -n/--number N: how many times to execute 'statement' (default: see below)\n",
            "  -r/--repeat N: how many times to repeat the timer (default 5)\n",
            "  -s/--setup S: statement to be executed once initially (default 'pass').\n",
            "                Execution time of this setup statement is NOT timed.\n",
            "  -p/--process: use time.process_time() (default is time.perf_counter())\n",
            "  -v/--verbose: print raw timing results; repeat for more digits precision\n",
            "  -u/--unit: set the output time unit (nsec, usec, msec, or sec)\n",
            "  -h/--help: print this usage message and exit\n",
            "  --: separate options from statement, use when statement starts with -\n",
            "  statement: statement to be timed (default 'pass')\n",
            "\n",
            "A multi-line statement may be given by specifying each line as a\n",
            "separate argument; indented lines are possible by enclosing an\n",
            "argument in quotes and using leading spaces.  Multiple -s options are\n",
            "treated similarly.\n",
            "\n",
            "If -n is not given, a suitable number of loops is calculated by trying\n",
            "increasing numbers from the sequence 1, 2, 5, 10, 20, 50, ... until the\n",
            "total time is at least 0.2 seconds.\n",
            "\n",
            "Note: there is a certain baseline overhead associated with executing a\n",
            "pass statement.  It differs between versions.  The code here doesn't try\n",
            "to hide it, but you should be aware of it.  The baseline overhead can be\n",
            "measured by invoking the program without arguments.\n",
            "\n",
            "Classes:\n",
            "\n",
            "    Timer\n",
            "\n",
            "Functions:\n",
            "\n",
            "    timeit(string, string) -> float\n",
            "    repeat(string, string) -> list\n",
            "    default_timer() -> float\n",
            "\n",
            "\n"
          ]
        }
      ]
    },
    {
      "cell_type": "code",
      "source": [
        "dir(timeit)"
      ],
      "metadata": {
        "colab": {
          "base_uri": "https://localhost:8080/"
        },
        "id": "e97zxC6inkt_",
        "outputId": "37c1baf5-6fe1-4f17-e92b-19d3057cc74b"
      },
      "execution_count": null,
      "outputs": [
        {
          "output_type": "execute_result",
          "data": {
            "text/plain": [
              "['Timer',\n",
              " '__all__',\n",
              " '__builtins__',\n",
              " '__cached__',\n",
              " '__doc__',\n",
              " '__file__',\n",
              " '__loader__',\n",
              " '__name__',\n",
              " '__package__',\n",
              " '__spec__',\n",
              " '_globals',\n",
              " 'default_number',\n",
              " 'default_repeat',\n",
              " 'default_timer',\n",
              " 'dummy_src_name',\n",
              " 'gc',\n",
              " 'itertools',\n",
              " 'main',\n",
              " 'reindent',\n",
              " 'repeat',\n",
              " 'sys',\n",
              " 'template',\n",
              " 'time',\n",
              " 'timeit']"
            ]
          },
          "metadata": {},
          "execution_count": 9
        }
      ]
    },
    {
      "cell_type": "code",
      "source": [
        "timeit.__all__  # 可以获取可供调用接口的信息"
      ],
      "metadata": {
        "colab": {
          "base_uri": "https://localhost:8080/"
        },
        "id": "aC9oJE_ZnuHy",
        "outputId": "0a9c96ec-fab7-4b0c-a563-4cfa47a8b90e"
      },
      "execution_count": null,
      "outputs": [
        {
          "output_type": "execute_result",
          "data": {
            "text/plain": [
              "['Timer', 'timeit', 'repeat', 'default_timer']"
            ]
          },
          "metadata": {},
          "execution_count": 10
        }
      ]
    },
    {
      "cell_type": "markdown",
      "source": [
        ""
      ],
      "metadata": {
        "id": "s7be9cnrm544"
      }
    },
    {
      "cell_type": "code",
      "source": [
        ""
      ],
      "metadata": {
        "id": "q6wC5LKtnxsV"
      },
      "execution_count": null,
      "outputs": []
    }
  ]
}