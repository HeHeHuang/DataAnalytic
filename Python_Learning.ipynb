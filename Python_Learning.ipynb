{
  "nbformat": 4,
  "nbformat_minor": 0,
  "metadata": {
    "colab": {
      "name": "Python_Learning.ipynb",
      "provenance": [],
      "collapsed_sections": [
        "FArhYqxrAaFi",
        "zlj1e3o6x6dG",
        "yxnKkzHXzws9",
        "cqCti76ihEGf"
      ],
      "authorship_tag": "ABX9TyP/npS3wn2fU6s93oMyiypU",
      "include_colab_link": true
    },
    "kernelspec": {
      "name": "python3",
      "display_name": "Python 3"
    },
    "language_info": {
      "name": "python"
    }
  },
  "cells": [
    {
      "cell_type": "markdown",
      "metadata": {
        "id": "view-in-github",
        "colab_type": "text"
      },
      "source": [
        "<a href=\"https://colab.research.google.com/github/HeHeHuang/DataScientist/blob/main/Python_Learning.ipynb\" target=\"_parent\"><img src=\"https://colab.research.google.com/assets/colab-badge.svg\" alt=\"Open In Colab\"/></a>"
      ]
    },
    {
      "cell_type": "markdown",
      "source": [
        "# This Turtorial help to have basic understanding of Python\n"
      ],
      "metadata": {
        "id": "GeV6LELrjatH"
      }
    },
    {
      "cell_type": "markdown",
      "source": [
        "### String\n"
      ],
      "metadata": {
        "id": "FArhYqxrAaFi"
      }
    },
    {
      "cell_type": "code",
      "source": [
        "#reverse the string\n",
        "str1 = 'to be or not to be'\n",
        "str1[::-1]"
      ],
      "metadata": {
        "colab": {
          "base_uri": "https://localhost:8080/",
          "height": 35
        },
        "id": "7LjButLH7DN9",
        "outputId": "cfd7f8fc-cbc0-4e57-9bc7-1c87da384d9c"
      },
      "execution_count": 20,
      "outputs": [
        {
          "output_type": "execute_result",
          "data": {
            "text/plain": [
              "'eb ot ton ro eb ot'"
            ],
            "application/vnd.google.colaboratory.intrinsic+json": {
              "type": "string"
            }
          },
          "metadata": {},
          "execution_count": 20
        }
      ]
    },
    {
      "cell_type": "code",
      "source": [
        "#take all s\n",
        "str1 = 'sxtsxtsxtsxt'\n",
        "str1[::3]"
      ],
      "metadata": {
        "colab": {
          "base_uri": "https://localhost:8080/",
          "height": 35
        },
        "id": "32OeSsXa7LHF",
        "outputId": "46fc8635-52ba-4a90-c38c-f44e51602b43"
      },
      "execution_count": 21,
      "outputs": [
        {
          "output_type": "execute_result",
          "data": {
            "text/plain": [
              "'ssss'"
            ],
            "application/vnd.google.colaboratory.intrinsic+json": {
              "type": "string"
            }
          },
          "metadata": {},
          "execution_count": 21
        }
      ]
    },
    {
      "cell_type": "markdown",
      "source": [
        ""
      ],
      "metadata": {
        "id": "blYO3QSuAX5v"
      }
    },
    {
      "cell_type": "markdown",
      "source": [
        "##### Split()\n",
        "Split() based on the 分隔符 eg: space to split the string into list, if not mention, the default will be space \n",
        "\n"
      ],
      "metadata": {
        "id": "eGTsnma8-A3G"
      }
    },
    {
      "cell_type": "code",
      "source": [
        "str2 = 'to be or not to be'\n",
        "str2.split()\n",
        "str2.split('be')"
      ],
      "metadata": {
        "colab": {
          "base_uri": "https://localhost:8080/"
        },
        "id": "ohqh59Vu-bPt",
        "outputId": "15778f7b-c860-467b-af42-366f6e825059"
      },
      "execution_count": 10,
      "outputs": [
        {
          "output_type": "execute_result",
          "data": {
            "text/plain": [
              "['to ', ' or not to ', '']"
            ]
          },
          "metadata": {},
          "execution_count": 10
        }
      ]
    },
    {
      "cell_type": "markdown",
      "source": [
        "##### Join() \n",
        "connect all the string from  one list"
      ],
      "metadata": {
        "id": "mAVXJMDh-xlo"
      }
    },
    {
      "cell_type": "code",
      "source": [
        "myList2 = ['to','be','or','not','to','be']\n",
        "\"\".join(myList2)"
      ],
      "metadata": {
        "colab": {
          "base_uri": "https://localhost:8080/",
          "height": 35
        },
        "id": "-1jI-E4o_Arq",
        "outputId": "8700c855-42ee-467e-dfb4-991012d4d1c7"
      },
      "execution_count": 11,
      "outputs": [
        {
          "output_type": "execute_result",
          "data": {
            "text/plain": [
              "'tobeornottobe'"
            ],
            "application/vnd.google.colaboratory.intrinsic+json": {
              "type": "string"
            }
          },
          "metadata": {},
          "execution_count": 11
        }
      ]
    },
    {
      "cell_type": "markdown",
      "source": [
        "compare to '+\" \n",
        "\n",
        "\n",
        "> join only create one time object, but 'a'+'b'+'c' will create three times\n",
        "\n"
      ],
      "metadata": {
        "id": "ImuhHhkP_avx"
      }
    },
    {
      "cell_type": "markdown",
      "source": [
        "##### test the time performance between '+' and join()"
      ],
      "metadata": {
        "id": "ku-5zk4CAno7"
      }
    },
    {
      "cell_type": "code",
      "source": [
        "import time\n",
        "time01 = time.time()\n",
        "str1=\"\"\n",
        "for i in range(100000):\n",
        "  str1 +='sxt'\n",
        "time02 = time.time()\n",
        "\n",
        "print(  'time performance' +str(time02-time01 ))"
      ],
      "metadata": {
        "colab": {
          "base_uri": "https://localhost:8080/"
        },
        "id": "wnON3AUvBNcn",
        "outputId": "f03b445c-8948-427a-9149-5fee048ed966"
      },
      "execution_count": 33,
      "outputs": [
        {
          "output_type": "stream",
          "name": "stdout",
          "text": [
            "0.021720170974731445\n"
          ]
        }
      ]
    },
    {
      "cell_type": "code",
      "source": [
        "import time\n",
        "time01 = time.time()\n",
        "li = []\n",
        "for i in range(100000):\n",
        "  li.append('sxt')\n",
        "a = \"\".join(li)  \n",
        "time02 = time.time()\n",
        "\n",
        "print(  time02-time01 )"
      ],
      "metadata": {
        "colab": {
          "base_uri": "https://localhost:8080/"
        },
        "id": "o4xE3osgC27A",
        "outputId": "90dcd153-2a03-44df-f464-d980523e92e4"
      },
      "execution_count": 34,
      "outputs": [
        {
          "output_type": "stream",
          "name": "stdout",
          "text": [
            "0.018254756927490234\n"
          ]
        }
      ]
    },
    {
      "cell_type": "markdown",
      "source": [
        "error: 'str' object is not callable\n",
        "\n",
        "> the error is because the str is used to be variable, therefore it impact the str() \n",
        "\n"
      ],
      "metadata": {
        "id": "JNRNh3h1CDbg"
      }
    },
    {
      "cell_type": "code",
      "source": [
        "import time\n",
        "time01 = time.time()\n",
        "str1=\"\"\n",
        "for i in range(100000):\n",
        "  str1 +='sxt'\n",
        "time02 = time.time()\n",
        "\n",
        "print(  'time performance' +str(time02-time01 ))"
      ],
      "metadata": {
        "colab": {
          "base_uri": "https://localhost:8080/",
          "height": 240
        },
        "id": "I73f6l5hECfK",
        "outputId": "92e2e43f-3093-4d07-cdf1-48a734456f80"
      },
      "execution_count": 35,
      "outputs": [
        {
          "output_type": "error",
          "ename": "TypeError",
          "evalue": "ignored",
          "traceback": [
            "\u001b[0;31m---------------------------------------------------------------------------\u001b[0m",
            "\u001b[0;31mTypeError\u001b[0m                                 Traceback (most recent call last)",
            "\u001b[0;32m<ipython-input-35-3d1e003453ea>\u001b[0m in \u001b[0;36m<module>\u001b[0;34m()\u001b[0m\n\u001b[1;32m      6\u001b[0m \u001b[0mtime02\u001b[0m \u001b[0;34m=\u001b[0m \u001b[0mtime\u001b[0m\u001b[0;34m.\u001b[0m\u001b[0mtime\u001b[0m\u001b[0;34m(\u001b[0m\u001b[0;34m)\u001b[0m\u001b[0;34m\u001b[0m\u001b[0;34m\u001b[0m\u001b[0m\n\u001b[1;32m      7\u001b[0m \u001b[0;34m\u001b[0m\u001b[0m\n\u001b[0;32m----> 8\u001b[0;31m \u001b[0mprint\u001b[0m\u001b[0;34m(\u001b[0m  \u001b[0;34m'time performance'\u001b[0m \u001b[0;34m+\u001b[0m\u001b[0mstr\u001b[0m\u001b[0;34m(\u001b[0m\u001b[0mtime02\u001b[0m\u001b[0;34m-\u001b[0m\u001b[0mtime01\u001b[0m \u001b[0;34m)\u001b[0m\u001b[0;34m)\u001b[0m\u001b[0;34m\u001b[0m\u001b[0;34m\u001b[0m\u001b[0m\n\u001b[0m",
            "\u001b[0;31mTypeError\u001b[0m: 'str' object is not callable"
          ]
        }
      ]
    },
    {
      "cell_type": "markdown",
      "source": [
        "##### string intern\n",
        "\n",
        "\n",
        "> for some strig like _, letter and number, the string intern will not create new string.  it will refer to same object \n",
        "\n"
      ],
      "metadata": {
        "id": "KVnAl--mEEpl"
      }
    },
    {
      "cell_type": "code",
      "source": [
        "# also can check by id()\n",
        "a = 'abd_33'\n",
        "b = 'abd_33'\n",
        "\n",
        "a is b "
      ],
      "metadata": {
        "colab": {
          "base_uri": "https://localhost:8080/"
        },
        "id": "nzCtaBP5G5KG",
        "outputId": "1199901e-1bd2-4551-c3c2-b400f4142ea6"
      },
      "execution_count": 36,
      "outputs": [
        {
          "output_type": "execute_result",
          "data": {
            "text/plain": [
              "True"
            ]
          },
          "metadata": {},
          "execution_count": 36
        }
      ]
    },
    {
      "cell_type": "code",
      "source": [
        "c = 'dd#'\n",
        "d = 'dd#'\n",
        "\n",
        "c is d "
      ],
      "metadata": {
        "colab": {
          "base_uri": "https://localhost:8080/"
        },
        "id": "-Rg9yP0kG-im",
        "outputId": "f1c30b92-d881-4648-fa95-6745610416a7"
      },
      "execution_count": 37,
      "outputs": [
        {
          "output_type": "execute_result",
          "data": {
            "text/plain": [
              "False"
            ]
          },
          "metadata": {},
          "execution_count": 37
        }
      ]
    },
    {
      "cell_type": "code",
      "source": [
        "myList3 = [1,2,3,4,5]\n",
        "a = 1\n",
        "a in myList3"
      ],
      "metadata": {
        "colab": {
          "base_uri": "https://localhost:8080/"
        },
        "id": "1dZ1oyg4Hngo",
        "outputId": "23b4c7eb-40be-4dce-d6b7-dc35076f1b95"
      },
      "execution_count": 38,
      "outputs": [
        {
          "output_type": "execute_result",
          "data": {
            "text/plain": [
              "True"
            ]
          },
          "metadata": {},
          "execution_count": 38
        }
      ]
    },
    {
      "cell_type": "markdown",
      "source": [
        "#### find method for string \n"
      ],
      "metadata": {
        "id": "EX36FxI4IAap"
      }
    },
    {
      "cell_type": "code",
      "source": [
        "a = 'fdafadsfdasfasdfasfasdfdasfafa'\n",
        "len(a)"
      ],
      "metadata": {
        "colab": {
          "base_uri": "https://localhost:8080/"
        },
        "id": "iKsFz6mVILtQ",
        "outputId": "cad4d690-9903-463d-f39c-99162c1f6532"
      },
      "execution_count": 39,
      "outputs": [
        {
          "output_type": "execute_result",
          "data": {
            "text/plain": [
              "30"
            ]
          },
          "metadata": {},
          "execution_count": 39
        }
      ]
    },
    {
      "cell_type": "code",
      "source": [
        "a.startswith('f')"
      ],
      "metadata": {
        "colab": {
          "base_uri": "https://localhost:8080/"
        },
        "id": "qHdJWQXwIPbs",
        "outputId": "9fd621e8-69b4-4335-ad9b-9b0531f08f52"
      },
      "execution_count": 40,
      "outputs": [
        {
          "output_type": "execute_result",
          "data": {
            "text/plain": [
              "True"
            ]
          },
          "metadata": {},
          "execution_count": 40
        }
      ]
    },
    {
      "cell_type": "code",
      "source": [
        "a.endswith('e')"
      ],
      "metadata": {
        "colab": {
          "base_uri": "https://localhost:8080/"
        },
        "id": "rzoVLUBYIS3g",
        "outputId": "41c26f54-57ca-45a1-8da0-944ee5836b38"
      },
      "execution_count": 41,
      "outputs": [
        {
          "output_type": "execute_result",
          "data": {
            "text/plain": [
              "False"
            ]
          },
          "metadata": {},
          "execution_count": 41
        }
      ]
    },
    {
      "cell_type": "code",
      "source": [
        "a.find('a') # the index that find 'a' at first time"
      ],
      "metadata": {
        "colab": {
          "base_uri": "https://localhost:8080/"
        },
        "id": "4R33U27mIVm1",
        "outputId": "18fa5e33-7fd4-423c-c14f-693fbbd105b2"
      },
      "execution_count": 42,
      "outputs": [
        {
          "output_type": "execute_result",
          "data": {
            "text/plain": [
              "2"
            ]
          },
          "metadata": {},
          "execution_count": 42
        }
      ]
    },
    {
      "cell_type": "code",
      "source": [
        "a.rfind('a') # the index that find 'a' at last time "
      ],
      "metadata": {
        "colab": {
          "base_uri": "https://localhost:8080/"
        },
        "id": "yl2HJQtOIXyU",
        "outputId": "327b3871-3874-4210-8faa-5587145be207"
      },
      "execution_count": 43,
      "outputs": [
        {
          "output_type": "execute_result",
          "data": {
            "text/plain": [
              "29"
            ]
          },
          "metadata": {},
          "execution_count": 43
        }
      ]
    },
    {
      "cell_type": "code",
      "source": [
        "a.count('a') # count how many time 'a' appear "
      ],
      "metadata": {
        "colab": {
          "base_uri": "https://localhost:8080/"
        },
        "id": "_Jxh2cbxIosu",
        "outputId": "780c6d3c-5f04-4847-b05f-99be58f0d63a"
      },
      "execution_count": 44,
      "outputs": [
        {
          "output_type": "execute_result",
          "data": {
            "text/plain": [
              "9"
            ]
          },
          "metadata": {},
          "execution_count": 44
        }
      ]
    },
    {
      "cell_type": "markdown",
      "source": [
        "##### remove the fisrt and last string strip()\n"
      ],
      "metadata": {
        "id": "NY2VVISII9Vx"
      }
    },
    {
      "cell_type": "code",
      "source": [
        "b = ' txt '\n",
        "c = '*txt*'\n",
        "b"
      ],
      "metadata": {
        "colab": {
          "base_uri": "https://localhost:8080/",
          "height": 35
        },
        "id": "s55aDfuXJFNc",
        "outputId": "38b2ce55-0e3e-4f65-9cfb-6c6dfeb89134"
      },
      "execution_count": 49,
      "outputs": [
        {
          "output_type": "execute_result",
          "data": {
            "text/plain": [
              "' txt '"
            ],
            "application/vnd.google.colaboratory.intrinsic+json": {
              "type": "string"
            }
          },
          "metadata": {},
          "execution_count": 49
        }
      ]
    },
    {
      "cell_type": "code",
      "source": [
        "b.strip()"
      ],
      "metadata": {
        "colab": {
          "base_uri": "https://localhost:8080/",
          "height": 35
        },
        "id": "Scw-5YvKJLbK",
        "outputId": "090fe929-0c80-4b2c-e030-38e80835471a"
      },
      "execution_count": 47,
      "outputs": [
        {
          "output_type": "execute_result",
          "data": {
            "text/plain": [
              "'txt'"
            ],
            "application/vnd.google.colaboratory.intrinsic+json": {
              "type": "string"
            }
          },
          "metadata": {},
          "execution_count": 47
        }
      ]
    },
    {
      "cell_type": "code",
      "source": [
        "c.strip('*')"
      ],
      "metadata": {
        "colab": {
          "base_uri": "https://localhost:8080/",
          "height": 35
        },
        "id": "UUdjWTc3JRMo",
        "outputId": "e9fef516-2062-4a24-ace7-cf639f4a8e1e"
      },
      "execution_count": 50,
      "outputs": [
        {
          "output_type": "execute_result",
          "data": {
            "text/plain": [
              "'txt'"
            ],
            "application/vnd.google.colaboratory.intrinsic+json": {
              "type": "string"
            }
          },
          "metadata": {},
          "execution_count": 50
        }
      ]
    },
    {
      "cell_type": "code",
      "source": [
        "c.lstrip('*') # l and r means left and right , remove the left first char"
      ],
      "metadata": {
        "colab": {
          "base_uri": "https://localhost:8080/",
          "height": 35
        },
        "id": "NzNEQudCJbyU",
        "outputId": "79b3e2d4-c372-41b7-a268-f3760c1af37e"
      },
      "execution_count": 52,
      "outputs": [
        {
          "output_type": "execute_result",
          "data": {
            "text/plain": [
              "'txt*'"
            ],
            "application/vnd.google.colaboratory.intrinsic+json": {
              "type": "string"
            }
          },
          "metadata": {},
          "execution_count": 52
        }
      ]
    },
    {
      "cell_type": "code",
      "source": [
        "c.rstrip('*')"
      ],
      "metadata": {
        "colab": {
          "base_uri": "https://localhost:8080/",
          "height": 35
        },
        "id": "TQ3h4aasJi-k",
        "outputId": "314c09fe-63ea-4db1-9dea-11ff20fb2106"
      },
      "execution_count": 53,
      "outputs": [
        {
          "output_type": "execute_result",
          "data": {
            "text/plain": [
              "'*txt'"
            ],
            "application/vnd.google.colaboratory.intrinsic+json": {
              "type": "string"
            }
          },
          "metadata": {},
          "execution_count": 53
        }
      ]
    },
    {
      "cell_type": "markdown",
      "source": [
        "##### change Capital\n"
      ],
      "metadata": {
        "id": "J0DORi6XKCdw"
      }
    },
    {
      "cell_type": "code",
      "source": [
        "e = \"huanghe love programming, love HH\"\n"
      ],
      "metadata": {
        "id": "6eLc4i7ZKFiK"
      },
      "execution_count": 57,
      "outputs": []
    },
    {
      "cell_type": "code",
      "source": [
        "e.capitalize()"
      ],
      "metadata": {
        "colab": {
          "base_uri": "https://localhost:8080/",
          "height": 35
        },
        "id": "zD5RM6uJKYrZ",
        "outputId": "3410075c-4958-4429-ef22-4e5a61a7233a"
      },
      "execution_count": 59,
      "outputs": [
        {
          "output_type": "execute_result",
          "data": {
            "text/plain": [
              "'Huanghe love programming, love hh'"
            ],
            "application/vnd.google.colaboratory.intrinsic+json": {
              "type": "string"
            }
          },
          "metadata": {},
          "execution_count": 59
        }
      ]
    },
    {
      "cell_type": "code",
      "source": [
        "e.title()"
      ],
      "metadata": {
        "colab": {
          "base_uri": "https://localhost:8080/",
          "height": 35
        },
        "id": "LURfLlAlKbzn",
        "outputId": "29768bae-a154-498c-ec51-65e4e1d0c1be"
      },
      "execution_count": 60,
      "outputs": [
        {
          "output_type": "execute_result",
          "data": {
            "text/plain": [
              "'Huanghe Love Programming, Love Hh'"
            ],
            "application/vnd.google.colaboratory.intrinsic+json": {
              "type": "string"
            }
          },
          "metadata": {},
          "execution_count": 60
        }
      ]
    },
    {
      "cell_type": "code",
      "source": [
        "e.upper()"
      ],
      "metadata": {
        "colab": {
          "base_uri": "https://localhost:8080/",
          "height": 35
        },
        "id": "RQeU8DHQKdK0",
        "outputId": "2157bc58-2ab8-42ba-fd0c-ca9aa566c5ef"
      },
      "execution_count": 61,
      "outputs": [
        {
          "output_type": "execute_result",
          "data": {
            "text/plain": [
              "'HUANGHE LOVE PROGRAMMING, LOVE HH'"
            ],
            "application/vnd.google.colaboratory.intrinsic+json": {
              "type": "string"
            }
          },
          "metadata": {},
          "execution_count": 61
        }
      ]
    },
    {
      "cell_type": "code",
      "source": [
        "f = 'txt'"
      ],
      "metadata": {
        "id": "UBJnqhj1KgVJ"
      },
      "execution_count": 62,
      "outputs": []
    },
    {
      "cell_type": "code",
      "source": [
        "f.center(10,'*') # the total char is 10, put the 'txt' centre and fill other position by '*'"
      ],
      "metadata": {
        "colab": {
          "base_uri": "https://localhost:8080/",
          "height": 35
        },
        "id": "ki0c058GKvYI",
        "outputId": "9ff2a69d-6623-4a2d-ed39-3b3dec92cc36"
      },
      "execution_count": 65,
      "outputs": [
        {
          "output_type": "execute_result",
          "data": {
            "text/plain": [
              "'***txt****'"
            ],
            "application/vnd.google.colaboratory.intrinsic+json": {
              "type": "string"
            }
          },
          "metadata": {},
          "execution_count": 65
        }
      ]
    },
    {
      "cell_type": "code",
      "source": [
        "f.center(10)"
      ],
      "metadata": {
        "colab": {
          "base_uri": "https://localhost:8080/",
          "height": 35
        },
        "id": "j7YHgksPK1Xn",
        "outputId": "b7f3ef1c-e09a-4702-80a7-9443109b86fc"
      },
      "execution_count": 68,
      "outputs": [
        {
          "output_type": "execute_result",
          "data": {
            "text/plain": [
              "'   txt    '"
            ],
            "application/vnd.google.colaboratory.intrinsic+json": {
              "type": "string"
            }
          },
          "metadata": {},
          "execution_count": 68
        }
      ]
    },
    {
      "cell_type": "code",
      "source": [
        "f.rjust(10,'&')"
      ],
      "metadata": {
        "colab": {
          "base_uri": "https://localhost:8080/",
          "height": 35
        },
        "id": "E9ZdEgdlKy2f",
        "outputId": "ed1d2074-b4b0-4a45-ae2c-8165b755e0f1"
      },
      "execution_count": 69,
      "outputs": [
        {
          "output_type": "execute_result",
          "data": {
            "text/plain": [
              "'&&&&&&&txt'"
            ],
            "application/vnd.google.colaboratory.intrinsic+json": {
              "type": "string"
            }
          },
          "metadata": {},
          "execution_count": 69
        }
      ]
    },
    {
      "cell_type": "code",
      "source": [
        "f.ljust(10,'&')\n"
      ],
      "metadata": {
        "colab": {
          "base_uri": "https://localhost:8080/",
          "height": 35
        },
        "id": "ecAPG28zKxnE",
        "outputId": "a5362097-0f43-4f9c-9f7a-8ea51097b768"
      },
      "execution_count": 70,
      "outputs": [
        {
          "output_type": "execute_result",
          "data": {
            "text/plain": [
              "'txt&&&&&&&'"
            ],
            "application/vnd.google.colaboratory.intrinsic+json": {
              "type": "string"
            }
          },
          "metadata": {},
          "execution_count": 70
        }
      ]
    },
    {
      "cell_type": "markdown",
      "source": [
        "##### format()\n",
        "\n",
        "> {index} or {parameter name}  to reflect the value \n",
        "\n"
      ],
      "metadata": {
        "id": "zsBCaebELfD-"
      }
    },
    {
      "cell_type": "code",
      "source": [
        "a = 'name is {0}, age is {1}'\n",
        "a.format(\"HH\",18)"
      ],
      "metadata": {
        "colab": {
          "base_uri": "https://localhost:8080/",
          "height": 35
        },
        "id": "DqMtNaVbLhVi",
        "outputId": "8906c73e-c120-4791-ef47-453802d03fc0"
      },
      "execution_count": 71,
      "outputs": [
        {
          "output_type": "execute_result",
          "data": {
            "text/plain": [
              "'name is HH, age is 18'"
            ],
            "application/vnd.google.colaboratory.intrinsic+json": {
              "type": "string"
            }
          },
          "metadata": {},
          "execution_count": 71
        }
      ]
    },
    {
      "cell_type": "code",
      "source": [
        "b= 'name is {name} , age is {age}'\n",
        "b.format(name=\"HH\",age = 18)"
      ],
      "metadata": {
        "colab": {
          "base_uri": "https://localhost:8080/",
          "height": 35
        },
        "id": "OSGqmZNJMPjU",
        "outputId": "108af0db-cb09-4a8d-bd9d-955a1fff1aac"
      },
      "execution_count": 72,
      "outputs": [
        {
          "output_type": "execute_result",
          "data": {
            "text/plain": [
              "'name is HH , age is 18'"
            ],
            "application/vnd.google.colaboratory.intrinsic+json": {
              "type": "string"
            }
          },
          "metadata": {},
          "execution_count": 72
        }
      ]
    },
    {
      "cell_type": "markdown",
      "source": [
        "##### format () with fullfill other char\n",
        "\n",
        "\n",
        "> centre ^, left: <, right:>,  one char behide : \n",
        "\n"
      ],
      "metadata": {
        "id": "c4s6VePKMnUK"
      }
    },
    {
      "cell_type": "code",
      "source": [
        " \"name is {0:*^6}\".format(\"HH\")"
      ],
      "metadata": {
        "colab": {
          "base_uri": "https://localhost:8080/",
          "height": 35
        },
        "id": "qOjScKNbMqer",
        "outputId": "e99d1504-f6af-4e6e-e490-11454714e51a"
      },
      "execution_count": 73,
      "outputs": [
        {
          "output_type": "execute_result",
          "data": {
            "text/plain": [
              "'name is **HH**'"
            ],
            "application/vnd.google.colaboratory.intrinsic+json": {
              "type": "string"
            }
          },
          "metadata": {},
          "execution_count": 73
        }
      ]
    },
    {
      "cell_type": "markdown",
      "source": [
        "format () with number format/digital format"
      ],
      "metadata": {
        "id": "DjOVAp_nNlTv"
      }
    },
    {
      "cell_type": "code",
      "source": [
        "e = 'my age is {:.2f}'\n",
        "e.format(31.16666)"
      ],
      "metadata": {
        "colab": {
          "base_uri": "https://localhost:8080/",
          "height": 35
        },
        "id": "z7QY7K3fNxnD",
        "outputId": "3ccef210-38b3-4faa-85eb-51a8f052855b"
      },
      "execution_count": 74,
      "outputs": [
        {
          "output_type": "execute_result",
          "data": {
            "text/plain": [
              "'my age is 31.17'"
            ],
            "application/vnd.google.colaboratory.intrinsic+json": {
              "type": "string"
            }
          },
          "metadata": {},
          "execution_count": 74
        }
      ]
    },
    {
      "cell_type": "markdown",
      "source": [
        "##### io.StringIO(s)\n",
        "by using this, the string is changable, no need to create ne wobject everytime "
      ],
      "metadata": {
        "id": "k0og0OE2OOyb"
      }
    },
    {
      "cell_type": "code",
      "source": [
        "import io\n",
        "a = 'hello, txt'\n",
        "strio = io.StringIO(a)\n",
        "strio.getvalue()\n"
      ],
      "metadata": {
        "colab": {
          "base_uri": "https://localhost:8080/",
          "height": 35
        },
        "id": "bpHVGGchOgtv",
        "outputId": "9e337d31-f1e9-4ee5-c6f4-41eb74d9ba29"
      },
      "execution_count": 76,
      "outputs": [
        {
          "output_type": "execute_result",
          "data": {
            "text/plain": [
              "'hello, txt'"
            ],
            "application/vnd.google.colaboratory.intrinsic+json": {
              "type": "string"
            }
          },
          "metadata": {},
          "execution_count": 76
        }
      ]
    },
    {
      "cell_type": "code",
      "source": [
        "strio.seek(7)"
      ],
      "metadata": {
        "colab": {
          "base_uri": "https://localhost:8080/"
        },
        "id": "LmquvuAePGTb",
        "outputId": "02452713-8c56-437e-d80f-3c4aea9c699b"
      },
      "execution_count": 77,
      "outputs": [
        {
          "output_type": "execute_result",
          "data": {
            "text/plain": [
              "7"
            ]
          },
          "metadata": {},
          "execution_count": 77
        }
      ]
    },
    {
      "cell_type": "code",
      "source": [
        "strio.write('g')"
      ],
      "metadata": {
        "colab": {
          "base_uri": "https://localhost:8080/"
        },
        "id": "ym0T6sPoPJni",
        "outputId": "dd330c63-c0a4-465d-eeff-ea0c8e3334b4"
      },
      "execution_count": 78,
      "outputs": [
        {
          "output_type": "execute_result",
          "data": {
            "text/plain": [
              "1"
            ]
          },
          "metadata": {},
          "execution_count": 78
        }
      ]
    },
    {
      "cell_type": "code",
      "source": [
        "strio.getvalue()"
      ],
      "metadata": {
        "colab": {
          "base_uri": "https://localhost:8080/",
          "height": 35
        },
        "id": "oBrmKmPkPTjs",
        "outputId": "9446036a-e217-4c77-97e3-7c729fa5d2c4"
      },
      "execution_count": 79,
      "outputs": [
        {
          "output_type": "execute_result",
          "data": {
            "text/plain": [
              "'hello, gxt'"
            ],
            "application/vnd.google.colaboratory.intrinsic+json": {
              "type": "string"
            }
          },
          "metadata": {},
          "execution_count": 79
        }
      ]
    },
    {
      "cell_type": "markdown",
      "source": [
        "#### 位运算\n"
      ],
      "metadata": {
        "id": "Ouiz11HlP4gj"
      }
    },
    {
      "cell_type": "markdown",
      "source": [
        ""
      ],
      "metadata": {
        "id": "H7MTlJMvP8W1"
      }
    },
    {
      "cell_type": "code",
      "source": [
        ""
      ],
      "metadata": {
        "id": "m7qJgHmZPVjG"
      },
      "execution_count": null,
      "outputs": []
    },
    {
      "cell_type": "markdown",
      "source": [
        "##Sequence 序列\n",
        "in Memory, sequence is the continuous memory space which store the id \n",
        "eg: a = [10,20,30,40]\n",
        "this list store the id of object (10,20,30,40) which is refer to each objects.and then the id of list will store in the variable a  "
      ],
      "metadata": {
        "id": "sh2cOFwmQDbQ"
      }
    },
    {
      "cell_type": "markdown",
      "source": [
        "## data structure\n"
      ],
      "metadata": {
        "id": "3JoXt5IU7VYS"
      }
    },
    {
      "cell_type": "markdown",
      "source": [
        "### list\n",
        "list 是内置可变的序列，是包含多个元素的有序连续的内存空间\n"
      ],
      "metadata": {
        "id": "qmaRArCu7cDc"
      }
    },
    {
      "cell_type": "code",
      "source": [
        ""
      ],
      "metadata": {
        "id": "WAlQXqIOSgcO"
      },
      "execution_count": null,
      "outputs": []
    },
    {
      "cell_type": "code",
      "source": [
        "myList = [1,2,3]\n",
        "print(id(myList))\n",
        "for i in range(len(myList)):\n",
        "  print(id(myList[i]))\n",
        "  print(type(myList[i]))"
      ],
      "metadata": {
        "colab": {
          "base_uri": "https://localhost:8080/"
        },
        "id": "YQ0gPjFWQoC2",
        "outputId": "90e41a30-02f1-4898-ab0b-96a68c13803b"
      },
      "execution_count": 85,
      "outputs": [
        {
          "output_type": "stream",
          "name": "stdout",
          "text": [
            "140230512675408\n",
            "11256064\n",
            "<class 'int'>\n",
            "11256096\n",
            "<class 'int'>\n",
            "11256128\n",
            "<class 'int'>\n"
          ]
        }
      ]
    },
    {
      "cell_type": "markdown",
      "source": [
        "#### List Creation\n",
        "\n",
        "\n",
        "> 4 ways\n",
        "\n"
      ],
      "metadata": {
        "id": "w-n0KGIYhB6S"
      }
    },
    {
      "cell_type": "code",
      "source": [
        "a = [1,2,'str']"
      ],
      "metadata": {
        "id": "Fn6NUuw-hEh5"
      },
      "execution_count": 86,
      "outputs": []
    },
    {
      "cell_type": "code",
      "source": [
        "a = list()"
      ],
      "metadata": {
        "id": "HYW7ArPwhMz5"
      },
      "execution_count": 87,
      "outputs": []
    },
    {
      "cell_type": "code",
      "source": [
        "b = list(range(10))\n",
        "b"
      ],
      "metadata": {
        "colab": {
          "base_uri": "https://localhost:8080/"
        },
        "id": "-vc_q7xlhP-X",
        "outputId": "bd9051fe-e59c-477e-d4ba-9448b6e8afa4"
      },
      "execution_count": 89,
      "outputs": [
        {
          "output_type": "execute_result",
          "data": {
            "text/plain": [
              "[0, 1, 2, 3, 4, 5, 6, 7, 8, 9]"
            ]
          },
          "metadata": {},
          "execution_count": 89
        }
      ]
    },
    {
      "cell_type": "code",
      "source": [
        "b1 = list(\"huanghe\")\n",
        "b1"
      ],
      "metadata": {
        "colab": {
          "base_uri": "https://localhost:8080/"
        },
        "id": "vwk51obvhuiV",
        "outputId": "2691eccf-1eef-4c55-9b8c-96bae0c9dbe2"
      },
      "execution_count": 91,
      "outputs": [
        {
          "output_type": "execute_result",
          "data": {
            "text/plain": [
              "['h', 'u', 'a', 'n', 'g', 'h', 'e']"
            ]
          },
          "metadata": {},
          "execution_count": 91
        }
      ]
    },
    {
      "cell_type": "code",
      "source": [
        "#range(start,end,step)\n",
        "list(range(1,10,2))"
      ],
      "metadata": {
        "colab": {
          "base_uri": "https://localhost:8080/"
        },
        "id": "QubE7kcmhxy_",
        "outputId": "25f907f9-a055-4e08-994b-4bb17d738fe9"
      },
      "execution_count": 93,
      "outputs": [
        {
          "output_type": "execute_result",
          "data": {
            "text/plain": [
              "[1, 3, 5, 7, 9]"
            ]
          },
          "metadata": {},
          "execution_count": 93
        }
      ]
    },
    {
      "cell_type": "code",
      "source": [
        "list(range(20,3,-1))"
      ],
      "metadata": {
        "colab": {
          "base_uri": "https://localhost:8080/"
        },
        "id": "Tg4YKFd8iT4c",
        "outputId": "564a6636-d8e9-4da7-a56a-4842fba77838"
      },
      "execution_count": 94,
      "outputs": [
        {
          "output_type": "execute_result",
          "data": {
            "text/plain": [
              "[20, 19, 18, 17, 16, 15, 14, 13, 12, 11, 10, 9, 8, 7, 6, 5, 4]"
            ]
          },
          "metadata": {},
          "execution_count": 94
        }
      ]
    },
    {
      "cell_type": "code",
      "source": [
        "c = [x for x in range(10)]\n",
        "c"
      ],
      "metadata": {
        "colab": {
          "base_uri": "https://localhost:8080/"
        },
        "id": "Tf9pTyIFhTg_",
        "outputId": "456aada7-d341-4753-9237-d18e995167ce"
      },
      "execution_count": 90,
      "outputs": [
        {
          "output_type": "execute_result",
          "data": {
            "text/plain": [
              "[0, 1, 2, 3, 4, 5, 6, 7, 8, 9]"
            ]
          },
          "metadata": {},
          "execution_count": 90
        }
      ]
    },
    {
      "cell_type": "markdown",
      "source": [
        "#### add & remove item from list\n",
        "5 ways"
      ],
      "metadata": {
        "id": "OyLI_NZTiyaP"
      }
    },
    {
      "cell_type": "code",
      "source": [
        "a = [20,40,60]\n",
        "id(a)"
      ],
      "metadata": {
        "colab": {
          "base_uri": "https://localhost:8080/"
        },
        "id": "Oqb-qSYGi33a",
        "outputId": "a269f637-4677-43cf-b4a5-140f3b58ffe8"
      },
      "execution_count": 101,
      "outputs": [
        {
          "output_type": "execute_result",
          "data": {
            "text/plain": [
              "140230512711232"
            ]
          },
          "metadata": {},
          "execution_count": 101
        }
      ]
    },
    {
      "cell_type": "code",
      "source": [
        "a.append(80)\n",
        "id(a)"
      ],
      "metadata": {
        "colab": {
          "base_uri": "https://localhost:8080/"
        },
        "id": "MguaCJxyiEmv",
        "outputId": "e51a4362-2b80-44e6-b7b5-30e719f431cf"
      },
      "execution_count": 102,
      "outputs": [
        {
          "output_type": "execute_result",
          "data": {
            "text/plain": [
              "140230512711232"
            ]
          },
          "metadata": {},
          "execution_count": 102
        }
      ]
    },
    {
      "cell_type": "markdown",
      "source": [
        "append()"
      ],
      "metadata": {
        "id": "NE8J7y4olDLW"
      }
    },
    {
      "cell_type": "markdown",
      "source": [
        "if insert item into middle of list, it will cause many item movement.  "
      ],
      "metadata": {
        "id": "kEUDUT3Dll6S"
      }
    },
    {
      "cell_type": "markdown",
      "source": [
        "'+' create new list, put these two into new list "
      ],
      "metadata": {
        "id": "ETdXZ632mFNX"
      }
    },
    {
      "cell_type": "code",
      "source": [
        "b = [20,40]\n",
        "b = b+ [50]\n",
        "b"
      ],
      "metadata": {
        "colab": {
          "base_uri": "https://localhost:8080/"
        },
        "id": "QrTshslthqL2",
        "outputId": "e166c686-2061-4f81-d44a-3a149f1344d3"
      },
      "execution_count": 100,
      "outputs": [
        {
          "output_type": "execute_result",
          "data": {
            "text/plain": [
              "[20, 40, 50]"
            ]
          },
          "metadata": {},
          "execution_count": 100
        }
      ]
    },
    {
      "cell_type": "markdown",
      "source": [
        "append()\n"
      ],
      "metadata": {
        "id": "yoBzifDxmn0M"
      }
    },
    {
      "cell_type": "code",
      "source": [
        "c= [10,20]\n",
        "c.extend([30,40])\n",
        "c"
      ],
      "metadata": {
        "colab": {
          "base_uri": "https://localhost:8080/"
        },
        "id": "Nou-GWBPmp2T",
        "outputId": "4ac9c6ec-f799-47b3-81c5-a0cc5a07019b"
      },
      "execution_count": 106,
      "outputs": [
        {
          "output_type": "execute_result",
          "data": {
            "text/plain": [
              "[10, 20, 30, 40]"
            ]
          },
          "metadata": {},
          "execution_count": 106
        }
      ]
    },
    {
      "cell_type": "markdown",
      "source": [
        "insert()\n"
      ],
      "metadata": {
        "id": "WTn5hkdgnHro"
      }
    },
    {
      "cell_type": "code",
      "source": [
        "e = [1,2,3,4,5,6]\n"
      ],
      "metadata": {
        "id": "3CsnTALenJBq"
      },
      "execution_count": 107,
      "outputs": []
    },
    {
      "cell_type": "code",
      "source": [
        "e.insert(2,10)\n",
        "e"
      ],
      "metadata": {
        "colab": {
          "base_uri": "https://localhost:8080/"
        },
        "id": "32-XqQyhnN1n",
        "outputId": "d1656d6f-2519-4c1d-d65d-9c4f292b7448"
      },
      "execution_count": 108,
      "outputs": [
        {
          "output_type": "execute_result",
          "data": {
            "text/plain": [
              "[1, 2, 10, 3, 4, 5, 6]"
            ]
          },
          "metadata": {},
          "execution_count": 108
        }
      ]
    },
    {
      "cell_type": "markdown",
      "source": [
        "multiple extend\n"
      ],
      "metadata": {
        "id": "4TYE8JPnnhal"
      }
    },
    {
      "cell_type": "code",
      "source": [
        "f = [1,2,3]\n",
        "g = f * 3 \n",
        "g"
      ],
      "metadata": {
        "colab": {
          "base_uri": "https://localhost:8080/"
        },
        "id": "uaZxzJFbnjkc",
        "outputId": "f349ee8e-d405-41c6-80e4-9ded30340302"
      },
      "execution_count": 109,
      "outputs": [
        {
          "output_type": "execute_result",
          "data": {
            "text/plain": [
              "[1, 2, 3, 1, 2, 3, 1, 2, 3]"
            ]
          },
          "metadata": {},
          "execution_count": 109
        }
      ]
    },
    {
      "cell_type": "markdown",
      "source": [
        "##### list delete item \n"
      ],
      "metadata": {
        "id": "g5m-4JBInuAl"
      }
    },
    {
      "cell_type": "markdown",
      "source": [
        "del()\n",
        "**将后面的item copy到前面来**"
      ],
      "metadata": {
        "id": "NKWX5uBXnzzo"
      }
    },
    {
      "cell_type": "code",
      "source": [
        "a = [100,200,888,300,400]"
      ],
      "metadata": {
        "id": "D_ppmhRqoUxf"
      },
      "execution_count": 110,
      "outputs": []
    },
    {
      "cell_type": "code",
      "source": [
        "del a[2]"
      ],
      "metadata": {
        "id": "tuTtsI1rohV3"
      },
      "execution_count": 111,
      "outputs": []
    },
    {
      "cell_type": "code",
      "source": [
        "a"
      ],
      "metadata": {
        "colab": {
          "base_uri": "https://localhost:8080/"
        },
        "id": "nffLP1ozoltK",
        "outputId": "57ad9713-9e80-428b-90d0-d90ced2096f2"
      },
      "execution_count": 112,
      "outputs": [
        {
          "output_type": "execute_result",
          "data": {
            "text/plain": [
              "[100, 200, 300, 400]"
            ]
          },
          "metadata": {},
          "execution_count": 112
        }
      ]
    },
    {
      "cell_type": "markdown",
      "source": [
        "pop(): delete and return the object"
      ],
      "metadata": {
        "id": "jwZcwazrospd"
      }
    },
    {
      "cell_type": "code",
      "source": [
        "a.pop()"
      ],
      "metadata": {
        "colab": {
          "base_uri": "https://localhost:8080/"
        },
        "id": "uTRwbA5yov4r",
        "outputId": "e812a068-b33a-4b19-a976-5658e1730c76"
      },
      "execution_count": 113,
      "outputs": [
        {
          "output_type": "execute_result",
          "data": {
            "text/plain": [
              "400"
            ]
          },
          "metadata": {},
          "execution_count": 113
        }
      ]
    },
    {
      "cell_type": "code",
      "source": [
        "a.pop(1)"
      ],
      "metadata": {
        "colab": {
          "base_uri": "https://localhost:8080/"
        },
        "id": "oz2EQOc6ozO5",
        "outputId": "67554849-3c3a-49c3-86c8-1e4aae42a422"
      },
      "execution_count": 114,
      "outputs": [
        {
          "output_type": "execute_result",
          "data": {
            "text/plain": [
              "200"
            ]
          },
          "metadata": {},
          "execution_count": 114
        }
      ]
    },
    {
      "cell_type": "code",
      "source": [
        "a"
      ],
      "metadata": {
        "colab": {
          "base_uri": "https://localhost:8080/"
        },
        "id": "K1ZT2zUmo2l4",
        "outputId": "01c248f0-3ef1-4f68-c64c-da45d56eb297"
      },
      "execution_count": 117,
      "outputs": [
        {
          "output_type": "execute_result",
          "data": {
            "text/plain": [
              "[100, 300]"
            ]
          },
          "metadata": {},
          "execution_count": 117
        }
      ]
    },
    {
      "cell_type": "markdown",
      "source": [
        "remove(): delete the item that first time appear. if the item is not existing, throw error\n"
      ],
      "metadata": {
        "id": "gQqKsKPqpKIZ"
      }
    },
    {
      "cell_type": "code",
      "source": [
        "a.remove(100)"
      ],
      "metadata": {
        "id": "-8DD1pQBpSGh"
      },
      "execution_count": 118,
      "outputs": []
    },
    {
      "cell_type": "code",
      "source": [
        "a.remove(50)"
      ],
      "metadata": {
        "colab": {
          "base_uri": "https://localhost:8080/",
          "height": 169
        },
        "id": "btuRB7P4pUbr",
        "outputId": "94191022-5e34-41ec-892e-26c4801c7638"
      },
      "execution_count": 119,
      "outputs": [
        {
          "output_type": "error",
          "ename": "ValueError",
          "evalue": "ignored",
          "traceback": [
            "\u001b[0;31m---------------------------------------------------------------------------\u001b[0m",
            "\u001b[0;31mValueError\u001b[0m                                Traceback (most recent call last)",
            "\u001b[0;32m<ipython-input-119-2664ee598304>\u001b[0m in \u001b[0;36m<module>\u001b[0;34m()\u001b[0m\n\u001b[0;32m----> 1\u001b[0;31m \u001b[0ma\u001b[0m\u001b[0;34m.\u001b[0m\u001b[0mremove\u001b[0m\u001b[0;34m(\u001b[0m\u001b[0;36m50\u001b[0m\u001b[0;34m)\u001b[0m\u001b[0;34m\u001b[0m\u001b[0;34m\u001b[0m\u001b[0m\n\u001b[0m",
            "\u001b[0;31mValueError\u001b[0m: list.remove(x): x not in list"
          ]
        }
      ]
    },
    {
      "cell_type": "markdown",
      "source": [
        "##### list retrieve and count"
      ],
      "metadata": {
        "id": "1V2z-g--pfH2"
      }
    },
    {
      "cell_type": "markdown",
      "source": [
        "by index\n"
      ],
      "metadata": {
        "id": "3tXI7bMzp4BO"
      }
    },
    {
      "cell_type": "code",
      "source": [
        "a = list(range(10))\n",
        "a"
      ],
      "metadata": {
        "colab": {
          "base_uri": "https://localhost:8080/"
        },
        "id": "KgPvazq8phl_",
        "outputId": "8501ff5e-239a-405b-e3d8-cf1a1972c21d"
      },
      "execution_count": 122,
      "outputs": [
        {
          "output_type": "execute_result",
          "data": {
            "text/plain": [
              "[0, 1, 2, 3, 4, 5, 6, 7, 8, 9]"
            ]
          },
          "metadata": {},
          "execution_count": 122
        }
      ]
    },
    {
      "cell_type": "code",
      "source": [
        "a[10]"
      ],
      "metadata": {
        "colab": {
          "base_uri": "https://localhost:8080/",
          "height": 169
        },
        "id": "vazYEBOspXVN",
        "outputId": "bd26cf0f-8cbf-44a1-f0fc-f70d47639537"
      },
      "execution_count": 123,
      "outputs": [
        {
          "output_type": "error",
          "ename": "IndexError",
          "evalue": "ignored",
          "traceback": [
            "\u001b[0;31m---------------------------------------------------------------------------\u001b[0m",
            "\u001b[0;31mIndexError\u001b[0m                                Traceback (most recent call last)",
            "\u001b[0;32m<ipython-input-123-7c7cb9812849>\u001b[0m in \u001b[0;36m<module>\u001b[0;34m()\u001b[0m\n\u001b[0;32m----> 1\u001b[0;31m \u001b[0ma\u001b[0m\u001b[0;34m[\u001b[0m\u001b[0;36m10\u001b[0m\u001b[0;34m]\u001b[0m\u001b[0;34m\u001b[0m\u001b[0;34m\u001b[0m\u001b[0m\n\u001b[0m",
            "\u001b[0;31mIndexError\u001b[0m: list index out of range"
          ]
        }
      ]
    },
    {
      "cell_type": "markdown",
      "source": [
        "index(): return the first index of the specific item"
      ],
      "metadata": {
        "id": "ealpeFwfqEaZ"
      }
    },
    {
      "cell_type": "code",
      "source": [
        "a.index(7)"
      ],
      "metadata": {
        "colab": {
          "base_uri": "https://localhost:8080/"
        },
        "id": "FtRFsKoNqBae",
        "outputId": "c9e38a11-73e1-4759-be8c-7ca1004d2e5c"
      },
      "execution_count": 125,
      "outputs": [
        {
          "output_type": "execute_result",
          "data": {
            "text/plain": [
              "7"
            ]
          },
          "metadata": {},
          "execution_count": 125
        }
      ]
    },
    {
      "cell_type": "code",
      "source": [
        "a.index(20,3) # check 20 after index 3 "
      ],
      "metadata": {
        "id": "Sa5A0GV4pAiW"
      },
      "execution_count": null,
      "outputs": []
    },
    {
      "cell_type": "code",
      "source": [
        "b = [1,1,1,2,3,3,4,4,4,5,5,6]"
      ],
      "metadata": {
        "id": "fxG5PNcIrEFU"
      },
      "execution_count": 132,
      "outputs": []
    },
    {
      "cell_type": "code",
      "source": [
        "b.index(3,5,8) # check 20 from range 5,7   [5,7]"
      ],
      "metadata": {
        "colab": {
          "base_uri": "https://localhost:8080/"
        },
        "id": "CO43chQWo-gl",
        "outputId": "900749d6-081d-4bc7-971b-74aa9447fa1f"
      },
      "execution_count": 135,
      "outputs": [
        {
          "output_type": "execute_result",
          "data": {
            "text/plain": [
              "5"
            ]
          },
          "metadata": {},
          "execution_count": 135
        }
      ]
    },
    {
      "cell_type": "code",
      "source": [
        "a.count(3)"
      ],
      "metadata": {
        "colab": {
          "base_uri": "https://localhost:8080/"
        },
        "id": "izmKNEDCo8WJ",
        "outputId": "d05d7684-71a3-418a-aba1-53f81d5dbc92"
      },
      "execution_count": 127,
      "outputs": [
        {
          "output_type": "execute_result",
          "data": {
            "text/plain": [
              "1"
            ]
          },
          "metadata": {},
          "execution_count": 127
        }
      ]
    },
    {
      "cell_type": "markdown",
      "source": [
        "check whether inside list:\n",
        "\n",
        "> in / not in \n"
      ],
      "metadata": {
        "id": "T5IqinTIrxDw"
      }
    },
    {
      "cell_type": "code",
      "source": [
        "1 in b "
      ],
      "metadata": {
        "colab": {
          "base_uri": "https://localhost:8080/"
        },
        "id": "BlMfDXiSommR",
        "outputId": "0318c0a1-f267-4d0f-d779-041bc34234e9"
      },
      "execution_count": 136,
      "outputs": [
        {
          "output_type": "execute_result",
          "data": {
            "text/plain": [
              "True"
            ]
          },
          "metadata": {},
          "execution_count": 136
        }
      ]
    },
    {
      "cell_type": "markdown",
      "source": [
        "##### slice:\n",
        "list[start:end:step]"
      ],
      "metadata": {
        "id": "qNQ6h0-ysO_M"
      }
    },
    {
      "cell_type": "code",
      "source": [
        "a[:]"
      ],
      "metadata": {
        "colab": {
          "base_uri": "https://localhost:8080/"
        },
        "id": "oLEwM-tmn1Mn",
        "outputId": "cd508bc1-1f0e-4a69-c22e-36255509f78d"
      },
      "execution_count": 137,
      "outputs": [
        {
          "output_type": "execute_result",
          "data": {
            "text/plain": [
              "[0, 1, 2, 3, 4, 5, 6, 7, 8, 9]"
            ]
          },
          "metadata": {},
          "execution_count": 137
        }
      ]
    },
    {
      "cell_type": "code",
      "source": [
        "a[7:8]"
      ],
      "metadata": {
        "colab": {
          "base_uri": "https://localhost:8080/"
        },
        "id": "w74o2bHmsZ4C",
        "outputId": "9c2bbe83-a5dc-4479-b8af-f466e8d83fbe"
      },
      "execution_count": 138,
      "outputs": [
        {
          "output_type": "execute_result",
          "data": {
            "text/plain": [
              "[7]"
            ]
          },
          "metadata": {},
          "execution_count": 138
        }
      ]
    },
    {
      "cell_type": "code",
      "source": [
        "a[::-1]"
      ],
      "metadata": {
        "colab": {
          "base_uri": "https://localhost:8080/"
        },
        "id": "aNkFf1Jasb5N",
        "outputId": "6c06abd7-2eb5-460b-d75c-ce50da014d62"
      },
      "execution_count": 139,
      "outputs": [
        {
          "output_type": "execute_result",
          "data": {
            "text/plain": [
              "[9, 8, 7, 6, 5, 4, 3, 2, 1, 0]"
            ]
          },
          "metadata": {},
          "execution_count": 139
        }
      ]
    },
    {
      "cell_type": "markdown",
      "source": [
        "##### list loop"
      ],
      "metadata": {
        "id": "mC1Fsfj4s_jj"
      }
    },
    {
      "cell_type": "code",
      "source": [
        "for item in a:\n",
        "  print(item)"
      ],
      "metadata": {
        "colab": {
          "base_uri": "https://localhost:8080/"
        },
        "id": "EqQV6_KbsoXj",
        "outputId": "6d658570-03f2-4024-92a2-e0b4bce9b81e"
      },
      "execution_count": 140,
      "outputs": [
        {
          "output_type": "stream",
          "name": "stdout",
          "text": [
            "0\n",
            "1\n",
            "2\n",
            "3\n",
            "4\n",
            "5\n",
            "6\n",
            "7\n",
            "8\n",
            "9\n"
          ]
        }
      ]
    },
    {
      "cell_type": "markdown",
      "source": [
        "##### ordering list "
      ],
      "metadata": {
        "id": "cN03eud-twkc"
      }
    },
    {
      "cell_type": "markdown",
      "source": [
        "didn't change the original list\n",
        "\n",
        "> sort()\n",
        "\n"
      ],
      "metadata": {
        "id": "g1uSPV1JhtfI"
      }
    },
    {
      "cell_type": "code",
      "source": [
        "#  change the original list\n",
        "a = [10,20,30,12,13]\n",
        "print(id(a))\n",
        "a.sort()\n",
        "print(a)\n",
        "print(id(a))"
      ],
      "metadata": {
        "colab": {
          "base_uri": "https://localhost:8080/"
        },
        "id": "W0hTBN63toDJ",
        "outputId": "c7e232b9-7a65-463e-d263-f4f609c9fa34"
      },
      "execution_count": 3,
      "outputs": [
        {
          "output_type": "stream",
          "name": "stdout",
          "text": [
            "140686213540192\n",
            "[10, 12, 13, 20, 30]\n",
            "140686213540192\n"
          ]
        }
      ]
    },
    {
      "cell_type": "code",
      "source": [
        "a.sort(reverse=True)\n",
        "a"
      ],
      "metadata": {
        "colab": {
          "base_uri": "https://localhost:8080/"
        },
        "id": "aYbeCHvLny1H",
        "outputId": "108ca9aa-5cd4-495d-8a75-118319f37ab5"
      },
      "execution_count": 6,
      "outputs": [
        {
          "output_type": "execute_result",
          "data": {
            "text/plain": [
              "[30, 20, 13, 12, 10]"
            ]
          },
          "metadata": {},
          "execution_count": 6
        }
      ]
    },
    {
      "cell_type": "markdown",
      "source": [
        "random shuffle()"
      ],
      "metadata": {
        "id": "OR5OciL_hfK0"
      }
    },
    {
      "cell_type": "code",
      "source": [
        "import random\n",
        "random.shuffle(a)\n",
        "a"
      ],
      "metadata": {
        "colab": {
          "base_uri": "https://localhost:8080/"
        },
        "id": "uFwhWZZ6hejN",
        "outputId": "467a79a3-f994-4db0-a5c9-f7f487438004"
      },
      "execution_count": 7,
      "outputs": [
        {
          "output_type": "execute_result",
          "data": {
            "text/plain": [
              "[13, 20, 30, 12, 10]"
            ]
          },
          "metadata": {},
          "execution_count": 7
        }
      ]
    },
    {
      "cell_type": "markdown",
      "source": [
        "return new list, didnt change original list"
      ],
      "metadata": {
        "id": "XR2PeB6QhzZH"
      }
    },
    {
      "cell_type": "code",
      "source": [
        "b= sorted(a)\n",
        "b"
      ],
      "metadata": {
        "colab": {
          "base_uri": "https://localhost:8080/"
        },
        "id": "AYyl6-Jmh95W",
        "outputId": "59d75bd7-f49c-4b7e-f1a2-48dd7482de45"
      },
      "execution_count": 10,
      "outputs": [
        {
          "output_type": "execute_result",
          "data": {
            "text/plain": [
              "[10, 12, 13, 20, 30]"
            ]
          },
          "metadata": {},
          "execution_count": 10
        }
      ]
    },
    {
      "cell_type": "markdown",
      "source": [
        "reversed() return Iterator object\n"
      ],
      "metadata": {
        "id": "Sx8wOQU-ioJX"
      }
    },
    {
      "cell_type": "code",
      "source": [
        "c = reversed(a)\n",
        "c"
      ],
      "metadata": {
        "colab": {
          "base_uri": "https://localhost:8080/"
        },
        "id": "RpQzIHZGi3U4",
        "outputId": "2708bbdc-d67a-4b6e-d99b-2be5fc801fc4"
      },
      "execution_count": 12,
      "outputs": [
        {
          "output_type": "execute_result",
          "data": {
            "text/plain": [
              "<list_reverseiterator at 0x7ff40521b350>"
            ]
          },
          "metadata": {},
          "execution_count": 12
        }
      ]
    },
    {
      "cell_type": "code",
      "source": [
        "list(c)"
      ],
      "metadata": {
        "colab": {
          "base_uri": "https://localhost:8080/"
        },
        "id": "-pTfcd73i876",
        "outputId": "aab01fda-2d5d-42c0-e90e-67db0679e2de"
      },
      "execution_count": 13,
      "outputs": [
        {
          "output_type": "execute_result",
          "data": {
            "text/plain": [
              "[10, 12, 30, 20, 13]"
            ]
          },
          "metadata": {},
          "execution_count": 13
        }
      ]
    },
    {
      "cell_type": "markdown",
      "source": [
        "the iterator only can be used once. there is pointer stored and after pointer loop each item and pointer will point to null. this is reason why print didnt work and list(c) again, it return [] list "
      ],
      "metadata": {
        "id": "F9nl9XUQjUfd"
      }
    },
    {
      "cell_type": "code",
      "source": [
        "for item in c: \n",
        "  print(item)"
      ],
      "metadata": {
        "id": "irhHs7Y3i-QV"
      },
      "execution_count": 16,
      "outputs": []
    },
    {
      "cell_type": "code",
      "source": [
        "list(c)"
      ],
      "metadata": {
        "colab": {
          "base_uri": "https://localhost:8080/"
        },
        "id": "xxLXOdDyjHKM",
        "outputId": "f65bdd61-6d08-47a6-a0b3-9885082ff3cb"
      },
      "execution_count": 17,
      "outputs": [
        {
          "output_type": "execute_result",
          "data": {
            "text/plain": [
              "[]"
            ]
          },
          "metadata": {},
          "execution_count": 17
        }
      ]
    },
    {
      "cell_type": "markdown",
      "source": [
        "max,min,sum"
      ],
      "metadata": {
        "id": "iJUZc72Nj-0s"
      }
    },
    {
      "cell_type": "markdown",
      "source": [
        "##### multidimensional list - 2Dlist\n",
        "\n",
        "> How to know how many dimension fast? count the brucket [[[: 3 d\n",
        "[[: 2d \n",
        "\n"
      ],
      "metadata": {
        "id": "JHV9wMoOkCl_"
      }
    },
    {
      "cell_type": "code",
      "source": [
        "a = [10,20,30,40]\n",
        "b = [\n",
        "     ['HH',32,8000,'FJ'],\n",
        "     ['QQ',33,6000,'FJ'],\n",
        "     ['LL',26,5000,'DB']\n",
        "] "
      ],
      "metadata": {
        "id": "HN1ixoIEkOP8"
      },
      "execution_count": 20,
      "outputs": []
    },
    {
      "cell_type": "code",
      "source": [
        "b[0][0]"
      ],
      "metadata": {
        "colab": {
          "base_uri": "https://localhost:8080/",
          "height": 35
        },
        "id": "rTxktWkck9D9",
        "outputId": "ea74b094-f470-4043-89e4-dafccfb46d9b"
      },
      "execution_count": 19,
      "outputs": [
        {
          "output_type": "execute_result",
          "data": {
            "text/plain": [
              "'HH'"
            ],
            "application/vnd.google.colaboratory.intrinsic+json": {
              "type": "string"
            }
          },
          "metadata": {},
          "execution_count": 19
        }
      ]
    },
    {
      "cell_type": "markdown",
      "source": [
        "list store id of each list and this id of list store in variable\n"
      ],
      "metadata": {
        "id": "Ow-vyWbTlz6C"
      }
    },
    {
      "cell_type": "code",
      "source": [
        " for i in range(len(b)):\n",
        "   for j in range(len(b[0])):\n",
        "     print(b[i][j],end='\\t')\n",
        "   print() # after print one line, change line"
      ],
      "metadata": {
        "colab": {
          "base_uri": "https://localhost:8080/"
        },
        "id": "tmW7dbLgl9F0",
        "outputId": "a0a44850-a95a-47e8-e82a-bafadbc86715"
      },
      "execution_count": 23,
      "outputs": [
        {
          "output_type": "stream",
          "name": "stdout",
          "text": [
            "HH\t32\t8000\tFJ\t\n",
            "QQ\t33\t6000\tFJ\t\n",
            "LL\t26\t5000\tDB\t\n"
          ]
        }
      ]
    },
    {
      "cell_type": "markdown",
      "source": [
        "#### Tuple\n",
        "\n",
        "> Tuple can not be change, therefore there is no method for adding, removing, changing item\n",
        "\n",
        "\n"
      ],
      "metadata": {
        "id": "29nktCTAnMzv"
      }
    },
    {
      "cell_type": "markdown",
      "source": [
        "##### Tuple creation\n"
      ],
      "metadata": {
        "id": "sm8EUf62nkY9"
      }
    },
    {
      "cell_type": "code",
      "source": [
        "aa = (1,2,3,4,5)"
      ],
      "metadata": {
        "id": "h7tYFGHWnnhM"
      },
      "execution_count": 24,
      "outputs": []
    },
    {
      "cell_type": "code",
      "source": [
        "type(aa)"
      ],
      "metadata": {
        "colab": {
          "base_uri": "https://localhost:8080/"
        },
        "id": "xBVxS3njnp-L",
        "outputId": "f69c9d98-0953-4264-a5da-bda6ff5279dc"
      },
      "execution_count": 25,
      "outputs": [
        {
          "output_type": "execute_result",
          "data": {
            "text/plain": [
              "tuple"
            ]
          },
          "metadata": {},
          "execution_count": 25
        }
      ]
    },
    {
      "cell_type": "code",
      "source": [
        "bb= [1,2,3,4,5]\n",
        "tuple(bb)"
      ],
      "metadata": {
        "colab": {
          "base_uri": "https://localhost:8080/"
        },
        "id": "DR5_FHpXnreS",
        "outputId": "0e28f835-a41a-4e71-dbb3-a7794081584e"
      },
      "execution_count": 26,
      "outputs": [
        {
          "output_type": "execute_result",
          "data": {
            "text/plain": [
              "(1, 2, 3, 4, 5)"
            ]
          },
          "metadata": {},
          "execution_count": 26
        }
      ]
    },
    {
      "cell_type": "code",
      "source": [
        "cc = (20)\n",
        "print(type(cc))\n",
        "dd = (20,)\n",
        "print(type(dd))"
      ],
      "metadata": {
        "colab": {
          "base_uri": "https://localhost:8080/"
        },
        "id": "OiiCaxgJoT_0",
        "outputId": "4fd1c30c-0b87-48f3-abb0-a44959cd55ad"
      },
      "execution_count": 27,
      "outputs": [
        {
          "output_type": "stream",
          "name": "stdout",
          "text": [
            "<class 'int'>\n",
            "<class 'tuple'>\n"
          ]
        }
      ]
    },
    {
      "cell_type": "code",
      "source": [
        "tuple('abc')"
      ],
      "metadata": {
        "colab": {
          "base_uri": "https://localhost:8080/"
        },
        "id": "aAiyZ_bJoiI3",
        "outputId": "3d08708a-df2e-4641-b72d-3848248cc94a"
      },
      "execution_count": 28,
      "outputs": [
        {
          "output_type": "execute_result",
          "data": {
            "text/plain": [
              "('a', 'b', 'c')"
            ]
          },
          "metadata": {},
          "execution_count": 28
        }
      ]
    },
    {
      "cell_type": "code",
      "source": [
        "list('abcd')"
      ],
      "metadata": {
        "colab": {
          "base_uri": "https://localhost:8080/"
        },
        "id": "2Sha2FZGoun6",
        "outputId": "e6775b6a-b240-48ac-8b73-eb98795959e8"
      },
      "execution_count": 29,
      "outputs": [
        {
          "output_type": "execute_result",
          "data": {
            "text/plain": [
              "['a', 'b', 'c', 'd']"
            ]
          },
          "metadata": {},
          "execution_count": 29
        }
      ]
    },
    {
      "cell_type": "code",
      "source": [
        "del cc # for delete whole tuple"
      ],
      "metadata": {
        "id": "ZRZ2OAu2oxPo"
      },
      "execution_count": null,
      "outputs": []
    },
    {
      "cell_type": "code",
      "source": [
        "aa[3]"
      ],
      "metadata": {
        "colab": {
          "base_uri": "https://localhost:8080/"
        },
        "id": "ycgkue0FnOZJ",
        "outputId": "a87d16f5-8e04-4865-8c14-1d5570e91d3f"
      },
      "execution_count": 30,
      "outputs": [
        {
          "output_type": "execute_result",
          "data": {
            "text/plain": [
              "4"
            ]
          },
          "metadata": {},
          "execution_count": 30
        }
      ]
    },
    {
      "cell_type": "code",
      "source": [
        "aa[3]=5"
      ],
      "metadata": {
        "colab": {
          "base_uri": "https://localhost:8080/",
          "height": 169
        },
        "id": "8WzS0-aepEb1",
        "outputId": "ded79967-8190-44d8-a1a2-90b3a1da5d07"
      },
      "execution_count": 31,
      "outputs": [
        {
          "output_type": "error",
          "ename": "TypeError",
          "evalue": "ignored",
          "traceback": [
            "\u001b[0;31m---------------------------------------------------------------------------\u001b[0m",
            "\u001b[0;31mTypeError\u001b[0m                                 Traceback (most recent call last)",
            "\u001b[0;32m<ipython-input-31-4d4ec220f172>\u001b[0m in \u001b[0;36m<module>\u001b[0;34m()\u001b[0m\n\u001b[0;32m----> 1\u001b[0;31m \u001b[0maa\u001b[0m\u001b[0;34m[\u001b[0m\u001b[0;36m3\u001b[0m\u001b[0;34m]\u001b[0m\u001b[0;34m=\u001b[0m\u001b[0;36m5\u001b[0m\u001b[0;34m\u001b[0m\u001b[0;34m\u001b[0m\u001b[0m\n\u001b[0m",
            "\u001b[0;31mTypeError\u001b[0m: 'tuple' object does not support item assignment"
          ]
        }
      ]
    },
    {
      "cell_type": "code",
      "source": [
        "aa[1:3]"
      ],
      "metadata": {
        "colab": {
          "base_uri": "https://localhost:8080/"
        },
        "id": "BnBRbHm1pGVE",
        "outputId": "8212644f-4abc-48ac-98e4-60012a6455ed"
      },
      "execution_count": 32,
      "outputs": [
        {
          "output_type": "execute_result",
          "data": {
            "text/plain": [
              "(2, 3)"
            ]
          },
          "metadata": {},
          "execution_count": 32
        }
      ]
    },
    {
      "cell_type": "code",
      "source": [
        "aa[::-1]"
      ],
      "metadata": {
        "colab": {
          "base_uri": "https://localhost:8080/"
        },
        "id": "0jv8S75mpMAz",
        "outputId": "b2f5378a-09bb-40ae-f2ea-8a41e6db490e"
      },
      "execution_count": 33,
      "outputs": [
        {
          "output_type": "execute_result",
          "data": {
            "text/plain": [
              "(5, 4, 3, 2, 1)"
            ]
          },
          "metadata": {},
          "execution_count": 33
        }
      ]
    },
    {
      "cell_type": "code",
      "source": [
        "sorted(aa)  # aa is tuple object and after sorting, return list object "
      ],
      "metadata": {
        "colab": {
          "base_uri": "https://localhost:8080/"
        },
        "id": "ncrWXhjzpN4a",
        "outputId": "a4bd4394-24ee-4f5e-f919-0d78bc557f80"
      },
      "execution_count": 35,
      "outputs": [
        {
          "output_type": "execute_result",
          "data": {
            "text/plain": [
              "[1, 2, 3, 4, 5]"
            ]
          },
          "metadata": {},
          "execution_count": 35
        }
      ]
    },
    {
      "cell_type": "markdown",
      "source": [
        "##### zip\n"
      ],
      "metadata": {
        "id": "gTgoyDcOptTX"
      }
    },
    {
      "cell_type": "code",
      "source": [
        "a = list([1,2,3])\n",
        "b = list([2,3,4])\n",
        "c = list([4,5,6])"
      ],
      "metadata": {
        "id": "NCKHEM75pvWY"
      },
      "execution_count": 37,
      "outputs": []
    },
    {
      "cell_type": "code",
      "source": [
        "d = zip(a,b,c)\n",
        "d"
      ],
      "metadata": {
        "colab": {
          "base_uri": "https://localhost:8080/"
        },
        "id": "bvTQwy-4qHh5",
        "outputId": "9fdd2aa1-3939-4dd0-b8c2-b9f43cfae4e1"
      },
      "execution_count": 39,
      "outputs": [
        {
          "output_type": "execute_result",
          "data": {
            "text/plain": [
              "<zip at 0x7ff4051eae60>"
            ]
          },
          "metadata": {},
          "execution_count": 39
        }
      ]
    },
    {
      "cell_type": "markdown",
      "source": [
        "##### List comprehension\n"
      ],
      "metadata": {
        "id": "KvFel_pnqdpF"
      }
    },
    {
      "cell_type": "code",
      "source": [
        "s= (x*2 for x in range(4))\n",
        "s"
      ],
      "metadata": {
        "colab": {
          "base_uri": "https://localhost:8080/"
        },
        "id": "GOpRulBoqiP8",
        "outputId": "8d2fea97-a6ee-4984-904c-a6d212721836"
      },
      "execution_count": 53,
      "outputs": [
        {
          "output_type": "execute_result",
          "data": {
            "text/plain": [
              "<generator object <genexpr> at 0x7ff4051e97d0>"
            ]
          },
          "metadata": {},
          "execution_count": 53
        }
      ]
    },
    {
      "cell_type": "code",
      "source": [
        "dd = tuple(s)"
      ],
      "metadata": {
        "id": "3k7td9S_qqm1"
      },
      "execution_count": 45,
      "outputs": []
    },
    {
      "cell_type": "code",
      "source": [
        "tuple(s) # it means the generator only for once"
      ],
      "metadata": {
        "colab": {
          "base_uri": "https://localhost:8080/"
        },
        "id": "v79a65Kkqt_n",
        "outputId": "647b99db-7a98-4980-b6bf-8c2a265e74be"
      },
      "execution_count": 51,
      "outputs": [
        {
          "output_type": "execute_result",
          "data": {
            "text/plain": [
              "()"
            ]
          },
          "metadata": {},
          "execution_count": 51
        }
      ]
    },
    {
      "cell_type": "code",
      "source": [
        "s.__next__() # point to different item by using pointer"
      ],
      "metadata": {
        "colab": {
          "base_uri": "https://localhost:8080/"
        },
        "id": "bW-atyfzrSXN",
        "outputId": "3b86913d-a16b-404d-8fb7-8a95a25ffbcc"
      },
      "execution_count": 55,
      "outputs": [
        {
          "output_type": "execute_result",
          "data": {
            "text/plain": [
              "2"
            ]
          },
          "metadata": {},
          "execution_count": 55
        }
      ]
    },
    {
      "cell_type": "code",
      "source": [
        ""
      ],
      "metadata": {
        "id": "4sj3UQOXrY8p"
      },
      "execution_count": null,
      "outputs": []
    },
    {
      "cell_type": "code",
      "source": [
        "dd"
      ],
      "metadata": {
        "colab": {
          "base_uri": "https://localhost:8080/"
        },
        "id": "_ewuAMvVq1ui",
        "outputId": "c2e218ee-89ce-4062-df07-ba021cb6dfdd"
      },
      "execution_count": 50,
      "outputs": [
        {
          "output_type": "execute_result",
          "data": {
            "text/plain": [
              "(0, 2, 4, 6)"
            ]
          },
          "metadata": {},
          "execution_count": 50
        }
      ]
    },
    {
      "cell_type": "markdown",
      "source": [
        "#### dic\n",
        "\n",
        "> Dictionaries are used to store data values in key:value pairs.\n",
        "\n",
        "A dictionary is a collection which is ordered* after python 3.7, changeable and do not allow key duplicates. \n",
        "\n"
      ],
      "metadata": {
        "id": "Y4g30Vnfr9wR"
      }
    },
    {
      "cell_type": "code",
      "source": [
        "a = {'name':'HH','age':32,'job':'DS'}"
      ],
      "metadata": {
        "id": "KMtXWEtmsUm8"
      },
      "execution_count": 56,
      "outputs": []
    },
    {
      "cell_type": "markdown",
      "source": [
        "##### dict creation"
      ],
      "metadata": {
        "id": "0Exx87QFs0e5"
      }
    },
    {
      "cell_type": "markdown",
      "source": [
        "{} , dict() "
      ],
      "metadata": {
        "id": "zGDCmoYutd6q"
      }
    },
    {
      "cell_type": "code",
      "source": [
        "b = dict(name='HH',age=32)"
      ],
      "metadata": {
        "id": "txnH-0CWtgcv"
      },
      "execution_count": 59,
      "outputs": []
    },
    {
      "cell_type": "code",
      "source": [
        "b"
      ],
      "metadata": {
        "colab": {
          "base_uri": "https://localhost:8080/"
        },
        "id": "amodUz2Bt_H4",
        "outputId": "0e6887b8-56b9-413a-d395-31c3c656ee51"
      },
      "execution_count": 60,
      "outputs": [
        {
          "output_type": "execute_result",
          "data": {
            "text/plain": [
              "{'age': 32, 'name': 'HH'}"
            ]
          },
          "metadata": {},
          "execution_count": 60
        }
      ]
    },
    {
      "cell_type": "code",
      "source": [
        "c = {}"
      ],
      "metadata": {
        "id": "fGI7RnNtuAWb"
      },
      "execution_count": 61,
      "outputs": []
    },
    {
      "cell_type": "markdown",
      "source": [
        "zip() create dict object\n"
      ],
      "metadata": {
        "id": "ZN6FNzycuX0R"
      }
    },
    {
      "cell_type": "code",
      "source": [
        "k = ['name','age','job']\n",
        "v = ['HH','32','DS']\n",
        "zip(k,v)"
      ],
      "metadata": {
        "colab": {
          "base_uri": "https://localhost:8080/"
        },
        "id": "9v3vQlBDubw3",
        "outputId": "43ad753a-2b79-4891-fbfb-eadd2cb9eb76"
      },
      "execution_count": 62,
      "outputs": [
        {
          "output_type": "execute_result",
          "data": {
            "text/plain": [
              "<zip at 0x7ff4050e6e60>"
            ]
          },
          "metadata": {},
          "execution_count": 62
        }
      ]
    },
    {
      "cell_type": "markdown",
      "source": [
        "#### why it change the order for me ? \n"
      ],
      "metadata": {
        "id": "1Ncb5bCju118"
      }
    },
    {
      "cell_type": "code",
      "source": [
        ""
      ],
      "metadata": {
        "id": "pp66xI1su0-l"
      },
      "execution_count": null,
      "outputs": []
    },
    {
      "cell_type": "code",
      "source": [
        "d = dict(zip(k,v))\n",
        "d"
      ],
      "metadata": {
        "colab": {
          "base_uri": "https://localhost:8080/"
        },
        "id": "LnRAZ4XhumIP",
        "outputId": "ac39d348-2d63-42e3-dfe4-f5b105e31ca1"
      },
      "execution_count": 65,
      "outputs": [
        {
          "output_type": "execute_result",
          "data": {
            "text/plain": [
              "{'age': '32', 'job': 'DS', 'name': 'HH'}"
            ]
          },
          "metadata": {},
          "execution_count": 65
        }
      ]
    },
    {
      "cell_type": "markdown",
      "source": [
        "fromkeys()"
      ],
      "metadata": {
        "id": "OASFdT4Xviae"
      }
    },
    {
      "cell_type": "code",
      "source": [
        "a = dict.fromkeys(['name','age','job'])\n",
        "a"
      ],
      "metadata": {
        "colab": {
          "base_uri": "https://localhost:8080/"
        },
        "id": "cwdjAsO9vlHd",
        "outputId": "e23c1418-23ff-4d3c-dc5a-59c00b3deead"
      },
      "execution_count": 67,
      "outputs": [
        {
          "output_type": "execute_result",
          "data": {
            "text/plain": [
              "{'age': None, 'job': None, 'name': None}"
            ]
          },
          "metadata": {},
          "execution_count": 67
        }
      ]
    },
    {
      "cell_type": "markdown",
      "source": [
        "##### access dict's item"
      ],
      "metadata": {
        "id": "uDHB2Q4Mv6ig"
      }
    },
    {
      "cell_type": "code",
      "source": [
        "d"
      ],
      "metadata": {
        "colab": {
          "base_uri": "https://localhost:8080/"
        },
        "id": "Fp3apY4GwTMa",
        "outputId": "6d1838b0-1b45-4eba-f120-9a3d991528eb"
      },
      "execution_count": 71,
      "outputs": [
        {
          "output_type": "execute_result",
          "data": {
            "text/plain": [
              "{'age': '32', 'job': 'DS', 'name': 'HH'}"
            ]
          },
          "metadata": {},
          "execution_count": 71
        }
      ]
    },
    {
      "cell_type": "markdown",
      "source": [
        "by [key], if key is not exist, throw error, therefore, we use get() ,if get(key) is not exist, it will return None"
      ],
      "metadata": {
        "id": "oFUfGROmwcnF"
      }
    },
    {
      "cell_type": "code",
      "source": [
        "d['name']"
      ],
      "metadata": {
        "colab": {
          "base_uri": "https://localhost:8080/",
          "height": 35
        },
        "id": "iOtV7J6swpOE",
        "outputId": "b457afb6-3c37-4efc-96a3-9f8278149cff"
      },
      "execution_count": 72,
      "outputs": [
        {
          "output_type": "execute_result",
          "data": {
            "text/plain": [
              "'HH'"
            ],
            "application/vnd.google.colaboratory.intrinsic+json": {
              "type": "string"
            }
          },
          "metadata": {},
          "execution_count": 72
        }
      ]
    },
    {
      "cell_type": "code",
      "source": [
        "d['names']"
      ],
      "metadata": {
        "colab": {
          "base_uri": "https://localhost:8080/",
          "height": 169
        },
        "id": "FdYPkf8Jwrs2",
        "outputId": "a883ca2e-4982-44b5-fbbc-8348af40cc59"
      },
      "execution_count": 73,
      "outputs": [
        {
          "output_type": "error",
          "ename": "KeyError",
          "evalue": "ignored",
          "traceback": [
            "\u001b[0;31m---------------------------------------------------------------------------\u001b[0m",
            "\u001b[0;31mKeyError\u001b[0m                                  Traceback (most recent call last)",
            "\u001b[0;32m<ipython-input-73-a53a01d1c02f>\u001b[0m in \u001b[0;36m<module>\u001b[0;34m()\u001b[0m\n\u001b[0;32m----> 1\u001b[0;31m \u001b[0md\u001b[0m\u001b[0;34m[\u001b[0m\u001b[0;34m'names'\u001b[0m\u001b[0;34m]\u001b[0m\u001b[0;34m\u001b[0m\u001b[0;34m\u001b[0m\u001b[0m\n\u001b[0m",
            "\u001b[0;31mKeyError\u001b[0m: 'names'"
          ]
        }
      ]
    },
    {
      "cell_type": "code",
      "source": [
        "d.get('name')"
      ],
      "metadata": {
        "colab": {
          "base_uri": "https://localhost:8080/",
          "height": 35
        },
        "id": "F2GUrF7xwtl_",
        "outputId": "bb8ab43c-9c80-4fc7-9b41-554bf4d0b188"
      },
      "execution_count": 74,
      "outputs": [
        {
          "output_type": "execute_result",
          "data": {
            "text/plain": [
              "'HH'"
            ],
            "application/vnd.google.colaboratory.intrinsic+json": {
              "type": "string"
            }
          },
          "metadata": {},
          "execution_count": 74
        }
      ]
    },
    {
      "cell_type": "code",
      "source": [
        "d.get('names') # return None\n"
      ],
      "metadata": {
        "id": "svgy5_eBwv4U"
      },
      "execution_count": 76,
      "outputs": []
    },
    {
      "cell_type": "code",
      "source": [
        "d.get('names','handsome man') # if key is not existing, return the 'handsome man'"
      ],
      "metadata": {
        "colab": {
          "base_uri": "https://localhost:8080/",
          "height": 35
        },
        "id": "bVLRjPjxxBfG",
        "outputId": "a5c58763-f3d8-4b81-84dd-10142dbc6242"
      },
      "execution_count": 77,
      "outputs": [
        {
          "output_type": "execute_result",
          "data": {
            "text/plain": [
              "'handsome man'"
            ],
            "application/vnd.google.colaboratory.intrinsic+json": {
              "type": "string"
            }
          },
          "metadata": {},
          "execution_count": 77
        }
      ]
    },
    {
      "cell_type": "markdown",
      "source": [
        "loop items"
      ],
      "metadata": {
        "id": "GQJXLiT8xXgJ"
      }
    },
    {
      "cell_type": "code",
      "source": [
        "d.items()  # return one list contains different tuple"
      ],
      "metadata": {
        "colab": {
          "base_uri": "https://localhost:8080/"
        },
        "id": "CToorfNIxY7V",
        "outputId": "130cb915-58bd-4fd2-d7d3-c9319d31d592"
      },
      "execution_count": 78,
      "outputs": [
        {
          "output_type": "execute_result",
          "data": {
            "text/plain": [
              "dict_items([('name', 'HH'), ('age', '32'), ('job', 'DS')])"
            ]
          },
          "metadata": {},
          "execution_count": 78
        }
      ]
    },
    {
      "cell_type": "code",
      "source": [
        "d.keys()"
      ],
      "metadata": {
        "colab": {
          "base_uri": "https://localhost:8080/"
        },
        "id": "ySYxbMXTxaNp",
        "outputId": "5186665a-66af-4b3c-fdf3-5d33775ce520"
      },
      "execution_count": 79,
      "outputs": [
        {
          "output_type": "execute_result",
          "data": {
            "text/plain": [
              "dict_keys(['name', 'age', 'job'])"
            ]
          },
          "metadata": {},
          "execution_count": 79
        }
      ]
    },
    {
      "cell_type": "code",
      "source": [
        "d.values()"
      ],
      "metadata": {
        "colab": {
          "base_uri": "https://localhost:8080/"
        },
        "id": "mneAfd-LxcnJ",
        "outputId": "be42994d-88a1-4576-9ce5-e25410100abb"
      },
      "execution_count": 80,
      "outputs": [
        {
          "output_type": "execute_result",
          "data": {
            "text/plain": [
              "dict_values(['HH', '32', 'DS'])"
            ]
          },
          "metadata": {},
          "execution_count": 80
        }
      ]
    },
    {
      "cell_type": "code",
      "source": [
        "len(d) # count how many pairs existing"
      ],
      "metadata": {
        "colab": {
          "base_uri": "https://localhost:8080/"
        },
        "id": "7pXG0wnFxe5h",
        "outputId": "a642190a-b911-4e8b-bd2e-7a13f6e4a840"
      },
      "execution_count": 81,
      "outputs": [
        {
          "output_type": "execute_result",
          "data": {
            "text/plain": [
              "3"
            ]
          },
          "metadata": {},
          "execution_count": 81
        }
      ]
    },
    {
      "cell_type": "code",
      "source": [
        "'name' in d"
      ],
      "metadata": {
        "colab": {
          "base_uri": "https://localhost:8080/"
        },
        "id": "LqyLiZAJxu3F",
        "outputId": "73a1c12d-733c-4daa-a6f6-6bac9b09bea7"
      },
      "execution_count": 82,
      "outputs": [
        {
          "output_type": "execute_result",
          "data": {
            "text/plain": [
              "True"
            ]
          },
          "metadata": {},
          "execution_count": 82
        }
      ]
    },
    {
      "cell_type": "code",
      "source": [
        "'32' in d.values()"
      ],
      "metadata": {
        "colab": {
          "base_uri": "https://localhost:8080/"
        },
        "id": "PHx_-g9vx-LE",
        "outputId": "3d499196-af48-4616-faa6-d76a6f16311b"
      },
      "execution_count": 83,
      "outputs": [
        {
          "output_type": "execute_result",
          "data": {
            "text/plain": [
              "True"
            ]
          },
          "metadata": {},
          "execution_count": 83
        }
      ]
    },
    {
      "cell_type": "code",
      "source": [
        ""
      ],
      "metadata": {
        "id": "_fDCJEcmyVET"
      },
      "execution_count": null,
      "outputs": []
    },
    {
      "cell_type": "markdown",
      "source": [
        "#### what is None in python\n",
        "\n",
        "> Indented block\n",
        "\n"
      ],
      "metadata": {
        "id": "nKuL6EITw3Q0"
      }
    },
    {
      "cell_type": "markdown",
      "source": [
        "##### add, modify, del item from dict "
      ],
      "metadata": {
        "id": "zlj1e3o6x6dG"
      }
    },
    {
      "cell_type": "code",
      "source": [
        "d['address']='FJ' # if key existing , update, if key dont existing, add item"
      ],
      "metadata": {
        "id": "3rXNU0NDx3zh"
      },
      "execution_count": 85,
      "outputs": []
    },
    {
      "cell_type": "code",
      "source": [
        "d"
      ],
      "metadata": {
        "colab": {
          "base_uri": "https://localhost:8080/"
        },
        "id": "OOVqfbThxHA_",
        "outputId": "206a0959-f06c-4b9c-a5a1-a4b7a66ba998"
      },
      "execution_count": 86,
      "outputs": [
        {
          "output_type": "execute_result",
          "data": {
            "text/plain": [
              "{'address': 'FJ', 'age': '32', 'job': 'DS', 'name': 'HH'}"
            ]
          },
          "metadata": {},
          "execution_count": 86
        }
      ]
    },
    {
      "cell_type": "code",
      "source": [
        "import sys\n",
        "sys.version"
      ],
      "metadata": {
        "colab": {
          "base_uri": "https://localhost:8080/",
          "height": 35
        },
        "id": "rerHhO08w6Cf",
        "outputId": "3c239055-fcc3-4bf6-8154-86ff7c82759e"
      },
      "execution_count": 87,
      "outputs": [
        {
          "output_type": "execute_result",
          "data": {
            "text/plain": [
              "'3.7.13 (default, Apr 24 2022, 01:04:09) \\n[GCC 7.5.0]'"
            ],
            "application/vnd.google.colaboratory.intrinsic+json": {
              "type": "string"
            }
          },
          "metadata": {},
          "execution_count": 87
        }
      ]
    },
    {
      "cell_type": "markdown",
      "source": [
        "update() : if there is two dict\n",
        "a. update(b) if key is same, update, if key is different, will add item"
      ],
      "metadata": {
        "id": "C2Qkdjl1zJOS"
      }
    },
    {
      "cell_type": "code",
      "source": [
        "g = {'name':'HHH','eduction':'Master','habbit':'mm'}"
      ],
      "metadata": {
        "id": "caDLqS9Ywytz"
      },
      "execution_count": 91,
      "outputs": []
    },
    {
      "cell_type": "code",
      "source": [
        "d.update(g)\n",
        "d"
      ],
      "metadata": {
        "colab": {
          "base_uri": "https://localhost:8080/"
        },
        "id": "uWJSJPiywZ3-",
        "outputId": "62d801f9-97e7-4241-d23e-2044c1e51e94"
      },
      "execution_count": 92,
      "outputs": [
        {
          "output_type": "execute_result",
          "data": {
            "text/plain": [
              "{'address': 'FJ',\n",
              " 'age': '32',\n",
              " 'eduction': 'Master',\n",
              " 'habbit': 'mm',\n",
              " 'job': 'DS',\n",
              " 'name': 'HHH'}"
            ]
          },
          "metadata": {},
          "execution_count": 92
        }
      ]
    },
    {
      "cell_type": "markdown",
      "source": [
        "##### del"
      ],
      "metadata": {
        "id": "yxnKkzHXzws9"
      }
    },
    {
      "cell_type": "code",
      "source": [
        "#del()\n",
        "del(d['age'])"
      ],
      "metadata": {
        "id": "PxJ7oaRYzjsL"
      },
      "execution_count": 94,
      "outputs": []
    },
    {
      "cell_type": "code",
      "source": [
        "d"
      ],
      "metadata": {
        "colab": {
          "base_uri": "https://localhost:8080/"
        },
        "id": "3Ezybn4O0BlI",
        "outputId": "13170e35-d598-4cd3-d53c-cdf23656de83"
      },
      "execution_count": 95,
      "outputs": [
        {
          "output_type": "execute_result",
          "data": {
            "text/plain": [
              "{'address': 'FJ',\n",
              " 'eduction': 'Master',\n",
              " 'habbit': 'mm',\n",
              " 'job': 'DS',\n",
              " 'name': 'HHH'}"
            ]
          },
          "metadata": {},
          "execution_count": 95
        }
      ]
    },
    {
      "cell_type": "code",
      "source": [
        "b = d.pop(\"name\")\n",
        "b"
      ],
      "metadata": {
        "colab": {
          "base_uri": "https://localhost:8080/",
          "height": 35
        },
        "id": "Bhmy3QZK0CR2",
        "outputId": "9f157b90-c247-4473-c41f-7e327616e5e6"
      },
      "execution_count": 96,
      "outputs": [
        {
          "output_type": "execute_result",
          "data": {
            "text/plain": [
              "'HHH'"
            ],
            "application/vnd.google.colaboratory.intrinsic+json": {
              "type": "string"
            }
          },
          "metadata": {},
          "execution_count": 96
        }
      ]
    },
    {
      "cell_type": "code",
      "source": [
        "d.clear()\n",
        "d"
      ],
      "metadata": {
        "colab": {
          "base_uri": "https://localhost:8080/"
        },
        "id": "lf5QF8e_ziaF",
        "outputId": "8df831c1-e871-4ea0-ac91-33e481591082"
      },
      "execution_count": 98,
      "outputs": [
        {
          "output_type": "execute_result",
          "data": {
            "text/plain": [
              "{}"
            ]
          },
          "metadata": {},
          "execution_count": 98
        }
      ]
    },
    {
      "cell_type": "code",
      "source": [
        "popitem() #randomly remove one pair, no need to get key firstly"
      ],
      "metadata": {
        "id": "YVT-Mw9gwYqm"
      },
      "execution_count": null,
      "outputs": []
    },
    {
      "cell_type": "markdown",
      "source": [
        "##### sequence unpacking\n"
      ],
      "metadata": {
        "id": "JQgieRCE06h_"
      }
    },
    {
      "cell_type": "code",
      "source": [
        " s = {'name':'HH','age':'32','job':'DS'}\n",
        " "
      ],
      "metadata": {
        "id": "CDKZDKIuwWyw"
      },
      "execution_count": 100,
      "outputs": []
    },
    {
      "cell_type": "code",
      "source": [
        "name,age,job = s # for key\n",
        "age"
      ],
      "metadata": {
        "colab": {
          "base_uri": "https://localhost:8080/",
          "height": 35
        },
        "id": "Q9pEniBywVpW",
        "outputId": "91e2507b-b55b-443e-e151-e6930acc72fc"
      },
      "execution_count": 106,
      "outputs": [
        {
          "output_type": "execute_result",
          "data": {
            "text/plain": [
              "'age'"
            ],
            "application/vnd.google.colaboratory.intrinsic+json": {
              "type": "string"
            }
          },
          "metadata": {},
          "execution_count": 106
        }
      ]
    },
    {
      "cell_type": "code",
      "source": [
        "name,age,job=s.items() #for item\n",
        "age"
      ],
      "metadata": {
        "colab": {
          "base_uri": "https://localhost:8080/"
        },
        "id": "GWldCRFJvrhz",
        "outputId": "97885da9-a93e-44bc-85af-edf9d68831d0"
      },
      "execution_count": 105,
      "outputs": [
        {
          "output_type": "execute_result",
          "data": {
            "text/plain": [
              "('age', '32')"
            ]
          },
          "metadata": {},
          "execution_count": 105
        }
      ]
    },
    {
      "cell_type": "code",
      "source": [
        "name,age,job = s.values() #for value\n",
        "age "
      ],
      "metadata": {
        "colab": {
          "base_uri": "https://localhost:8080/",
          "height": 35
        },
        "id": "KrpJTrXzvpg2",
        "outputId": "ff718434-3cd3-4192-872c-f0ffd0c0553c"
      },
      "execution_count": 104,
      "outputs": [
        {
          "output_type": "execute_result",
          "data": {
            "text/plain": [
              "'32'"
            ],
            "application/vnd.google.colaboratory.intrinsic+json": {
              "type": "string"
            }
          },
          "metadata": {},
          "execution_count": 104
        }
      ]
    },
    {
      "cell_type": "markdown",
      "source": [
        "##### use list & dict to represent table"
      ],
      "metadata": {
        "id": "1V6u10fl_8LX"
      }
    },
    {
      "cell_type": "code",
      "source": [
        "d1= {'name':'HH','age':'32'}\n",
        "d2= {'name':'QQ','age':'32'}\n",
        "d3= {'name':'LL','age':'32'}\n",
        "tb = [d1,d2,d3]"
      ],
      "metadata": {
        "id": "wKUpRquKuvMg"
      },
      "execution_count": 109,
      "outputs": []
    },
    {
      "cell_type": "code",
      "source": [
        "tb[1].get('name')"
      ],
      "metadata": {
        "colab": {
          "base_uri": "https://localhost:8080/",
          "height": 35
        },
        "id": "IfBBAUDqut4p",
        "outputId": "1ca637a9-e5ed-48cc-cfeb-57cca64fbe5a"
      },
      "execution_count": 110,
      "outputs": [
        {
          "output_type": "execute_result",
          "data": {
            "text/plain": [
              "'QQ'"
            ],
            "application/vnd.google.colaboratory.intrinsic+json": {
              "type": "string"
            }
          },
          "metadata": {},
          "execution_count": 110
        }
      ]
    },
    {
      "cell_type": "markdown",
      "source": [
        "##### dict： underlying principle\n",
        "\n",
        ">  dict object 的核心是散列表。 散列表是一个稀疏数组。  unit of 数组叫： bucket\n",
        "bucket = reference of key object + reference of value object\n",
        "\n",
        "\n",
        "> problem： how  key value related to index \n",
        "\n",
        "\n",
        "\n"
      ],
      "metadata": {
        "id": "aZJxeHpMAtha"
      }
    },
    {
      "cell_type": "markdown",
      "source": [
        "how to put the pairs into dict"
      ],
      "metadata": {
        "id": "m8EtgSwBER4-"
      }
    },
    {
      "cell_type": "code",
      "source": [
        "a = {} \n",
        "a['name'] ='HH'"
      ],
      "metadata": {
        "id": "XO6q4UBJus4G"
      },
      "execution_count": 112,
      "outputs": []
    },
    {
      "cell_type": "code",
      "source": [
        "hash('name')   #step 1: convert key to hash value \n",
        "bin(hash('name'))  # step2: convert hash value to binary\n",
        "#step3 ， take 3 digit from right to left， eg： 000-》 index 0m check whether the bucket is empty\n",
        "#step4: if 2/3 of  was taken, extend.."
      ],
      "metadata": {
        "colab": {
          "base_uri": "https://localhost:8080/",
          "height": 35
        },
        "id": "fH9hD5mKuGF_",
        "outputId": "8b27068f-1323-4f4d-e143-05f73c8241fb"
      },
      "execution_count": 114,
      "outputs": [
        {
          "output_type": "execute_result",
          "data": {
            "text/plain": [
              "'-0b1011011100111000001101010000000111011001000100000010111000'"
            ],
            "application/vnd.google.colaboratory.intrinsic+json": {
              "type": "string"
            }
          },
          "metadata": {},
          "execution_count": 114
        }
      ]
    },
    {
      "cell_type": "markdown",
      "source": [
        "how to find the pair based on the key value \n"
      ],
      "metadata": {
        "id": "M1DFtdcaEW-q"
      }
    },
    {
      "cell_type": "code",
      "source": [
        "  a"
      ],
      "metadata": {
        "colab": {
          "base_uri": "https://localhost:8080/"
        },
        "id": "l3SYs2NLEbn-",
        "outputId": "4274ae35-705b-45de-ebeb-1303b0e41d8c"
      },
      "execution_count": 115,
      "outputs": [
        {
          "output_type": "execute_result",
          "data": {
            "text/plain": [
              "{'name': 'HH'}"
            ]
          },
          "metadata": {},
          "execution_count": 115
        }
      ]
    },
    {
      "cell_type": "code",
      "source": [
        "a.get('name')"
      ],
      "metadata": {
        "colab": {
          "base_uri": "https://localhost:8080/",
          "height": 35
        },
        "id": "Jw03lEVstpBu",
        "outputId": "b26ca6be-948a-4088-c1f2-370f61244b7d"
      },
      "execution_count": 116,
      "outputs": [
        {
          "output_type": "execute_result",
          "data": {
            "text/plain": [
              "'HH'"
            ],
            "application/vnd.google.colaboratory.intrinsic+json": {
              "type": "string"
            }
          },
          "metadata": {},
          "execution_count": 116
        }
      ]
    },
    {
      "cell_type": "code",
      "source": [
        "hash(\"name\")  # step1: calculate the hashvalue for name \n",
        "bin(hash(\"name\")) # step2: make the binary for the hash value \n",
        "#step3: using the 3 digit from right to left to match the index of hashtable \n",
        "#step4: iterate "
      ],
      "metadata": {
        "id": "rwRywGH3s5MU"
      },
      "execution_count": null,
      "outputs": []
    },
    {
      "cell_type": "markdown",
      "source": [
        "Caution: dont modify the dict when you loop dict "
      ],
      "metadata": {
        "id": "tdggwCW-HaD_"
      }
    },
    {
      "cell_type": "markdown",
      "source": [
        "#### set\n",
        "\n",
        "\n",
        "> the underlying principle of set is dict. all the items in set is the key object in dict. therefore, the item in set is unique and not duplicate \n",
        "\n"
      ],
      "metadata": {
        "id": "5FvCt5-3I6Ki"
      }
    },
    {
      "cell_type": "code",
      "source": [
        "a = {3,5,7}\n",
        "type(a)"
      ],
      "metadata": {
        "colab": {
          "base_uri": "https://localhost:8080/"
        },
        "id": "W7cAuFn5siR0",
        "outputId": "5a4423b1-37f2-4675-9492-20ae49f6e5b2"
      },
      "execution_count": 117,
      "outputs": [
        {
          "output_type": "execute_result",
          "data": {
            "text/plain": [
              "set"
            ]
          },
          "metadata": {},
          "execution_count": 117
        }
      ]
    },
    {
      "cell_type": "code",
      "source": [
        "a.add(3)\n",
        "a"
      ],
      "metadata": {
        "colab": {
          "base_uri": "https://localhost:8080/"
        },
        "id": "AXvoAhE3r_Kb",
        "outputId": "56158814-f542-4781-a227-af36b93f575b"
      },
      "execution_count": 122,
      "outputs": [
        {
          "output_type": "execute_result",
          "data": {
            "text/plain": [
              "{3, 5, 7}"
            ]
          },
          "metadata": {},
          "execution_count": 122
        }
      ]
    },
    {
      "cell_type": "code",
      "source": [
        "a.remove(3)\n",
        "a"
      ],
      "metadata": {
        "colab": {
          "base_uri": "https://localhost:8080/"
        },
        "id": "yhoMv1twrJ_p",
        "outputId": "7dc9b8ee-b70d-44d5-f856-7fee27edf286"
      },
      "execution_count": 123,
      "outputs": [
        {
          "output_type": "execute_result",
          "data": {
            "text/plain": [
              "{5, 7}"
            ]
          },
          "metadata": {},
          "execution_count": 123
        }
      ]
    },
    {
      "cell_type": "markdown",
      "source": [
        "##### set for 并集& 交集 。。。"
      ],
      "metadata": {
        "id": "voG_ccS7J3Jd"
      }
    },
    {
      "cell_type": "code",
      "source": [
        "a = {1,3,'txt'}\n",
        "b = {'he','is','txt'}"
      ],
      "metadata": {
        "id": "x8ziZmjoqpob"
      },
      "execution_count": 126,
      "outputs": []
    },
    {
      "cell_type": "code",
      "source": [
        "a|b"
      ],
      "metadata": {
        "colab": {
          "base_uri": "https://localhost:8080/"
        },
        "id": "LTfpD6HYqKsH",
        "outputId": "25a7c4a7-dd35-48aa-da93-c4b94a0c5c34"
      },
      "execution_count": 127,
      "outputs": [
        {
          "output_type": "execute_result",
          "data": {
            "text/plain": [
              "{1, 3, 'he', 'is', 'txt'}"
            ]
          },
          "metadata": {},
          "execution_count": 127
        }
      ]
    },
    {
      "cell_type": "code",
      "source": [
        "a & b"
      ],
      "metadata": {
        "colab": {
          "base_uri": "https://localhost:8080/"
        },
        "id": "a-ZeBOsFqJvp",
        "outputId": "b2cdcb26-e454-421e-802d-655fb826885e"
      },
      "execution_count": 128,
      "outputs": [
        {
          "output_type": "execute_result",
          "data": {
            "text/plain": [
              "{'txt'}"
            ]
          },
          "metadata": {},
          "execution_count": 128
        }
      ]
    },
    {
      "cell_type": "code",
      "source": [
        "a.union(b)"
      ],
      "metadata": {
        "colab": {
          "base_uri": "https://localhost:8080/"
        },
        "id": "K0ISJCYbqAVt",
        "outputId": "70e9d1ea-4b0b-4d3d-acd9-74d176b4404c"
      },
      "execution_count": 129,
      "outputs": [
        {
          "output_type": "execute_result",
          "data": {
            "text/plain": [
              "{1, 3, 'he', 'is', 'txt'}"
            ]
          },
          "metadata": {},
          "execution_count": 129
        }
      ]
    },
    {
      "cell_type": "code",
      "source": [
        "a-b"
      ],
      "metadata": {
        "colab": {
          "base_uri": "https://localhost:8080/"
        },
        "id": "J0Ja78SBpaQu",
        "outputId": "9ac42d74-dea4-45ae-d13c-d9133d5eb8c5"
      },
      "execution_count": 130,
      "outputs": [
        {
          "output_type": "execute_result",
          "data": {
            "text/plain": [
              "{1, 3}"
            ]
          },
          "metadata": {},
          "execution_count": 130
        }
      ]
    },
    {
      "cell_type": "markdown",
      "source": [
        "## statement"
      ],
      "metadata": {
        "id": "Dt1h2y58LAMI"
      }
    },
    {
      "cell_type": "markdown",
      "source": [
        "### select statement\n"
      ],
      "metadata": {
        "id": "0DldtPT8LSmj"
      }
    },
    {
      "cell_type": "code",
      "source": [
        "a= input('please fill a number')\n",
        "if int(a) >0:\n",
        "  print('this number is greater than 0 ')"
      ],
      "metadata": {
        "colab": {
          "base_uri": "https://localhost:8080/"
        },
        "id": "GeRZKBGHpYnw",
        "outputId": "59081858-e8b8-49b6-a1a8-0a722b577c8d"
      },
      "execution_count": 132,
      "outputs": [
        {
          "output_type": "stream",
          "name": "stdout",
          "text": [
            "please fill a number3\n",
            "this number is greater than 0 \n"
          ]
        }
      ]
    },
    {
      "cell_type": "code",
      "source": [
        "a= input('please fill a number:')\n",
        "if int(a) >0:\n",
        "  print('this number is greater than 0 ')\n",
        "else:\n",
        "  print('this number is less than 0 or not number')"
      ],
      "metadata": {
        "colab": {
          "base_uri": "https://localhost:8080/"
        },
        "id": "A3wRbgLEm20B",
        "outputId": "cf1d30f5-64cb-473a-9678-9f8f63eeab18"
      },
      "execution_count": 133,
      "outputs": [
        {
          "output_type": "stream",
          "name": "stdout",
          "text": [
            "please fill a number:-3\n",
            "this number is less than 0 or not number\n"
          ]
        }
      ]
    },
    {
      "cell_type": "markdown",
      "source": [
        "#### Ternary Conditional Operator 三元条件运算符\n",
        "\n",
        "\n",
        "> value for true if (expression) else value for false\n",
        "\n"
      ],
      "metadata": {
        "id": "Lg7sGKwiMKFP"
      }
    },
    {
      "cell_type": "code",
      "source": [
        "a= input('please fill a number:')\n",
        "'greater than 0' if int(a)>0 else 'less than 0'"
      ],
      "metadata": {
        "colab": {
          "base_uri": "https://localhost:8080/",
          "height": 53
        },
        "id": "QCz6qECGMvsD",
        "outputId": "c93f69c1-e68a-4186-ff48-90fd12710111"
      },
      "execution_count": 134,
      "outputs": [
        {
          "name": "stdout",
          "output_type": "stream",
          "text": [
            "please fill a number:4\n"
          ]
        },
        {
          "output_type": "execute_result",
          "data": {
            "text/plain": [
              "'greater than 0'"
            ],
            "application/vnd.google.colaboratory.intrinsic+json": {
              "type": "string"
            }
          },
          "metadata": {},
          "execution_count": 134
        }
      ]
    },
    {
      "cell_type": "markdown",
      "source": [
        "#### multi\n",
        "\n",
        "\n",
        "> if..elif..elif..else\n",
        "\n"
      ],
      "metadata": {
        "id": "TRdpI1e1NMse"
      }
    },
    {
      "cell_type": "markdown",
      "source": [
        "### loop statement"
      ],
      "metadata": {
        "id": "AW1ca9ejNrb7"
      }
    },
    {
      "cell_type": "markdown",
      "source": [
        "### while loop \n",
        "while expression:\n",
        "  statement"
      ],
      "metadata": {
        "id": "qRYYlGTBN0jF"
      }
    },
    {
      "cell_type": "code",
      "source": [
        "num = 0 \n",
        "while num<=10:\n",
        "  print(num)\n",
        "  num +=1"
      ],
      "metadata": {
        "colab": {
          "base_uri": "https://localhost:8080/"
        },
        "id": "2FduY2T0mth-",
        "outputId": "9769b492-dd7a-4f9c-b5d6-af408205836f"
      },
      "execution_count": 136,
      "outputs": [
        {
          "output_type": "stream",
          "name": "stdout",
          "text": [
            "0\n",
            "1\n",
            "2\n",
            "3\n",
            "4\n",
            "5\n",
            "6\n",
            "7\n",
            "8\n",
            "9\n",
            "10\n"
          ]
        }
      ]
    },
    {
      "cell_type": "markdown",
      "source": [
        "sum up all from 1-100"
      ],
      "metadata": {
        "id": "NoPIc0GGONAq"
      }
    },
    {
      "cell_type": "code",
      "source": [
        "num = 0\n",
        "sum_all = 0\n",
        "while num<=100: \n",
        "  sum_all +=num\n",
        "  num+=1\n",
        "print(sum_all)"
      ],
      "metadata": {
        "colab": {
          "base_uri": "https://localhost:8080/"
        },
        "id": "iUk3iaj4loXf",
        "outputId": "707b6bc8-8d40-4d54-b445-ff99078ba04e"
      },
      "execution_count": 137,
      "outputs": [
        {
          "output_type": "stream",
          "name": "stdout",
          "text": [
            "5050\n"
          ]
        }
      ]
    },
    {
      "cell_type": "markdown",
      "source": [
        "#### For loop\n",
        "\n",
        "\n",
        "> for i in iteration object: \n",
        "statement\n",
        "\n",
        "\n",
        "> iteration object: 1. sequence\n",
        "2. dict 3. iterator 4. generator\n",
        "\n",
        "range object \n",
        "\n",
        "\n"
      ],
      "metadata": {
        "id": "KBUMfQKgOrSm"
      }
    },
    {
      "cell_type": "code",
      "source": [
        "#range object \n",
        "for i in range(10):\n",
        "  print(i)"
      ],
      "metadata": {
        "colab": {
          "base_uri": "https://localhost:8080/"
        },
        "id": "t0n6X1Efyd4t",
        "outputId": "fed7dc6d-2ef3-4a5b-fb81-308cbd7dbaf9"
      },
      "execution_count": 1,
      "outputs": [
        {
          "output_type": "stream",
          "name": "stdout",
          "text": [
            "0\n",
            "1\n",
            "2\n",
            "3\n",
            "4\n",
            "5\n",
            "6\n",
            "7\n",
            "8\n",
            "9\n"
          ]
        }
      ]
    },
    {
      "cell_type": "markdown",
      "source": [
        "P58\n"
      ],
      "metadata": {
        "id": "11WPTkMsyyv2"
      }
    },
    {
      "cell_type": "code",
      "source": [
        "for x in range(6):\n",
        "  for y in range(5):\n",
        "    print(x,y,end='\\t')\n",
        "  print()"
      ],
      "metadata": {
        "colab": {
          "base_uri": "https://localhost:8080/"
        },
        "id": "qP5r1EcQy59Z",
        "outputId": "1315d1e7-e14e-4aec-f7ef-af4ac6ac79bb"
      },
      "execution_count": 6,
      "outputs": [
        {
          "output_type": "stream",
          "name": "stdout",
          "text": [
            "0 0\t0 1\t0 2\t0 3\t0 4\t\n",
            "1 0\t1 1\t1 2\t1 3\t1 4\t\n",
            "2 0\t2 1\t2 2\t2 3\t2 4\t\n",
            "3 0\t3 1\t3 2\t3 3\t3 4\t\n",
            "4 0\t4 1\t4 2\t4 3\t4 4\t\n",
            "5 0\t5 1\t5 2\t5 3\t5 4\t\n"
          ]
        }
      ]
    },
    {
      "cell_type": "markdown",
      "source": [
        "\n",
        "Ninety-nine multiplication table"
      ],
      "metadata": {
        "id": "cUvlHeniPDys"
      }
    },
    {
      "cell_type": "code",
      "source": [
        "for i in range(1,10):\n",
        "  for j in range(1,i+1): # i+1, limit the max num of second value\n",
        "    print(\"{0} * {1} = {2}\".format(i,j,(i*j)),end ='\\t' )\n",
        "  print()"
      ],
      "metadata": {
        "colab": {
          "base_uri": "https://localhost:8080/"
        },
        "id": "5cYACi7IjzZN",
        "outputId": "20804761-7d80-4d8d-e39a-817bb31d23b5"
      },
      "execution_count": 11,
      "outputs": [
        {
          "output_type": "stream",
          "name": "stdout",
          "text": [
            "1 * 1 = 1\t\n",
            "2 * 1 = 2\t2 * 2 = 4\t\n",
            "3 * 1 = 3\t3 * 2 = 6\t3 * 3 = 9\t\n",
            "4 * 1 = 4\t4 * 2 = 8\t4 * 3 = 12\t4 * 4 = 16\t\n",
            "5 * 1 = 5\t5 * 2 = 10\t5 * 3 = 15\t5 * 4 = 20\t5 * 5 = 25\t\n",
            "6 * 1 = 6\t6 * 2 = 12\t6 * 3 = 18\t6 * 4 = 24\t6 * 5 = 30\t6 * 6 = 36\t\n",
            "7 * 1 = 7\t7 * 2 = 14\t7 * 3 = 21\t7 * 4 = 28\t7 * 5 = 35\t7 * 6 = 42\t7 * 7 = 49\t\n",
            "8 * 1 = 8\t8 * 2 = 16\t8 * 3 = 24\t8 * 4 = 32\t8 * 5 = 40\t8 * 6 = 48\t8 * 7 = 56\t8 * 8 = 64\t\n",
            "9 * 1 = 9\t9 * 2 = 18\t9 * 3 = 27\t9 * 4 = 36\t9 * 5 = 45\t9 * 6 = 54\t9 * 7 = 63\t9 * 8 = 72\t9 * 9 = 81\t\n"
          ]
        }
      ]
    },
    {
      "cell_type": "code",
      "source": [
        "d1={'name':'HH','age':32,'salary':'8000'}\n",
        "d2={'name':'QQ','age':32,'salary':'8000'}\n",
        "d3={'name':'LL','age':32,'salary':'8000'}\n",
        "\n",
        "tb = list([d1,d2,d3])"
      ],
      "metadata": {
        "id": "tHfM6-2AjEKY"
      },
      "execution_count": 12,
      "outputs": []
    },
    {
      "cell_type": "code",
      "source": [
        "for x in tb:\n",
        "  if int(x.get(\"salary\"))>5000:\n",
        "    print(x)"
      ],
      "metadata": {
        "colab": {
          "base_uri": "https://localhost:8080/"
        },
        "id": "JDydIxV6jBl9",
        "outputId": "fbaab925-50a9-418d-d890-b83a6df40475"
      },
      "execution_count": 16,
      "outputs": [
        {
          "output_type": "stream",
          "name": "stdout",
          "text": [
            "{'name': 'HH', 'age': 32, 'salary': '8000'}\n",
            "{'name': 'QQ', 'age': 32, 'salary': '8000'}\n",
            "{'name': 'LL', 'age': 32, 'salary': '8000'}\n"
          ]
        }
      ]
    },
    {
      "cell_type": "markdown",
      "source": [
        "##### break, continue,else\n",
        "*else in python\n"
      ],
      "metadata": {
        "id": "6r_GIwCv1xKq"
      }
    },
    {
      "cell_type": "markdown",
      "source": [
        "for i in iteration:\n",
        "    for statement\n",
        "eles:\n",
        "    statement\n",
        "\n",
        "\n",
        "\n",
        "\n",
        "> after for statement, the statement in else will be excute; if break in for statement, the else won't be excuted\n",
        "\n"
      ],
      "metadata": {
        "id": "qk7RtWUO1woY"
      }
    },
    {
      "cell_type": "markdown",
      "source": [
        "##### the trick to optimize loop \n",
        "\n",
        "\n",
        "> 1. in the nested loop, reduce the inside loop, the O(n*n) for this. inside loop will be increase n time. \n",
        "2. \n",
        "\n"
      ],
      "metadata": {
        "id": "6XNHvN092wjG"
      }
    },
    {
      "cell_type": "code",
      "source": [
        "import time \n",
        "start = time.time()\n",
        "for i in range(10000):\n",
        "  result=[]\n",
        "  for m in range(10000):\n",
        "    result.append(i*1000+m*100)\n",
        "\n",
        "end= time.time()\n",
        "print(\"time used: {0}\".format((end-start)))"
      ],
      "metadata": {
        "colab": {
          "base_uri": "https://localhost:8080/"
        },
        "id": "yhHCCVbli5Ux",
        "outputId": "b907ecab-e0d2-4e07-c108-356b12205a12"
      },
      "execution_count": 21,
      "outputs": [
        {
          "output_type": "stream",
          "name": "stdout",
          "text": [
            "time used: 26.226325035095215\n"
          ]
        }
      ]
    },
    {
      "cell_type": "code",
      "source": [
        "start = time.time()\n",
        "for i in range(10000):\n",
        "  result=[]\n",
        "  c = i *1000\n",
        "  for m in range(10000):\n",
        "    result.append(c+m*100)\n",
        "\n",
        "end= time.time()\n",
        "print(\"time used: {0}\".format((end-start)))"
      ],
      "metadata": {
        "colab": {
          "base_uri": "https://localhost:8080/"
        },
        "id": "GlXPFc2Y41YO",
        "outputId": "70ef31ce-4540-46dc-f4bb-8d3e68bf496d"
      },
      "execution_count": 20,
      "outputs": [
        {
          "output_type": "stream",
          "name": "stdout",
          "text": [
            "time used: 20.99626135826111\n"
          ]
        }
      ]
    },
    {
      "cell_type": "markdown",
      "source": [
        "##### other optimization\n",
        "\n",
        "\n",
        "\n",
        "1.   connect string, use join() not \"+\" because of creating new obejct \n",
        "2.   add or remove item into list. should add or remove the last item of list\n",
        "\n",
        "\n",
        "\n",
        "\n"
      ],
      "metadata": {
        "id": "6U3ivCynilvJ"
      }
    },
    {
      "cell_type": "markdown",
      "source": [
        "##### use zip() to iterate mulitple iteration object \n",
        "\n",
        "\n",
        "\n",
        "> if items count: 4,4, 3\n",
        "\n",
        "\n"
      ],
      "metadata": {
        "id": "cWxJOMja5r_F"
      }
    },
    {
      "cell_type": "code",
      "source": [
        "name = ('HH','QQ','LL')\n",
        "ages = (25,34,35)\n",
        "jobs = ('SE','DS','CC','AA')"
      ],
      "metadata": {
        "id": "f8fXeyeZiG6x"
      },
      "execution_count": 23,
      "outputs": []
    },
    {
      "cell_type": "code",
      "source": [
        "for n,a,j in zip(name,ages,jobs):\n",
        "  print(\"{0}--{1}--{2}\".format(n,a,j))"
      ],
      "metadata": {
        "colab": {
          "base_uri": "https://localhost:8080/"
        },
        "id": "hujM5M07iFJH",
        "outputId": "bcd81eff-2198-44d2-c51e-6f914d364612"
      },
      "execution_count": 24,
      "outputs": [
        {
          "output_type": "stream",
          "name": "stdout",
          "text": [
            "HH--25--SE\n",
            "QQ--34--DS\n",
            "LL--35--CC\n"
          ]
        }
      ]
    },
    {
      "cell_type": "markdown",
      "source": [
        "##### list comprehension\n",
        "\n",
        "\n",
        "> [ expression for item in iteration object]\n",
        "\n",
        "> [ expression for item in iteration object if if statement]\n",
        "\n",
        "\n"
      ],
      "metadata": {
        "id": "3OvEXv_k67zi"
      }
    },
    {
      "cell_type": "code",
      "source": [
        " num = [x for x in range(10) if x > 5]\n",
        " num"
      ],
      "metadata": {
        "colab": {
          "base_uri": "https://localhost:8080/"
        },
        "id": "zP7RvGOWiDGA",
        "outputId": "19e1b65b-cf38-412e-e815-2eff1ee61bd9"
      },
      "execution_count": 27,
      "outputs": [
        {
          "output_type": "execute_result",
          "data": {
            "text/plain": [
              "[6, 7, 8, 9]"
            ]
          },
          "metadata": {},
          "execution_count": 27
        }
      ]
    },
    {
      "cell_type": "code",
      "source": [
        "num2 = [(x,y) for x in range(10) for y in range(10)]\n",
        "num2"
      ],
      "metadata": {
        "colab": {
          "base_uri": "https://localhost:8080/"
        },
        "id": "QbP0nyMHhmIY",
        "outputId": "fd82f732-961f-4247-c9b5-a4931607021c"
      },
      "execution_count": 30,
      "outputs": [
        {
          "output_type": "execute_result",
          "data": {
            "text/plain": [
              "[(0, 0),\n",
              " (0, 1),\n",
              " (0, 2),\n",
              " (0, 3),\n",
              " (0, 4),\n",
              " (0, 5),\n",
              " (0, 6),\n",
              " (0, 7),\n",
              " (0, 8),\n",
              " (0, 9),\n",
              " (1, 0),\n",
              " (1, 1),\n",
              " (1, 2),\n",
              " (1, 3),\n",
              " (1, 4),\n",
              " (1, 5),\n",
              " (1, 6),\n",
              " (1, 7),\n",
              " (1, 8),\n",
              " (1, 9),\n",
              " (2, 0),\n",
              " (2, 1),\n",
              " (2, 2),\n",
              " (2, 3),\n",
              " (2, 4),\n",
              " (2, 5),\n",
              " (2, 6),\n",
              " (2, 7),\n",
              " (2, 8),\n",
              " (2, 9),\n",
              " (3, 0),\n",
              " (3, 1),\n",
              " (3, 2),\n",
              " (3, 3),\n",
              " (3, 4),\n",
              " (3, 5),\n",
              " (3, 6),\n",
              " (3, 7),\n",
              " (3, 8),\n",
              " (3, 9),\n",
              " (4, 0),\n",
              " (4, 1),\n",
              " (4, 2),\n",
              " (4, 3),\n",
              " (4, 4),\n",
              " (4, 5),\n",
              " (4, 6),\n",
              " (4, 7),\n",
              " (4, 8),\n",
              " (4, 9),\n",
              " (5, 0),\n",
              " (5, 1),\n",
              " (5, 2),\n",
              " (5, 3),\n",
              " (5, 4),\n",
              " (5, 5),\n",
              " (5, 6),\n",
              " (5, 7),\n",
              " (5, 8),\n",
              " (5, 9),\n",
              " (6, 0),\n",
              " (6, 1),\n",
              " (6, 2),\n",
              " (6, 3),\n",
              " (6, 4),\n",
              " (6, 5),\n",
              " (6, 6),\n",
              " (6, 7),\n",
              " (6, 8),\n",
              " (6, 9),\n",
              " (7, 0),\n",
              " (7, 1),\n",
              " (7, 2),\n",
              " (7, 3),\n",
              " (7, 4),\n",
              " (7, 5),\n",
              " (7, 6),\n",
              " (7, 7),\n",
              " (7, 8),\n",
              " (7, 9),\n",
              " (8, 0),\n",
              " (8, 1),\n",
              " (8, 2),\n",
              " (8, 3),\n",
              " (8, 4),\n",
              " (8, 5),\n",
              " (8, 6),\n",
              " (8, 7),\n",
              " (8, 8),\n",
              " (8, 9),\n",
              " (9, 0),\n",
              " (9, 1),\n",
              " (9, 2),\n",
              " (9, 3),\n",
              " (9, 4),\n",
              " (9, 5),\n",
              " (9, 6),\n",
              " (9, 7),\n",
              " (9, 8),\n",
              " (9, 9)]"
            ]
          },
          "metadata": {},
          "execution_count": 30
        }
      ]
    },
    {
      "cell_type": "markdown",
      "source": [
        "##### dict comprehension\n",
        "{key_expression:value_expression for expression in iteration"
      ],
      "metadata": {
        "id": "nupw_EDU7-oW"
      }
    },
    {
      "cell_type": "code",
      "source": [
        "num3 = {x:y for x in range(3) for y in range(3)}\n",
        "num3"
      ],
      "metadata": {
        "colab": {
          "base_uri": "https://localhost:8080/"
        },
        "id": "oczN-Fywnn0_",
        "outputId": "e1458da8-387f-45de-d66e-dacf3048ed06"
      },
      "execution_count": 39,
      "outputs": [
        {
          "output_type": "execute_result",
          "data": {
            "text/plain": [
              "{0: 2, 1: 2, 2: 2}"
            ]
          },
          "metadata": {},
          "execution_count": 39
        }
      ]
    },
    {
      "cell_type": "code",
      "source": [
        "my_text = 'i love you , i love txt, i love hh'\n",
        "char_count = {c:my_text.count(c) for c in my_text}"
      ],
      "metadata": {
        "id": "wzN6ILi-nSNd"
      },
      "execution_count": 34,
      "outputs": []
    },
    {
      "cell_type": "code",
      "source": [
        "char_count"
      ],
      "metadata": {
        "colab": {
          "base_uri": "https://localhost:8080/"
        },
        "id": "L0-fCpqLhSaV",
        "outputId": "f02642bb-68e9-47c5-a7f4-179df7ccaf88"
      },
      "execution_count": 35,
      "outputs": [
        {
          "output_type": "execute_result",
          "data": {
            "text/plain": [
              "{' ': 9,\n",
              " ',': 2,\n",
              " 'e': 3,\n",
              " 'h': 2,\n",
              " 'i': 3,\n",
              " 'l': 3,\n",
              " 'o': 4,\n",
              " 't': 2,\n",
              " 'u': 1,\n",
              " 'v': 3,\n",
              " 'x': 1,\n",
              " 'y': 1}"
            ]
          },
          "metadata": {},
          "execution_count": 35
        }
      ]
    },
    {
      "cell_type": "code",
      "source": [
        "num5 = {num:num*num for num in range(4)}\n",
        "num5"
      ],
      "metadata": {
        "id": "0vOMd3Jz9lBY",
        "colab": {
          "base_uri": "https://localhost:8080/"
        },
        "outputId": "ecb12aca-d82c-49c3-d0d7-4f90c235f3ec"
      },
      "execution_count": 41,
      "outputs": [
        {
          "output_type": "execute_result",
          "data": {
            "text/plain": [
              "{0: 0, 1: 1, 2: 4, 3: 9}"
            ]
          },
          "metadata": {},
          "execution_count": 41
        }
      ]
    },
    {
      "cell_type": "markdown",
      "source": [
        "##### Set comprehension\n",
        "\n"
      ],
      "metadata": {
        "id": "qqC_8Mxa7dmh"
      }
    },
    {
      "cell_type": "code",
      "source": [
        "num6 = {x for x in range (1,100) if x%2 == 0}\n",
        "num6"
      ],
      "metadata": {
        "colab": {
          "base_uri": "https://localhost:8080/"
        },
        "id": "kByGNZBV90VX",
        "outputId": "cca31be4-9864-4f8d-c2d2-245cbcef55ce"
      },
      "execution_count": 47,
      "outputs": [
        {
          "output_type": "execute_result",
          "data": {
            "text/plain": [
              "{2,\n",
              " 4,\n",
              " 6,\n",
              " 8,\n",
              " 10,\n",
              " 12,\n",
              " 14,\n",
              " 16,\n",
              " 18,\n",
              " 20,\n",
              " 22,\n",
              " 24,\n",
              " 26,\n",
              " 28,\n",
              " 30,\n",
              " 32,\n",
              " 34,\n",
              " 36,\n",
              " 38,\n",
              " 40,\n",
              " 42,\n",
              " 44,\n",
              " 46,\n",
              " 48,\n",
              " 50,\n",
              " 52,\n",
              " 54,\n",
              " 56,\n",
              " 58,\n",
              " 60,\n",
              " 62,\n",
              " 64,\n",
              " 66,\n",
              " 68,\n",
              " 70,\n",
              " 72,\n",
              " 74,\n",
              " 76,\n",
              " 78,\n",
              " 80,\n",
              " 82,\n",
              " 84,\n",
              " 86,\n",
              " 88,\n",
              " 90,\n",
              " 92,\n",
              " 94,\n",
              " 96,\n",
              " 98}"
            ]
          },
          "metadata": {},
          "execution_count": 47
        }
      ]
    },
    {
      "cell_type": "markdown",
      "source": [
        "##### there is no comprehension for tuple\n"
      ],
      "metadata": {
        "id": "qR11rwUN-MKy"
      }
    },
    {
      "cell_type": "markdown",
      "source": [
        "### Function\n",
        "\n",
        "\n",
        "> def FuctionName([Parameter]):\n",
        "      '''document'''\n",
        "      Function Statement\n",
        "      return\n"
      ],
      "metadata": {
        "id": "MrIMt-g3-7zq"
      }
    },
    {
      "cell_type": "code",
      "source": [
        "def calculateNum(a,b):\n",
        "  c= a + b\n",
        "  return c  "
      ],
      "metadata": {
        "id": "t3RclAXm_HSf"
      },
      "execution_count": 48,
      "outputs": []
    },
    {
      "cell_type": "code",
      "source": [
        "c = calculateNum(1,2) # create function object and refer to varibale\n",
        "c"
      ],
      "metadata": {
        "colab": {
          "base_uri": "https://localhost:8080/"
        },
        "id": "PkUltijK-LZi",
        "outputId": "4970f01d-ffb5-475e-fc59-57595243eaf1"
      },
      "execution_count": 50,
      "outputs": [
        {
          "output_type": "execute_result",
          "data": {
            "text/plain": [
              "3"
            ]
          },
          "metadata": {},
          "execution_count": 50
        }
      ]
    },
    {
      "cell_type": "code",
      "source": [
        "type(calculateNum(1,2))"
      ],
      "metadata": {
        "colab": {
          "base_uri": "https://localhost:8080/"
        },
        "id": "8Vh7qWwnARUg",
        "outputId": "b1164150-68a4-4f00-96e3-bce50bea58e6"
      },
      "execution_count": 54,
      "outputs": [
        {
          "output_type": "execute_result",
          "data": {
            "text/plain": [
              "int"
            ]
          },
          "metadata": {},
          "execution_count": 54
        }
      ]
    },
    {
      "cell_type": "code",
      "source": [
        "def test01():\n",
        "  print('test')"
      ],
      "metadata": {
        "id": "bikw5_rfBm_a"
      },
      "execution_count": 58,
      "outputs": []
    },
    {
      "cell_type": "code",
      "source": [
        "print(type(test01()))"
      ],
      "metadata": {
        "colab": {
          "base_uri": "https://localhost:8080/"
        },
        "id": "U6L3LRnOAoDf",
        "outputId": "d4a4877d-2917-4639-92c3-abdef7d79607"
      },
      "execution_count": 59,
      "outputs": [
        {
          "output_type": "stream",
          "name": "stdout",
          "text": [
            "test\n",
            "<class 'NoneType'>\n"
          ]
        }
      ]
    },
    {
      "cell_type": "code",
      "source": [
        "print(id(test01()))"
      ],
      "metadata": {
        "colab": {
          "base_uri": "https://localhost:8080/"
        },
        "id": "uwpAEHYnByN_",
        "outputId": "9cb05345-8815-4006-cb39-9862451633e1"
      },
      "execution_count": 60,
      "outputs": [
        {
          "output_type": "stream",
          "name": "stdout",
          "text": [
            "test\n",
            "11125344\n"
          ]
        }
      ]
    },
    {
      "cell_type": "markdown",
      "source": [
        "#### parameter & argument\n",
        "\n",
        "\n",
        "> A parameter is the variable listed inside the parentheses in the function definition.\n",
        "\n",
        "An argument is the value that is sent to the function when it is called\n",
        "\n"
      ],
      "metadata": {
        "id": "UuwYN-MxCxja"
      }
    },
    {
      "cell_type": "markdown",
      "source": [
        "#### return\n",
        "\n",
        "\n",
        "1.   return value\n",
        "2.   return nono if no return\n",
        "3.   return mulitple value, use list, dict, set or tuple \n",
        "\n"
      ],
      "metadata": {
        "id": "Cwhk-3kzD5cI"
      }
    },
    {
      "cell_type": "markdown",
      "source": [
        "#### underlying principle of Function\n",
        "stack & heap：\n",
        "\n",
        "> when function, the function object will be stroed in heap and create reference stored in stack(where the variable is)\n",
        "\n"
      ],
      "metadata": {
        "id": "5WnF03HWETje"
      }
    },
    {
      "cell_type": "markdown",
      "source": [
        "#### global varibale & local variable \n",
        "\n",
        "\n",
        "> if you want to change the global variable in function, you can use global to declare\n",
        "\n",
        "\n",
        "> if you use the same name for local variable as global in function. the python will directly ignore the global varibale \n",
        "\n",
        "\n",
        "\n",
        "\n"
      ],
      "metadata": {
        "id": "Rvq0VqnNITOJ"
      }
    },
    {
      "cell_type": "code",
      "source": [
        "c= 100\n",
        "def test_global():\n",
        "  c=300\n",
        "  print(c)\n",
        "test_global()\n",
        "print(c)"
      ],
      "metadata": {
        "colab": {
          "base_uri": "https://localhost:8080/"
        },
        "id": "txb3ODoDKss1",
        "outputId": "5f83cb86-07a9-485a-c146-cf758b58666d"
      },
      "execution_count": 68,
      "outputs": [
        {
          "output_type": "stream",
          "name": "stdout",
          "text": [
            "300\n",
            "100\n"
          ]
        }
      ]
    },
    {
      "cell_type": "code",
      "source": [
        "a = 100 \n",
        "def change_global():\n",
        "  global a\n",
        "  print(a)\n",
        "  a = 300\n",
        "\n",
        "change_global()\n",
        "print(\"after change in function\")\n",
        "print(a)"
      ],
      "metadata": {
        "colab": {
          "base_uri": "https://localhost:8080/"
        },
        "id": "MBIKAZsLI1Nq",
        "outputId": "97c93ed0-7423-4cf9-8012-a83e9e75e628"
      },
      "execution_count": 63,
      "outputs": [
        {
          "output_type": "stream",
          "name": "stdout",
          "text": [
            "100\n",
            "after change in function\n",
            "300\n"
          ]
        }
      ]
    },
    {
      "cell_type": "markdown",
      "source": [
        "##### stack frame\n",
        "\n",
        "\n",
        "> when we call the function, python will create one stack frame to store the local variable, and after calling, it will be remove immediately.  \n",
        "\n",
        "\n"
      ],
      "metadata": {
        "id": "AOwxkY8BJjLK"
      }
    },
    {
      "cell_type": "markdown",
      "source": [
        "##### the efficiency of local variable and global variable\n",
        "\n",
        "\n",
        "> when time of loop is many and need efficiecny, better use local varibale, because the retrieve and access to local variable is faster \n",
        "\n"
      ],
      "metadata": {
        "id": "3K2pGMbzLTxu"
      }
    },
    {
      "cell_type": "markdown",
      "source": [
        "#### passing parameter\n",
        "\n",
        "\n",
        "> the passing of parameter is reference passing.\n",
        "\n"
      ],
      "metadata": {
        "id": "zQLx--4cMB2w"
      }
    },
    {
      "cell_type": "markdown",
      "source": [
        "##### for changable object \n",
        "\n",
        "\n",
        "> dict, list,set, and defined object\n",
        "\n",
        "impact the object\n"
      ],
      "metadata": {
        "id": "AJ7MCjKjMgB5"
      }
    },
    {
      "cell_type": "code",
      "source": [
        "b = [10,20]\n",
        "def test_pass(m):  # give the the reference of list to m （m is inside the stack frame) \n",
        "  print(\"m:\",id(m)) # b, m is pointint to same object\n",
        "  m.append(30) # beacause of the changable object, directly change this object \n",
        "\n",
        "test_pass(b)\n",
        "print(\"b:\",id(b))\n",
        "print(b)"
      ],
      "metadata": {
        "colab": {
          "base_uri": "https://localhost:8080/"
        },
        "id": "lTWVWAo7NDkV",
        "outputId": "aee40b20-0e80-454d-fc40-8c40b417ef4c"
      },
      "execution_count": 69,
      "outputs": [
        {
          "output_type": "stream",
          "name": "stdout",
          "text": [
            "m: 140369943634400\n",
            "b: 140369943634400\n",
            "[10, 20, 30]\n"
          ]
        }
      ]
    },
    {
      "cell_type": "markdown",
      "source": [
        "##### for unchangable object \n",
        "\n",
        "\n",
        "> string, tuple, number and function\n",
        "crate new object, and give the new value to it.\n",
        "\n",
        "\n"
      ],
      "metadata": {
        "id": "RBDHOBfmMuB-"
      }
    },
    {
      "cell_type": "code",
      "source": [
        "a = 100 \n",
        "def test_unchangable(n):\n",
        "  print(\"n:\",id(n)) # pass parameter is reference of a object  = n \n",
        "  n = n +200   # because a is unchangable, therefore, create new object n\n",
        "  print(\"n:\",id(n))  # the address of n is changed\n",
        "  print(n)\n",
        "test_unchangable(a)\n",
        "print(\"a:\",id(a))"
      ],
      "metadata": {
        "colab": {
          "base_uri": "https://localhost:8080/"
        },
        "id": "tc5nhqRHMzIB",
        "outputId": "c89ee32a-ffba-4d1d-c2d7-8ee7618c1c0d"
      },
      "execution_count": 70,
      "outputs": [
        {
          "output_type": "stream",
          "name": "stdout",
          "text": [
            "n: 11259232\n",
            "n: 140369943783792\n",
            "300\n",
            "a: 11259232\n"
          ]
        }
      ]
    },
    {
      "cell_type": "markdown",
      "source": [
        "##### copy & deepcopy \n",
        "\n",
        "\n",
        "> copy: not copy the content of object, only copy the reference of object \n",
        "> deppcopy: will copy the content of object, if you change the object, it will not impact the original object \n",
        "> for unchangable object, it will use the copy\n",
        "\n",
        "\n"
      ],
      "metadata": {
        "id": "Ax6n1kfzQbw5"
      }
    },
    {
      "cell_type": "markdown",
      "source": [
        "object 1 >>> object 2 >>> object 3 \n",
        "> copy only copy object 1 \n",
        "> deepcopy will copy all the objects"
      ],
      "metadata": {
        "id": "pCZOnnvjdXUo"
      }
    },
    {
      "cell_type": "code",
      "source": [
        "import copy\n",
        "\n",
        "a = [10,20,[5,6]]\n",
        "b = copy.copy(a)\n",
        "\n",
        "print(\"a:\",a)\n",
        "\n",
        "print(\"b:\",b)\n",
        "b.append(30)\n",
        "b[2].append(7)\n",
        "print('only copy...')\n",
        "print(\"a:\",a)\n",
        "\n",
        "print(\"b:\",b) "
      ],
      "metadata": {
        "colab": {
          "base_uri": "https://localhost:8080/"
        },
        "id": "2D3UfImodhG6",
        "outputId": "c8da6f4d-bf40-46ad-95d4-dc7bc8281a00"
      },
      "execution_count": 74,
      "outputs": [
        {
          "output_type": "stream",
          "name": "stdout",
          "text": [
            "a: [10, 20, [5, 6]]\n",
            "b: [10, 20, [5, 6]]\n",
            "only copy...\n",
            "a: [10, 20, [5, 6, 7]]\n",
            "b: [10, 20, [5, 6, 7], 30]\n"
          ]
        }
      ]
    },
    {
      "cell_type": "code",
      "source": [
        "import copy\n",
        "\n",
        "a = [10,20,[5,6]]\n",
        "b = copy.deepcopy(a)\n",
        "\n",
        "print(\"a:\",a)\n",
        "\n",
        "print(\"b:\",b)\n",
        "b.append(30)\n",
        "b[2].append(7)\n",
        "print('deep copy...')\n",
        "print(\"a:\",a)\n",
        "\n",
        "print(\"b:\",b)"
      ],
      "metadata": {
        "colab": {
          "base_uri": "https://localhost:8080/"
        },
        "id": "LIlAbDCldJQA",
        "outputId": "effba863-71fb-4d54-becf-70fa8a91449a"
      },
      "execution_count": 75,
      "outputs": [
        {
          "output_type": "stream",
          "name": "stdout",
          "text": [
            "a: [10, 20, [5, 6]]\n",
            "b: [10, 20, [5, 6]]\n",
            "deep copy...\n",
            "a: [10, 20, [5, 6]]\n",
            "b: [10, 20, [5, 6, 7], 30]\n"
          ]
        }
      ]
    },
    {
      "cell_type": "markdown",
      "source": [
        "#### the types of parameter\n",
        "\n",
        "\n",
        "1.   parameter match by position\n",
        "2.   default parameter def (a, b=10,c=30)\n",
        "3.   key parameter def( c=10, b = 5,a=8) even though you didnt match the position\n",
        "4.   Fun With *args and **kwargs\n",
        "\n"
      ],
      "metadata": {
        "id": "6NO8jG6Xga9B"
      }
    },
    {
      "cell_type": "markdown",
      "source": [
        "fun with args and *kwarg\n",
        ">*param: put multiple param into tuple object\n",
        ">** param: put multiple param into dict object "
      ],
      "metadata": {
        "id": "8kDIYXaOibVG"
      }
    },
    {
      "cell_type": "code",
      "source": [
        "def test_args(a,b,*c):\n",
        "  print(a,b,c)"
      ],
      "metadata": {
        "id": "G0WpjWm-ip0a"
      },
      "execution_count": 77,
      "outputs": []
    },
    {
      "cell_type": "code",
      "source": [
        "test_args(1,2,3,4)"
      ],
      "metadata": {
        "colab": {
          "base_uri": "https://localhost:8080/"
        },
        "id": "iDznBfetiDL3",
        "outputId": "2b3684e0-0769-42a3-f2ea-b3e5ee84dcac"
      },
      "execution_count": 78,
      "outputs": [
        {
          "output_type": "stream",
          "name": "stdout",
          "text": [
            "1 2 (3, 4)\n"
          ]
        }
      ]
    },
    {
      "cell_type": "code",
      "source": [
        "def test_kargs(a,b,**c):\n",
        "  print(a,b,c)"
      ],
      "metadata": {
        "id": "5dj8PHg5geBe"
      },
      "execution_count": 79,
      "outputs": []
    },
    {
      "cell_type": "code",
      "source": [
        "test_kargs(1,2,name='hh',age=18)"
      ],
      "metadata": {
        "colab": {
          "base_uri": "https://localhost:8080/"
        },
        "id": "5Vq_vjWSPl18",
        "outputId": "8702d4c6-e52b-4a22-d122-432a5ac8ccbb"
      },
      "execution_count": 82,
      "outputs": [
        {
          "output_type": "stream",
          "name": "stdout",
          "text": [
            "1 2 {'name': 'hh', 'age': 18}\n"
          ]
        }
      ]
    },
    {
      "cell_type": "code",
      "source": [
        "def test_arg_kargs(a,b,*c,**d):\n",
        "  print(a,b,c,d)"
      ],
      "metadata": {
        "id": "4JEBs5sulCsH"
      },
      "execution_count": 83,
      "outputs": []
    },
    {
      "cell_type": "code",
      "source": [
        "test_arg_kargs(1,2,3,4,name='hh',age=18)"
      ],
      "metadata": {
        "colab": {
          "base_uri": "https://localhost:8080/"
        },
        "id": "Iw4SSVa3lLjs",
        "outputId": "bd956d8a-0f73-44e8-ed8e-203d56762d25"
      },
      "execution_count": 84,
      "outputs": [
        {
          "output_type": "stream",
          "name": "stdout",
          "text": [
            "1 2 (3, 4) {'name': 'hh', 'age': 18}\n"
          ]
        }
      ]
    },
    {
      "cell_type": "markdown",
      "source": [
        "after the args/kargs,  should use key parameter "
      ],
      "metadata": {
        "id": "BdTIm_7hldr0"
      }
    },
    {
      "cell_type": "code",
      "source": [
        "def test01(*c,a,b):\n",
        "  print(a,b,c)"
      ],
      "metadata": {
        "id": "b105CiMUMitT"
      },
      "execution_count": 85,
      "outputs": []
    },
    {
      "cell_type": "code",
      "source": [
        "test01(1,2,3)"
      ],
      "metadata": {
        "colab": {
          "base_uri": "https://localhost:8080/",
          "height": 169
        },
        "id": "Txa3T_hdmbqL",
        "outputId": "9648ae7d-017d-43c8-a7d7-0a956993ca33"
      },
      "execution_count": 86,
      "outputs": [
        {
          "output_type": "error",
          "ename": "TypeError",
          "evalue": "ignored",
          "traceback": [
            "\u001b[0;31m---------------------------------------------------------------------------\u001b[0m",
            "\u001b[0;31mTypeError\u001b[0m                                 Traceback (most recent call last)",
            "\u001b[0;32m<ipython-input-86-6702c2278eef>\u001b[0m in \u001b[0;36m<module>\u001b[0;34m()\u001b[0m\n\u001b[0;32m----> 1\u001b[0;31m \u001b[0mtest01\u001b[0m\u001b[0;34m(\u001b[0m\u001b[0;36m1\u001b[0m\u001b[0;34m,\u001b[0m\u001b[0;36m2\u001b[0m\u001b[0;34m,\u001b[0m\u001b[0;36m3\u001b[0m\u001b[0;34m)\u001b[0m\u001b[0;34m\u001b[0m\u001b[0;34m\u001b[0m\u001b[0m\n\u001b[0m",
            "\u001b[0;31mTypeError\u001b[0m: test01() missing 2 required keyword-only arguments: 'a' and 'b'"
          ]
        }
      ]
    },
    {
      "cell_type": "code",
      "source": [
        "test01(1,a=3,b=4)"
      ],
      "metadata": {
        "colab": {
          "base_uri": "https://localhost:8080/"
        },
        "id": "JGvmJ7lXMYbU",
        "outputId": "429a86c4-d4a5-4ced-e6cf-5f0b8457f23d"
      },
      "execution_count": 88,
      "outputs": [
        {
          "output_type": "stream",
          "name": "stdout",
          "text": [
            "3 4 (1,)\n"
          ]
        }
      ]
    },
    {
      "cell_type": "markdown",
      "source": [
        "#### Lambda expression and anonymous function\n",
        "lambda arg1,arg2,arg3...: expression"
      ],
      "metadata": {
        "id": "BwGLbxz2mw7r"
      }
    },
    {
      "cell_type": "code",
      "source": [
        "f= lambda a,b,c : a+b+c"
      ],
      "metadata": {
        "id": "LXU2kHdMnY72"
      },
      "execution_count": 89,
      "outputs": []
    },
    {
      "cell_type": "code",
      "source": [
        " print(f)"
      ],
      "metadata": {
        "colab": {
          "base_uri": "https://localhost:8080/"
        },
        "id": "wXuv1y02m9ht",
        "outputId": "00031c4d-f76e-429a-8dfb-49c5b2b659ed"
      },
      "execution_count": 90,
      "outputs": [
        {
          "output_type": "stream",
          "name": "stdout",
          "text": [
            "<function <lambda> at 0x7faa6c9ae9e0>\n"
          ]
        }
      ]
    },
    {
      "cell_type": "code",
      "source": [
        "print(f(2,3,4))"
      ],
      "metadata": {
        "colab": {
          "base_uri": "https://localhost:8080/"
        },
        "id": "fslPxAzJmn04",
        "outputId": "d8b75f04-7531-4609-ad8b-939172a0f8f5"
      },
      "execution_count": 91,
      "outputs": [
        {
          "output_type": "stream",
          "name": "stdout",
          "text": [
            "9\n"
          ]
        }
      ]
    },
    {
      "cell_type": "markdown",
      "source": [
        "#### eval() \n",
        "> eval(source[,global[,local]]): run the python code which is in string type\n",
        "1. global: dictionary type\n",
        "2. source: python expression or object from function compile() "
      ],
      "metadata": {
        "id": "HgsBmdxUoHqI"
      }
    },
    {
      "cell_type": "code",
      "source": [
        "eval(\"print('abcde')\")"
      ],
      "metadata": {
        "colab": {
          "base_uri": "https://localhost:8080/"
        },
        "id": "MLNbTBuOoxcW",
        "outputId": "878d3f50-5d6b-4a1a-8015-8fb1d482ee3c"
      },
      "execution_count": 93,
      "outputs": [
        {
          "output_type": "stream",
          "name": "stdout",
          "text": [
            "abcde\n"
          ]
        }
      ]
    },
    {
      "cell_type": "code",
      "source": [
        "s= '''print('abcde')'''"
      ],
      "metadata": {
        "id": "2EXGsFjupNrm"
      },
      "execution_count": 95,
      "outputs": []
    },
    {
      "cell_type": "code",
      "source": [
        "eval(s)"
      ],
      "metadata": {
        "colab": {
          "base_uri": "https://localhost:8080/"
        },
        "id": "YkYHH5puoutO",
        "outputId": "0740c4e0-206f-48fb-f55e-b1fa78808544"
      },
      "execution_count": 96,
      "outputs": [
        {
          "output_type": "stream",
          "name": "stdout",
          "text": [
            "abcde\n"
          ]
        }
      ]
    },
    {
      "cell_type": "code",
      "source": [
        "dict1 = dict(a=100,b=200)\n",
        "d = eval(\"a+b\",dict1)\n",
        "print(d)"
      ],
      "metadata": {
        "colab": {
          "base_uri": "https://localhost:8080/"
        },
        "id": "7y-RJzkmpfGC",
        "outputId": "8cdb543d-be27-4d35-d715-3c2a4d55e895"
      },
      "execution_count": 97,
      "outputs": [
        {
          "output_type": "stream",
          "name": "stdout",
          "text": [
            "300\n"
          ]
        }
      ]
    },
    {
      "cell_type": "markdown",
      "source": [
        "### recursive function\n",
        "> calling itself in function\n",
        "\n",
        "1. stop condition\n",
        "2. the step of recursive"
      ],
      "metadata": {
        "id": "pxASaNMfqEOR"
      }
    },
    {
      "cell_type": "code",
      "source": [
        "def test_recursive(n):\n",
        "  print(\"test_recursive:\",n)\n",
        "  if n==0:\n",
        "    print(\"over\")\n",
        "  else:\n",
        "    test_recursive(n-1)"
      ],
      "metadata": {
        "id": "GDjgEn_fq7yy"
      },
      "execution_count": 98,
      "outputs": []
    },
    {
      "cell_type": "code",
      "source": [
        "test_recursive(5)"
      ],
      "metadata": {
        "colab": {
          "base_uri": "https://localhost:8080/"
        },
        "id": "kM9HZZqep-sN",
        "outputId": "dcea8734-2a46-4d2b-9b25-4a5b6e37d481"
      },
      "execution_count": 99,
      "outputs": [
        {
          "output_type": "stream",
          "name": "stdout",
          "text": [
            "test_recursive: 5\n",
            "test_recursive: 4\n",
            "test_recursive: 3\n",
            "test_recursive: 2\n",
            "test_recursive: 1\n",
            "test_recursive: 0\n",
            "over\n"
          ]
        }
      ]
    },
    {
      "cell_type": "code",
      "source": [
        "def test_recursive1(n):\n",
        "  print(\"test_recursive:\",n)\n",
        "  if n==0:\n",
        "    print(\"over\")\n",
        "  else:\n",
        "    test_recursive1(n-1)\n",
        "  print(\"t*****\",n)"
      ],
      "metadata": {
        "id": "SeYy4ATKognj"
      },
      "execution_count": 115,
      "outputs": []
    },
    {
      "cell_type": "code",
      "source": [
        "test_recursive1(4)"
      ],
      "metadata": {
        "colab": {
          "base_uri": "https://localhost:8080/"
        },
        "id": "S4scvq4VoO5l",
        "outputId": "7853dd36-fd38-460b-8309-775b7e56f653"
      },
      "execution_count": 116,
      "outputs": [
        {
          "output_type": "stream",
          "name": "stdout",
          "text": [
            "test_recursive: 4\n",
            "test_recursive: 3\n",
            "test_recursive: 2\n",
            "test_recursive: 1\n",
            "test_recursive: 0\n",
            "over\n",
            "t***** 0\n",
            "t***** 1\n",
            "t***** 2\n",
            "t***** 3\n",
            "t***** 4\n"
          ]
        }
      ]
    },
    {
      "cell_type": "code",
      "source": [
        "def test01(n):\n",
        "  print(\"test01:\",n)\n",
        "  if n==0:\n",
        "    print(\"over\")\n",
        "  else:\n",
        "    test01(n-1)\n",
        "  print(\"test01***\",n)"
      ],
      "metadata": {
        "id": "nuFBpdAEMEji"
      },
      "execution_count": 111,
      "outputs": []
    },
    {
      "cell_type": "code",
      "source": [
        "test01(4)"
      ],
      "metadata": {
        "colab": {
          "base_uri": "https://localhost:8080/"
        },
        "id": "sSFCEw62ucXU",
        "outputId": "d1d4ea5b-e76e-48d1-f094-1f9a7891c430"
      },
      "execution_count": 112,
      "outputs": [
        {
          "output_type": "stream",
          "name": "stdout",
          "text": [
            "test01: 4\n",
            "test01: 3\n",
            "test01: 2\n",
            "test01: 1\n",
            "test01: 0\n",
            "over\n",
            "test01*** 0\n",
            "test01*** 1\n",
            "test01*** 2\n",
            "test01*** 3\n",
            "test01*** 4\n"
          ]
        }
      ]
    },
    {
      "cell_type": "code",
      "source": [
        "# 4! = 4*3*2*1\n",
        "def factorial(n):\n",
        "  if n==1:\n",
        "    return 1\n",
        "  return n * factorial(n-1) "
      ],
      "metadata": {
        "id": "-0bP-LXJLrvs"
      },
      "execution_count": 117,
      "outputs": []
    },
    {
      "cell_type": "code",
      "source": [
        "factorial(4)"
      ],
      "metadata": {
        "colab": {
          "base_uri": "https://localhost:8080/"
        },
        "id": "TPzApAReIhSi",
        "outputId": "f2cfe838-591c-462e-85a2-321f6c887687"
      },
      "execution_count": 118,
      "outputs": [
        {
          "output_type": "execute_result",
          "data": {
            "text/plain": [
              "24"
            ]
          },
          "metadata": {},
          "execution_count": 118
        }
      ]
    },
    {
      "cell_type": "code",
      "source": [
        "for i in range(1,6):\n",
        "  print(i,\"!=\",factorial(i))"
      ],
      "metadata": {
        "colab": {
          "base_uri": "https://localhost:8080/"
        },
        "id": "7kQyogcQE6Py",
        "outputId": "425b72e6-7050-4760-ede7-f8e58ff42fe6"
      },
      "execution_count": 119,
      "outputs": [
        {
          "output_type": "stream",
          "name": "stdout",
          "text": [
            "1 != 1\n",
            "2 != 2\n",
            "3 != 6\n",
            "4 != 24\n",
            "5 != 120\n"
          ]
        }
      ]
    },
    {
      "cell_type": "markdown",
      "source": [
        "#### nested function\n",
        "> the function defined in function, only can be call in function, if outside function, it will throw error"
      ],
      "metadata": {
        "id": "4l9zJDsjvwz6"
      }
    },
    {
      "cell_type": "markdown",
      "source": [
        "#### nonlocal key word\n",
        "> want to use the variable outside the function\n"
      ],
      "metadata": {
        "id": "Z6TrhRDUwOws"
      }
    },
    {
      "cell_type": "code",
      "source": [
        "def outer():\n",
        "  b =10 \n",
        "  def inner():\n",
        "    print('inner:',b)\n",
        "    b = 20 \n",
        "  inner()\n",
        "outer()"
      ],
      "metadata": {
        "colab": {
          "base_uri": "https://localhost:8080/",
          "height": 353
        },
        "id": "fuNDW0xtwK_T",
        "outputId": "5b327c5d-c312-439d-a2ce-c73645b6925b"
      },
      "execution_count": 120,
      "outputs": [
        {
          "output_type": "error",
          "ename": "UnboundLocalError",
          "evalue": "ignored",
          "traceback": [
            "\u001b[0;31m---------------------------------------------------------------------------\u001b[0m",
            "\u001b[0;31mUnboundLocalError\u001b[0m                         Traceback (most recent call last)",
            "\u001b[0;32m<ipython-input-120-a27b37bbba6d>\u001b[0m in \u001b[0;36m<module>\u001b[0;34m()\u001b[0m\n\u001b[1;32m      5\u001b[0m     \u001b[0mb\u001b[0m \u001b[0;34m=\u001b[0m \u001b[0;36m20\u001b[0m\u001b[0;34m\u001b[0m\u001b[0;34m\u001b[0m\u001b[0m\n\u001b[1;32m      6\u001b[0m   \u001b[0minner\u001b[0m\u001b[0;34m(\u001b[0m\u001b[0;34m)\u001b[0m\u001b[0;34m\u001b[0m\u001b[0;34m\u001b[0m\u001b[0m\n\u001b[0;32m----> 7\u001b[0;31m \u001b[0mouter\u001b[0m\u001b[0;34m(\u001b[0m\u001b[0;34m)\u001b[0m\u001b[0;34m\u001b[0m\u001b[0;34m\u001b[0m\u001b[0m\n\u001b[0m",
            "\u001b[0;32m<ipython-input-120-a27b37bbba6d>\u001b[0m in \u001b[0;36mouter\u001b[0;34m()\u001b[0m\n\u001b[1;32m      4\u001b[0m     \u001b[0mprint\u001b[0m\u001b[0;34m(\u001b[0m\u001b[0;34m'inner:'\u001b[0m\u001b[0;34m,\u001b[0m\u001b[0mb\u001b[0m\u001b[0;34m)\u001b[0m\u001b[0;34m\u001b[0m\u001b[0;34m\u001b[0m\u001b[0m\n\u001b[1;32m      5\u001b[0m     \u001b[0mb\u001b[0m \u001b[0;34m=\u001b[0m \u001b[0;36m20\u001b[0m\u001b[0;34m\u001b[0m\u001b[0;34m\u001b[0m\u001b[0m\n\u001b[0;32m----> 6\u001b[0;31m   \u001b[0minner\u001b[0m\u001b[0;34m(\u001b[0m\u001b[0;34m)\u001b[0m\u001b[0;34m\u001b[0m\u001b[0;34m\u001b[0m\u001b[0m\n\u001b[0m\u001b[1;32m      7\u001b[0m \u001b[0mouter\u001b[0m\u001b[0;34m(\u001b[0m\u001b[0;34m)\u001b[0m\u001b[0;34m\u001b[0m\u001b[0;34m\u001b[0m\u001b[0m\n",
            "\u001b[0;32m<ipython-input-120-a27b37bbba6d>\u001b[0m in \u001b[0;36minner\u001b[0;34m()\u001b[0m\n\u001b[1;32m      2\u001b[0m   \u001b[0mb\u001b[0m \u001b[0;34m=\u001b[0m\u001b[0;36m10\u001b[0m\u001b[0;34m\u001b[0m\u001b[0;34m\u001b[0m\u001b[0m\n\u001b[1;32m      3\u001b[0m   \u001b[0;32mdef\u001b[0m \u001b[0minner\u001b[0m\u001b[0;34m(\u001b[0m\u001b[0;34m)\u001b[0m\u001b[0;34m:\u001b[0m\u001b[0;34m\u001b[0m\u001b[0;34m\u001b[0m\u001b[0m\n\u001b[0;32m----> 4\u001b[0;31m     \u001b[0mprint\u001b[0m\u001b[0;34m(\u001b[0m\u001b[0;34m'inner:'\u001b[0m\u001b[0;34m,\u001b[0m\u001b[0mb\u001b[0m\u001b[0;34m)\u001b[0m\u001b[0;34m\u001b[0m\u001b[0;34m\u001b[0m\u001b[0m\n\u001b[0m\u001b[1;32m      5\u001b[0m     \u001b[0mb\u001b[0m \u001b[0;34m=\u001b[0m \u001b[0;36m20\u001b[0m\u001b[0;34m\u001b[0m\u001b[0;34m\u001b[0m\u001b[0m\n\u001b[1;32m      6\u001b[0m   \u001b[0minner\u001b[0m\u001b[0;34m(\u001b[0m\u001b[0;34m)\u001b[0m\u001b[0;34m\u001b[0m\u001b[0;34m\u001b[0m\u001b[0m\n",
            "\u001b[0;31mUnboundLocalError\u001b[0m: local variable 'b' referenced before assignment"
          ]
        }
      ]
    },
    {
      "cell_type": "code",
      "source": [
        "def outer():\n",
        "  b =10 \n",
        "  def inner():\n",
        "    nonlocal b \n",
        "    print('inner b:',b)\n",
        "    b = 20 \n",
        "  inner()\n",
        "  print(\"outer b:\", b)\n",
        "outer()"
      ],
      "metadata": {
        "colab": {
          "base_uri": "https://localhost:8080/"
        },
        "id": "Klp1W9N8EXWI",
        "outputId": "e8d336b3-c964-472b-aeb3-c8f1f9315263"
      },
      "execution_count": 124,
      "outputs": [
        {
          "output_type": "stream",
          "name": "stdout",
          "text": [
            "inner b: 10\n",
            "outer b: 20\n"
          ]
        }
      ]
    },
    {
      "cell_type": "markdown",
      "source": [
        "#### LEGB Rule\n",
        "\n",
        "1. local\n",
        "2. enclosed\n",
        "3. Global\n",
        "4. Built in\n",
        "\n",
        "when python try to find name:\n"
      ],
      "metadata": {
        "id": "WLwreUSexgfB"
      }
    },
    {
      "cell_type": "markdown",
      "source": [
        "### Object oriented Programming\n",
        "1. Procedure Oriented: logic steps :operater role \n",
        "2. Object Oriented: the relationship between objects: designer role\n"
      ],
      "metadata": {
        "id": "aNNU72Exx07s"
      }
    },
    {
      "cell_type": "markdown",
      "source": [
        "#### history of oop:\n",
        "1. simple data\n",
        "2. array same type of data\n",
        "3. struct: put the different type of data together\n",
        "4. oop: differnt type of data + functions"
      ],
      "metadata": {
        "id": "J0dbUAWaAu-T"
      }
    },
    {
      "cell_type": "markdown",
      "source": [
        "#### defination of class:\n",
        "class:  tool of cookies\n",
        "object: cookies\n",
        "> class = abbtribute + function\n",
        " "
      ],
      "metadata": {
        "id": "8-PFdtveBmqx"
      }
    },
    {
      "cell_type": "code",
      "source": [
        "class Student:\n",
        "  def __init__(self,name,age):\n",
        "    self.name = name\n",
        "    self.age = age\n",
        "  def say_hello(self):\n",
        "    print(\"Say hello: {0}\".format(self.name ))"
      ],
      "metadata": {
        "id": "Ke4dpuW2EG9o"
      },
      "execution_count": 140,
      "outputs": []
    },
    {
      "cell_type": "code",
      "source": [
        "stu1 = Student('HH',32)\n",
        "stu1.say_hello()"
      ],
      "metadata": {
        "colab": {
          "base_uri": "https://localhost:8080/"
        },
        "id": "olCqeOYiAoPi",
        "outputId": "55581b05-c961-4814-915f-48af84739e70"
      },
      "execution_count": 141,
      "outputs": [
        {
          "output_type": "stream",
          "name": "stdout",
          "text": [
            "Say hello: HH\n"
          ]
        }
      ]
    },
    {
      "cell_type": "markdown",
      "source": [
        "#### python object\n",
        "1. id \n",
        "2. type\n",
        "3. value \n",
        "  1. attribute\n",
        "  2. method\n"
      ],
      "metadata": {
        "id": "gXQ-1O7mDVnJ"
      }
    },
    {
      "cell_type": "markdown",
      "source": [
        "#### create object:\n",
        "1. __new()__ method: create object: normally, we dont need to define this method\n",
        "2. __init__() method: initial the object which created. --> initialize means give value to attribute\n",
        "3. self keyword"
      ],
      "metadata": {
        "id": "b8cQnovBDrM3"
      }
    },
    {
      "cell_type": "code",
      "source": [
        "s = Student('QQ',33) # return student object ang assign to s variable\n",
        "s"
      ],
      "metadata": {
        "colab": {
          "base_uri": "https://localhost:8080/"
        },
        "id": "kQB3FdFEEfov",
        "outputId": "9488bc8d-bbd3-4a0d-bfbe-e5f49f4c46d1"
      },
      "execution_count": 143,
      "outputs": [
        {
          "output_type": "execute_result",
          "data": {
            "text/plain": [
              "<__main__.Student at 0x7faa6c975690>"
            ]
          },
          "metadata": {},
          "execution_count": 143
        }
      ]
    },
    {
      "cell_type": "markdown",
      "source": [
        "#### attribute of object \n",
        ">self.attribute\n",
        ">  object().attribute\n"
      ],
      "metadata": {
        "id": "59ngBhtSE78n"
      }
    },
    {
      "cell_type": "markdown",
      "source": [
        "#### method of object "
      ],
      "metadata": {
        "id": "ZfUh4xv-FcH8"
      }
    },
    {
      "cell_type": "code",
      "source": [
        "dir(stu1)"
      ],
      "metadata": {
        "colab": {
          "base_uri": "https://localhost:8080/"
        },
        "id": "CbOApplQDf8v",
        "outputId": "8dd350a3-e121-4ef7-c12f-a06975f251ae"
      },
      "execution_count": 144,
      "outputs": [
        {
          "output_type": "execute_result",
          "data": {
            "text/plain": [
              "['__class__',\n",
              " '__delattr__',\n",
              " '__dict__',\n",
              " '__dir__',\n",
              " '__doc__',\n",
              " '__eq__',\n",
              " '__format__',\n",
              " '__ge__',\n",
              " '__getattribute__',\n",
              " '__gt__',\n",
              " '__hash__',\n",
              " '__init__',\n",
              " '__init_subclass__',\n",
              " '__le__',\n",
              " '__lt__',\n",
              " '__module__',\n",
              " '__ne__',\n",
              " '__new__',\n",
              " '__reduce__',\n",
              " '__reduce_ex__',\n",
              " '__repr__',\n",
              " '__setattr__',\n",
              " '__sizeof__',\n",
              " '__str__',\n",
              " '__subclasshook__',\n",
              " '__weakref__',\n",
              " 'age',\n",
              " 'name',\n",
              " 'say_hello']"
            ]
          },
          "metadata": {},
          "execution_count": 144
        }
      ]
    },
    {
      "cell_type": "code",
      "source": [
        "stu1.__dict__"
      ],
      "metadata": {
        "colab": {
          "base_uri": "https://localhost:8080/"
        },
        "id": "5i7gFMDpAoYl",
        "outputId": "1b6cff76-b521-47d9-a990-f883ff64da60"
      },
      "execution_count": 145,
      "outputs": [
        {
          "output_type": "execute_result",
          "data": {
            "text/plain": [
              "{'age': 32, 'name': 'HH'}"
            ]
          },
          "metadata": {},
          "execution_count": 145
        }
      ]
    },
    {
      "cell_type": "code",
      "source": [
        "class Man:\n",
        "  pass"
      ],
      "metadata": {
        "id": "xmwesFnPAohH"
      },
      "execution_count": 146,
      "outputs": []
    },
    {
      "cell_type": "code",
      "source": [
        "print(isinstance(stu1,Student))"
      ],
      "metadata": {
        "colab": {
          "base_uri": "https://localhost:8080/"
        },
        "id": "DrXaUh5CAon4",
        "outputId": "8a2b0b1c-a104-4e43-b255-62db4a89b995"
      },
      "execution_count": 147,
      "outputs": [
        {
          "output_type": "stream",
          "name": "stdout",
          "text": [
            "True\n"
          ]
        }
      ]
    },
    {
      "cell_type": "markdown",
      "source": [
        "#### type class\n",
        "> type is a metaclass, of which classes are instances"
      ],
      "metadata": {
        "id": "si2H-e3bHhjd"
      }
    },
    {
      "cell_type": "code",
      "source": [
        "print(type(Student)) # create type class first , the student class is the instance of type calss\n"
      ],
      "metadata": {
        "colab": {
          "base_uri": "https://localhost:8080/"
        },
        "id": "TriLvRM9AosB",
        "outputId": "1a2a60e4-3933-4c95-fe2b-04d7963c0f64"
      },
      "execution_count": 149,
      "outputs": [
        {
          "output_type": "stream",
          "name": "stdout",
          "text": [
            "<class 'type'>\n"
          ]
        }
      ]
    },
    {
      "cell_type": "markdown",
      "source": [
        "#### attribute of class\n",
        "> class variable, it means all object will have this attribute"
      ],
      "metadata": {
        "id": "YP4SpcR4IJjX"
      }
    },
    {
      "cell_type": "code",
      "source": [
        "class Employee:\n",
        "  company='NUS'\n",
        "  count = 0\n",
        "  def __init__(self,name):\n",
        "    self.name = name\n",
        "    Employee.count = Employee.count+1\n",
        "  def count_employee(self):\n",
        "    print(\"my company is :\",Employee.company)\n",
        "    print(\"Number of employee:\",Employee.count)\n"
      ],
      "metadata": {
        "id": "3YmLUpcMAowz"
      },
      "execution_count": 152,
      "outputs": []
    },
    {
      "cell_type": "markdown",
      "source": [
        "emp1 >> emp object methed >> emp class\n",
        "method of object also inside the type class   "
      ],
      "metadata": {
        "id": "N8gAc_MgJzYC"
      }
    },
    {
      "cell_type": "code",
      "source": [
        "emp1 = Employee('HH')\n",
        "emp1.count_employee()"
      ],
      "metadata": {
        "colab": {
          "base_uri": "https://localhost:8080/"
        },
        "id": "LvEdwlbcAo07",
        "outputId": "35a6c4c7-0cb1-45d4-8eec-2e2b42c81d71"
      },
      "execution_count": 153,
      "outputs": [
        {
          "output_type": "stream",
          "name": "stdout",
          "text": [
            "my company is : NUS\n",
            "Number of employee: 1\n"
          ]
        }
      ]
    },
    {
      "cell_type": "code",
      "source": [
        "emp2 = Employee('QQ')\n",
        "emp2.count_employee()"
      ],
      "metadata": {
        "colab": {
          "base_uri": "https://localhost:8080/"
        },
        "id": "MpJ4mNs_Ao6j",
        "outputId": "91fa6dd2-57cd-403b-e2f6-2191190f2145"
      },
      "execution_count": 154,
      "outputs": [
        {
          "output_type": "stream",
          "name": "stdout",
          "text": [
            "my company is : NUS\n",
            "Number of employee: 2\n"
          ]
        }
      ]
    },
    {
      "cell_type": "markdown",
      "source": [
        "#### method of class\n",
        "> use property @classmethod to define\n",
        "```\n",
        "@classmethod\n",
        "def classmethod(cls,[,arg]):\n",
        "  method statement\n",
        "```\n",
        "> when you crate new object of class, the class method wont be created\n",
        "> method of class is used to manuply the attribute of class\n",
        " \n"
      ],
      "metadata": {
        "id": "eKSlqHKQK0cN"
      }
    },
    {
      "cell_type": "code",
      "source": [
        "class Employer:\n",
        "  company = 'NUS'\n",
        "  @classmethod\n",
        "  def printCompany(cls):\n",
        "    print(cls.company)"
      ],
      "metadata": {
        "id": "nk8jeWMxApBQ"
      },
      "execution_count": 155,
      "outputs": []
    },
    {
      "cell_type": "code",
      "source": [
        "Employer.printCompany()"
      ],
      "metadata": {
        "colab": {
          "base_uri": "https://localhost:8080/"
        },
        "id": "LED7dHnfApGR",
        "outputId": "d218a66f-827e-477e-8f48-a7c5f7d79c7b"
      },
      "execution_count": 156,
      "outputs": [
        {
          "output_type": "stream",
          "name": "stdout",
          "text": [
            "NUS\n"
          ]
        }
      ]
    },
    {
      "cell_type": "code",
      "source": [
        "empr = Employer(\n",
        "empr.printCompany()"
      ],
      "metadata": {
        "colab": {
          "base_uri": "https://localhost:8080/",
          "height": 133
        },
        "id": "zonk7OhOMaeu",
        "outputId": "c7596ce8-f62f-45fb-bc9b-942bc845be0d"
      },
      "execution_count": 157,
      "outputs": [
        {
          "output_type": "error",
          "ename": "SyntaxError",
          "evalue": "ignored",
          "traceback": [
            "\u001b[0;36m  File \u001b[0;32m\"<ipython-input-157-9571cc581a56>\"\u001b[0;36m, line \u001b[0;32m2\u001b[0m\n\u001b[0;31m    empr.printCompany()\u001b[0m\n\u001b[0m                       ^\u001b[0m\n\u001b[0;31mSyntaxError\u001b[0m\u001b[0;31m:\u001b[0m unexpected EOF while parsing\n"
          ]
        }
      ]
    },
    {
      "cell_type": "markdown",
      "source": [
        "#### static method\n",
        "```\n",
        "@staticmethod\n",
        "def staticName([]):\n",
        "  method statement\n",
        "```\n",
        "> static method call the object method and object attribute will throw error\n",
        "> static method: define some method that not related to object \n",
        "> using class.staticmethod() to access"
      ],
      "metadata": {
        "id": "HGjBm5MKMAer"
      }
    },
    {
      "cell_type": "code",
      "source": [
        "class Ceo:\n",
        "  company = 'NUS'\n",
        "  @staticmethod\n",
        "  def add(a,b):\n",
        "    print(\"{0}+{1} = {2}\".format(a,b,(a+b)))\n",
        "    return a+b"
      ],
      "metadata": {
        "id": "LAGw8J1gApK4"
      },
      "execution_count": 158,
      "outputs": []
    },
    {
      "cell_type": "code",
      "source": [
        "Ceo.add(1,2)"
      ],
      "metadata": {
        "colab": {
          "base_uri": "https://localhost:8080/"
        },
        "id": "Svi4q6eBApQ4",
        "outputId": "a6c4c3bf-8d8a-49b9-a05a-4ac3a8a61569"
      },
      "execution_count": 159,
      "outputs": [
        {
          "output_type": "stream",
          "name": "stdout",
          "text": [
            "1+2 = 3\n"
          ]
        },
        {
          "output_type": "execute_result",
          "data": {
            "text/plain": [
              "3"
            ]
          },
          "metadata": {},
          "execution_count": 159
        }
      ]
    },
    {
      "cell_type": "markdown",
      "source": [
        "#### del() & garb collection\n"
      ],
      "metadata": {
        "id": "NikaUc_DOOtE"
      }
    },
    {
      "cell_type": "code",
      "source": [
        ""
      ],
      "metadata": {
        "id": "GgSrSGd9ApW0"
      },
      "execution_count": null,
      "outputs": []
    },
    {
      "cell_type": "markdown",
      "source": [
        "#### __call__\n",
        "\n",
        "\n",
        "> the object can be used as function\n",
        "\n",
        "\n",
        "> obj() = __call__(object)\n",
        "\n",
        "\n",
        "\n",
        "\n"
      ],
      "metadata": {
        "id": "_QVBaVx67f2y"
      }
    },
    {
      "cell_type": "code",
      "source": [
        "class SalaryAccount:\n",
        "  def __call__(self,salary):\n",
        "    print(\"your salary.....\")\n",
        "    return dict (salary= salary)\n"
      ],
      "metadata": {
        "id": "_i4AtiCRI9jT"
      },
      "execution_count": 2,
      "outputs": []
    },
    {
      "cell_type": "code",
      "source": [
        "s = SalaryAccount()\n",
        "s(3000) "
      ],
      "metadata": {
        "colab": {
          "base_uri": "https://localhost:8080/"
        },
        "id": "6EpBa1_DJ17u",
        "outputId": "38f66155-8bce-4e31-e665-3c8a8276e6b1"
      },
      "execution_count": 3,
      "outputs": [
        {
          "output_type": "stream",
          "name": "stdout",
          "text": [
            "your salary.....\n"
          ]
        },
        {
          "output_type": "execute_result",
          "data": {
            "text/plain": [
              "{'salary': 3000}"
            ]
          },
          "metadata": {},
          "execution_count": 3
        }
      ]
    },
    {
      "cell_type": "markdown",
      "source": [
        "#### python dont have overload\n",
        "> python dont have type for parameter\n",
        "> if there are multiple method with same name, the last method will be take effect\n"
      ],
      "metadata": {
        "id": "T96-nzwDKXST"
      }
    },
    {
      "cell_type": "markdown",
      "source": [
        "#### dynamic python\n"
      ],
      "metadata": {
        "id": "DZrXdACUKXCf"
      }
    },
    {
      "cell_type": "code",
      "source": [
        " class Person:\n",
        "   def work(self):\n",
        "     print(\"work hard\")\n",
        "\n"
      ],
      "metadata": {
        "id": "H3pIWXoFIwNI"
      },
      "execution_count": 5,
      "outputs": []
    },
    {
      "cell_type": "code",
      "source": [
        "def play_game(s):\n",
        "  print(\"{0} play game\".format(s))"
      ],
      "metadata": {
        "id": "DTmro7CHL494"
      },
      "execution_count": 6,
      "outputs": []
    },
    {
      "cell_type": "code",
      "source": [
        "play_game('hh')"
      ],
      "metadata": {
        "colab": {
          "base_uri": "https://localhost:8080/"
        },
        "id": "44lfKleCMvUV",
        "outputId": "d563bbb8-4d03-4914-f64b-311032a646d1"
      },
      "execution_count": 16,
      "outputs": [
        {
          "output_type": "stream",
          "name": "stdout",
          "text": [
            "hh play game\n"
          ]
        }
      ]
    },
    {
      "cell_type": "code",
      "source": [
        "p = Person()\n",
        "p.work()"
      ],
      "metadata": {
        "colab": {
          "base_uri": "https://localhost:8080/"
        },
        "id": "VdjAD-geMCBJ",
        "outputId": "183a4b70-4353-4d7e-e882-3f330326dd48"
      },
      "execution_count": 7,
      "outputs": [
        {
          "output_type": "stream",
          "name": "stdout",
          "text": [
            "work hard\n"
          ]
        }
      ]
    },
    {
      "cell_type": "code",
      "source": [
        "p.play_game()"
      ],
      "metadata": {
        "colab": {
          "base_uri": "https://localhost:8080/",
          "height": 169
        },
        "id": "jXXHKfJdMJFW",
        "outputId": "264b9640-b91e-424c-8a51-f36d3762f235"
      },
      "execution_count": 8,
      "outputs": [
        {
          "output_type": "error",
          "ename": "AttributeError",
          "evalue": "ignored",
          "traceback": [
            "\u001b[0;31m---------------------------------------------------------------------------\u001b[0m",
            "\u001b[0;31mAttributeError\u001b[0m                            Traceback (most recent call last)",
            "\u001b[0;32m<ipython-input-8-8dfe19ca4400>\u001b[0m in \u001b[0;36m<module>\u001b[0;34m()\u001b[0m\n\u001b[0;32m----> 1\u001b[0;31m \u001b[0mp\u001b[0m\u001b[0;34m.\u001b[0m\u001b[0mplay_game\u001b[0m\u001b[0;34m(\u001b[0m\u001b[0;34m)\u001b[0m\u001b[0;34m\u001b[0m\u001b[0;34m\u001b[0m\u001b[0m\n\u001b[0m",
            "\u001b[0;31mAttributeError\u001b[0m: 'Person' object has no attribute 'play_game'"
          ]
        }
      ]
    },
    {
      "cell_type": "code",
      "source": [
        "Person.play = play_game\n",
        "p.play() #Person.play(p)"
      ],
      "metadata": {
        "colab": {
          "base_uri": "https://localhost:8080/"
        },
        "id": "EgISEWKDMKy2",
        "outputId": "3f5109e6-5ccd-4c5d-f934-2b9aea2d5787"
      },
      "execution_count": 17,
      "outputs": [
        {
          "output_type": "stream",
          "name": "stdout",
          "text": [
            "<__main__.Person object at 0x7f585f012c10> play game\n"
          ]
        }
      ]
    },
    {
      "cell_type": "markdown",
      "source": [
        "##### change existing method\n"
      ],
      "metadata": {
        "id": "Dy87kyTfN7aF"
      }
    },
    {
      "cell_type": "code",
      "source": [
        "def work2(s):\n",
        "  print(\"work hard hahaha\")\n",
        "Person.work = work2 \n",
        "p.work()"
      ],
      "metadata": {
        "colab": {
          "base_uri": "https://localhost:8080/"
        },
        "id": "MS1c1A97N_K4",
        "outputId": "89b76094-7d2d-404f-964b-2a220ad977a9"
      },
      "execution_count": 21,
      "outputs": [
        {
          "output_type": "stream",
          "name": "stdout",
          "text": [
            "work hard hahaha\n"
          ]
        }
      ]
    },
    {
      "cell_type": "markdown",
      "source": [
        "#### object method:\n",
        "```\n",
        "a = Student()\n",
        "a.say_score()\n",
        ">>> in interpretor\n",
        "Student.say_score(a)\n",
        "```"
      ],
      "metadata": {
        "id": "qIA5dTEJNVbj"
      }
    },
    {
      "cell_type": "markdown",
      "source": [
        "#### private attribute and method \n",
        "> internal can access and manuply\n",
        ">external can no access if want to access \n",
        "```object._Class__Private```"
      ],
      "metadata": {
        "id": "xP-9npFtNo7l"
      }
    },
    {
      "cell_type": "code",
      "source": [
        " class Student():\n",
        "    def __init__(self,name, age ):\n",
        "      self.name = name\n",
        "      self.__age = age \n",
        "    def showage(self):\n",
        "      print(self.__age)\n",
        "    def __study(self):\n",
        "      print(\"good good study, day day up\")"
      ],
      "metadata": {
        "id": "HwcBf1EHQ0N5"
      },
      "execution_count": 54,
      "outputs": []
    },
    {
      "cell_type": "code",
      "source": [
        "s = Student('HH',32)\n",
        "s.name"
      ],
      "metadata": {
        "colab": {
          "base_uri": "https://localhost:8080/",
          "height": 35
        },
        "id": "StmKCQYPMY8_",
        "outputId": "d9287a6c-f488-450f-e0b3-69779b4b9268"
      },
      "execution_count": 56,
      "outputs": [
        {
          "output_type": "execute_result",
          "data": {
            "text/plain": [
              "'HH'"
            ],
            "application/vnd.google.colaboratory.intrinsic+json": {
              "type": "string"
            }
          },
          "metadata": {},
          "execution_count": 56
        }
      ]
    },
    {
      "cell_type": "code",
      "source": [
        "s.age"
      ],
      "metadata": {
        "colab": {
          "base_uri": "https://localhost:8080/",
          "height": 169
        },
        "id": "QVlIc7g5MWQf",
        "outputId": "f5da9db8-3371-41e3-92a6-4e3e4e929c80"
      },
      "execution_count": 32,
      "outputs": [
        {
          "output_type": "error",
          "ename": "AttributeError",
          "evalue": "ignored",
          "traceback": [
            "\u001b[0;31m---------------------------------------------------------------------------\u001b[0m",
            "\u001b[0;31mAttributeError\u001b[0m                            Traceback (most recent call last)",
            "\u001b[0;32m<ipython-input-32-023eb2836fd2>\u001b[0m in \u001b[0;36m<module>\u001b[0;34m()\u001b[0m\n\u001b[0;32m----> 1\u001b[0;31m \u001b[0ms\u001b[0m\u001b[0;34m.\u001b[0m\u001b[0mage\u001b[0m\u001b[0;34m\u001b[0m\u001b[0;34m\u001b[0m\u001b[0m\n\u001b[0m",
            "\u001b[0;31mAttributeError\u001b[0m: 'Student' object has no attribute 'age'"
          ]
        }
      ]
    },
    {
      "cell_type": "code",
      "source": [
        "s._Student__age"
      ],
      "metadata": {
        "colab": {
          "base_uri": "https://localhost:8080/"
        },
        "id": "gKR8-NvER1gR",
        "outputId": "3b53ea1d-2283-4122-cfdf-6a7788af8a7e"
      },
      "execution_count": 36,
      "outputs": [
        {
          "output_type": "execute_result",
          "data": {
            "text/plain": [
              "32"
            ]
          },
          "metadata": {},
          "execution_count": 36
        }
      ]
    },
    {
      "cell_type": "code",
      "source": [
        "s.__study()"
      ],
      "metadata": {
        "colab": {
          "base_uri": "https://localhost:8080/",
          "height": 169
        },
        "id": "L_Fx6hGUUHdG",
        "outputId": "ecf38d34-be6f-4077-8fee-238eaba27457"
      },
      "execution_count": 44,
      "outputs": [
        {
          "output_type": "error",
          "ename": "AttributeError",
          "evalue": "ignored",
          "traceback": [
            "\u001b[0;31m---------------------------------------------------------------------------\u001b[0m",
            "\u001b[0;31mAttributeError\u001b[0m                            Traceback (most recent call last)",
            "\u001b[0;32m<ipython-input-44-74c4377de6ad>\u001b[0m in \u001b[0;36m<module>\u001b[0;34m()\u001b[0m\n\u001b[0;32m----> 1\u001b[0;31m \u001b[0ms\u001b[0m\u001b[0;34m.\u001b[0m\u001b[0m__study\u001b[0m\u001b[0;34m(\u001b[0m\u001b[0;34m)\u001b[0m\u001b[0;34m\u001b[0m\u001b[0;34m\u001b[0m\u001b[0m\n\u001b[0m",
            "\u001b[0;31mAttributeError\u001b[0m: 'Student' object has no attribute '__study'"
          ]
        }
      ]
    },
    {
      "cell_type": "code",
      "source": [
        "s._Student__study()"
      ],
      "metadata": {
        "colab": {
          "base_uri": "https://localhost:8080/"
        },
        "id": "fNkEIWpUUKdD",
        "outputId": "64ade6c5-4d48-4bb1-c6f4-00939b162492"
      },
      "execution_count": 47,
      "outputs": [
        {
          "output_type": "stream",
          "name": "stdout",
          "text": [
            "good good study, day day up\n"
          ]
        }
      ]
    },
    {
      "cell_type": "code",
      "source": [
        "s.showage()"
      ],
      "metadata": {
        "colab": {
          "base_uri": "https://localhost:8080/"
        },
        "id": "kmQl5axfR7o6",
        "outputId": "05be57b7-28fa-4720-8019-4de1c3797bcc"
      },
      "execution_count": 57,
      "outputs": [
        {
          "output_type": "stream",
          "name": "stdout",
          "text": [
            "32\n"
          ]
        }
      ]
    },
    {
      "cell_type": "code",
      "source": [
        ""
      ],
      "metadata": {
        "id": "vkgd2eBHMRzx"
      },
      "execution_count": null,
      "outputs": []
    },
    {
      "cell_type": "code",
      "source": [
        "myDict = {'key' :'key1', 'value' : 'v1'}"
      ],
      "metadata": {
        "id": "kxaQRxhe9sqr"
      },
      "execution_count": null,
      "outputs": []
    },
    {
      "cell_type": "markdown",
      "source": [
        "#### @property \n",
        "> make the method calling become attribute calling\n",
        "> set the setter & getter to limit attribute"
      ],
      "metadata": {
        "id": "DvBA4Nsv93pS"
      }
    },
    {
      "cell_type": "code",
      "source": [
        ""
      ],
      "metadata": {
        "id": "Z5k9UA4QXaaQ"
      },
      "execution_count": null,
      "outputs": []
    },
    {
      "cell_type": "code",
      "source": [
        "class Employee:\n",
        "  @property\n",
        "  def salary(self):\n",
        "    return 3000"
      ],
      "metadata": {
        "id": "KK1qHqp0V7aN"
      },
      "execution_count": 58,
      "outputs": []
    },
    {
      "cell_type": "code",
      "source": [
        "emp1 = Employee()\n",
        "emp1.salary"
      ],
      "metadata": {
        "colab": {
          "base_uri": "https://localhost:8080/"
        },
        "id": "5MOGxSNdWIxj",
        "outputId": "b2a1ccae-8ad7-4a07-e492-ac10f81fa775"
      },
      "execution_count": 60,
      "outputs": [
        {
          "output_type": "execute_result",
          "data": {
            "text/plain": [
              "3000"
            ]
          },
          "metadata": {},
          "execution_count": 60
        }
      ]
    },
    {
      "cell_type": "code",
      "source": [
        "class Employer:\n",
        "  def __init__(self,name,salary):\n",
        "    self.__name = name\n",
        "    self.__salary = salary\n",
        "\n",
        "  def get_salary(self):\n",
        "    return self.__salary\n",
        "  \n",
        "  def set_salry(self,salary):\n",
        "    if salary>5000:\n",
        "      self.__salary = salary\n",
        "    else:\n",
        "      print('not enough money')"
      ],
      "metadata": {
        "id": "2MRsWUrdWylw"
      },
      "execution_count": 62,
      "outputs": []
    },
    {
      "cell_type": "code",
      "source": [
        "empr = Employer('QQ',6000)\n",
        "print(empr.get_salary())"
      ],
      "metadata": {
        "colab": {
          "base_uri": "https://localhost:8080/"
        },
        "id": "AoGcnW2EWzK3",
        "outputId": "5543ca48-2892-4ddf-bc53-638e46710123"
      },
      "execution_count": 66,
      "outputs": [
        {
          "output_type": "stream",
          "name": "stdout",
          "text": [
            "6000\n"
          ]
        }
      ]
    },
    {
      "cell_type": "code",
      "source": [
        "empr.set_salry(3000)\n",
        "empr.set_salry(8000)"
      ],
      "metadata": {
        "colab": {
          "base_uri": "https://localhost:8080/"
        },
        "id": "wbsskIX-YRlJ",
        "outputId": "bff9c060-8f3a-413f-c5fa-1b4ffbd01340"
      },
      "execution_count": 68,
      "outputs": [
        {
          "output_type": "stream",
          "name": "stdout",
          "text": [
            "not enough money\n"
          ]
        }
      ]
    },
    {
      "cell_type": "code",
      "source": [
        "empr.get_salary()"
      ],
      "metadata": {
        "colab": {
          "base_uri": "https://localhost:8080/"
        },
        "id": "E0Kmru3bWzck",
        "outputId": "7bf90f03-be5e-4841-96df-8343663c9635"
      },
      "execution_count": 70,
      "outputs": [
        {
          "output_type": "execute_result",
          "data": {
            "text/plain": [
              "8000"
            ]
          },
          "metadata": {},
          "execution_count": 70
        }
      ]
    },
    {
      "cell_type": "code",
      "source": [
        "class EmployerP:\n",
        "  def __init__(self,name,salary):\n",
        "    self.__name = name\n",
        "    self.__salary = salary\n",
        "  @property\n",
        "  def salary(self):\n",
        "    return self.__salary\n",
        "  @salary.setter\n",
        "  def salary(self,salary):\n",
        "    if salary>5000:\n",
        "      self.__salary = salary\n",
        "    else:\n",
        "      print('not enough money')"
      ],
      "metadata": {
        "id": "_b8KmnegWztW"
      },
      "execution_count": 76,
      "outputs": []
    },
    {
      "cell_type": "code",
      "source": [
        "emp1 = EmployerP('QQ',5000)\n",
        "emp1.salary"
      ],
      "metadata": {
        "colab": {
          "base_uri": "https://localhost:8080/"
        },
        "id": "u2PgpYdybkik",
        "outputId": "75669aec-c9de-4185-9381-8e03e9bfeca8"
      },
      "execution_count": 78,
      "outputs": [
        {
          "output_type": "execute_result",
          "data": {
            "text/plain": [
              "5000"
            ]
          },
          "metadata": {},
          "execution_count": 78
        }
      ]
    },
    {
      "cell_type": "code",
      "source": [
        "emp1.salary =3000"
      ],
      "metadata": {
        "colab": {
          "base_uri": "https://localhost:8080/"
        },
        "id": "RWfLcYGzbtnF",
        "outputId": "bc35ef51-9f99-4ea3-eef5-d4d0614aa498"
      },
      "execution_count": 80,
      "outputs": [
        {
          "output_type": "stream",
          "name": "stdout",
          "text": [
            "not enough money\n"
          ]
        }
      ]
    },
    {
      "cell_type": "code",
      "source": [
        "emp1.salary = 9000\n",
        "emp1.salary"
      ],
      "metadata": {
        "colab": {
          "base_uri": "https://localhost:8080/"
        },
        "id": "gwMNmhXFb2hM",
        "outputId": "048384d9-8cee-4589-de15-94f6cedd28b9"
      },
      "execution_count": 81,
      "outputs": [
        {
          "output_type": "execute_result",
          "data": {
            "text/plain": [
              "9000"
            ]
          },
          "metadata": {},
          "execution_count": 81
        }
      ]
    },
    {
      "cell_type": "markdown",
      "source": [
        "####encapsulation"
      ],
      "metadata": {
        "id": "kTVxumsYeWf3"
      }
    },
    {
      "cell_type": "markdown",
      "source": [
        "#### inheritance\n",
        "> child class have the feature of father class\n",
        "```\n",
        "class child(father1, father2..):\n",
        "  class statement\n",
        "```\n",
        "> object class: default father class \n",
        "> when you define the chile class, need to call the init function in father class "
      ],
      "metadata": {
        "id": "dHKLt4F1drJR"
      }
    },
    {
      "cell_type": "code",
      "source": [
        "class Person:\n",
        "  def __init__(self,name,age):\n",
        "    self.name = name \n",
        "    self.age = age\n",
        "  def say_hello(self):\n",
        "    print('Hello')\n",
        "\n",
        "class Student(Person):\n",
        "  def __init__(self,name,age,score):\n",
        "    Person.__init__(self,name,age)\n",
        "    self.score = score\n"
      ],
      "metadata": {
        "id": "50Ls-741eHuN"
      },
      "execution_count": 86,
      "outputs": []
    },
    {
      "cell_type": "code",
      "source": [
        "s = Student('HH',18,3.5)\n",
        "s.score"
      ],
      "metadata": {
        "colab": {
          "base_uri": "https://localhost:8080/"
        },
        "id": "2DQmOe23eH9l",
        "outputId": "fa8fbc90-5fe8-4bfd-9854-c5ebaea19490"
      },
      "execution_count": 88,
      "outputs": [
        {
          "output_type": "execute_result",
          "data": {
            "text/plain": [
              "3.5"
            ]
          },
          "metadata": {},
          "execution_count": 88
        }
      ]
    },
    {
      "cell_type": "markdown",
      "source": [
        "##### private attribute in father class\n",
        "> child also interited\n"
      ],
      "metadata": {
        "id": "w2EqHx-gjNkR"
      }
    },
    {
      "cell_type": "code",
      "source": [
        "print(dir(s))"
      ],
      "metadata": {
        "colab": {
          "base_uri": "https://localhost:8080/"
        },
        "id": "_CduWLyXb50H",
        "outputId": "6925813c-8b62-49be-c64a-7fbeb5bba8e5"
      },
      "execution_count": 89,
      "outputs": [
        {
          "output_type": "stream",
          "name": "stdout",
          "text": [
            "['__class__', '__delattr__', '__dict__', '__dir__', '__doc__', '__eq__', '__format__', '__ge__', '__getattribute__', '__gt__', '__hash__', '__init__', '__init_subclass__', '__le__', '__lt__', '__module__', '__ne__', '__new__', '__reduce__', '__reduce_ex__', '__repr__', '__setattr__', '__sizeof__', '__str__', '__subclasshook__', '__weakref__', 'age', 'name', 'say_hello', 'score']\n"
          ]
        }
      ]
    },
    {
      "cell_type": "markdown",
      "source": [
        "##### class member overwrite"
      ],
      "metadata": {
        "id": "8HaQhJPrjcFo"
      }
    },
    {
      "cell_type": "code",
      "source": [
        "class Person:\n",
        "  def __init__(self,name,age):\n",
        "    self.name = name \n",
        "    self.age = age\n",
        "  def say_hello(self):\n",
        "    print('Hello')\n",
        "\n",
        "class Student(Person):\n",
        "  def __init__(self,name,age,score):\n",
        "    Person.__init__(self,name,age)\n",
        "    self.score = score\n",
        "  def say_hello(self):\n",
        "    print('i say Hello')"
      ],
      "metadata": {
        "id": "Lv7MI53AkHB3"
      },
      "execution_count": 90,
      "outputs": []
    },
    {
      "cell_type": "code",
      "source": [
        "s1 = Student('qq',18,5)\n",
        "s1.say_hello()"
      ],
      "metadata": {
        "colab": {
          "base_uri": "https://localhost:8080/"
        },
        "id": "X9fymd7_kN_b",
        "outputId": "f288e565-bc08-4aef-f814-cf38d0e55ea1"
      },
      "execution_count": 92,
      "outputs": [
        {
          "output_type": "stream",
          "name": "stdout",
          "text": [
            "i say Hello\n"
          ]
        }
      ]
    },
    {
      "cell_type": "markdown",
      "source": [
        "#### object class\n",
        "> mro() or __mro__\n"
      ],
      "metadata": {
        "id": "mlhj5AfikYsk"
      }
    },
    {
      "cell_type": "code",
      "source": [
        "class A:pass\n",
        "class B(A):pass\n",
        "class C(B):pass\n",
        "\n",
        "print(C.mro())  # Method Resolution Order"
      ],
      "metadata": {
        "colab": {
          "base_uri": "https://localhost:8080/"
        },
        "id": "1-RoClrakg_h",
        "outputId": "d9d1df23-33b9-4c2f-c853-4d7a45c42c78"
      },
      "execution_count": 94,
      "outputs": [
        {
          "output_type": "stream",
          "name": "stdout",
          "text": [
            "[<class '__main__.C'>, <class '__main__.B'>, <class '__main__.A'>, <class 'object'>]\n"
          ]
        }
      ]
    },
    {
      "cell_type": "code",
      "source": [
        "dir(s) # to check all attribute of object "
      ],
      "metadata": {
        "colab": {
          "base_uri": "https://localhost:8080/"
        },
        "id": "xsM8-eyskxPX",
        "outputId": "04a3bc20-8f6b-4cbf-b568-60691e01347f"
      },
      "execution_count": 96,
      "outputs": [
        {
          "output_type": "execute_result",
          "data": {
            "text/plain": [
              "['__class__',\n",
              " '__delattr__',\n",
              " '__dict__',\n",
              " '__dir__',\n",
              " '__doc__',\n",
              " '__eq__',\n",
              " '__format__',\n",
              " '__ge__',\n",
              " '__getattribute__',\n",
              " '__gt__',\n",
              " '__hash__',\n",
              " '__init__',\n",
              " '__init_subclass__',\n",
              " '__le__',\n",
              " '__lt__',\n",
              " '__module__',\n",
              " '__ne__',\n",
              " '__new__',\n",
              " '__reduce__',\n",
              " '__reduce_ex__',\n",
              " '__repr__',\n",
              " '__setattr__',\n",
              " '__sizeof__',\n",
              " '__str__',\n",
              " '__subclasshook__',\n",
              " '__weakref__',\n",
              " 'age',\n",
              " 'name',\n",
              " 'say_hello',\n",
              " 'score']"
            ]
          },
          "metadata": {},
          "execution_count": 96
        }
      ]
    },
    {
      "cell_type": "code",
      "source": [
        "dir(object)"
      ],
      "metadata": {
        "colab": {
          "base_uri": "https://localhost:8080/"
        },
        "id": "yiFCAEkbkWMc",
        "outputId": "afa8a949-c43e-46bf-9fe7-764da9319f8a"
      },
      "execution_count": 97,
      "outputs": [
        {
          "output_type": "execute_result",
          "data": {
            "text/plain": [
              "['__class__',\n",
              " '__delattr__',\n",
              " '__dir__',\n",
              " '__doc__',\n",
              " '__eq__',\n",
              " '__format__',\n",
              " '__ge__',\n",
              " '__getattribute__',\n",
              " '__gt__',\n",
              " '__hash__',\n",
              " '__init__',\n",
              " '__init_subclass__',\n",
              " '__le__',\n",
              " '__lt__',\n",
              " '__ne__',\n",
              " '__new__',\n",
              " '__reduce__',\n",
              " '__reduce_ex__',\n",
              " '__repr__',\n",
              " '__setattr__',\n",
              " '__sizeof__',\n",
              " '__str__',\n",
              " '__subclasshook__']"
            ]
          },
          "metadata": {},
          "execution_count": 97
        }
      ]
    },
    {
      "cell_type": "markdown",
      "source": [
        "##### overwrite the method from object class\n"
      ],
      "metadata": {
        "id": "aiN5kYPCmiZZ"
      }
    },
    {
      "cell_type": "code",
      "source": [
        "class Person:\n",
        "  def __init__(self,name):\n",
        "    self.name =name\n",
        "  def __str__(self):\n",
        "    return \"name:{0}\".format(self.name)"
      ],
      "metadata": {
        "id": "xmobZxFKmnTz"
      },
      "execution_count": 101,
      "outputs": []
    },
    {
      "cell_type": "code",
      "source": [
        "p = Person('HH')\n",
        "print(p)"
      ],
      "metadata": {
        "colab": {
          "base_uri": "https://localhost:8080/"
        },
        "id": "By1P4L9Nm3dy",
        "outputId": "ef0f380e-fca9-4e0e-ab1f-f44b14915392"
      },
      "execution_count": 102,
      "outputs": [
        {
          "output_type": "stream",
          "name": "stdout",
          "text": [
            "name:HH\n"
          ]
        }
      ]
    },
    {
      "cell_type": "markdown",
      "source": [
        "#### multiple inheritance for python\n",
        "> in java, C# not like this, only interface "
      ],
      "metadata": {
        "id": "mFXNQRTCnMIf"
      }
    },
    {
      "cell_type": "markdown",
      "source": [
        "##### call father class\n",
        "> super()"
      ],
      "metadata": {
        "id": "5oLHd_9c5-Qh"
      }
    },
    {
      "cell_type": "code",
      "source": [
        "class A:\n",
        "  def say(self):\n",
        "    print(\"A:\",self)\n",
        "\n",
        "class B(A):\n",
        "  def say(self):\n",
        "    super().say()\n",
        "    print(\"B:\", self)"
      ],
      "metadata": {
        "id": "5zCSNEEinUaZ"
      },
      "execution_count": 105,
      "outputs": []
    },
    {
      "cell_type": "code",
      "source": [
        "B().say() "
      ],
      "metadata": {
        "colab": {
          "base_uri": "https://localhost:8080/"
        },
        "id": "19XQVwt1lVCV",
        "outputId": "eceda5a6-7af8-404f-f4ff-4ec220dacb11"
      },
      "execution_count": 106,
      "outputs": [
        {
          "output_type": "stream",
          "name": "stdout",
          "text": [
            "A: <__main__.B object at 0x7f585ef92390>\n",
            "B: <__main__.B object at 0x7f585ef92390>\n"
          ]
        }
      ]
    },
    {
      "cell_type": "markdown",
      "source": [
        "#### polymorphism\n",
        "> same method have different behavior because of object \n",
        "1. only method have polymorphism\n",
        "2. polymorphism is because interitance and method override\n",
        "\n"
      ],
      "metadata": {
        "id": "_8kQwmW37h94"
      }
    },
    {
      "cell_type": "code",
      "source": [
        "class Animial:\n",
        "  def say(self):\n",
        "    print(\"aa\")\n",
        "\n",
        "class dog(Animial):\n",
        "  def say(self):\n",
        "    print(\"ww\")\n",
        "\n",
        "class cat(Animial):\n",
        "  def say(self):\n",
        "    print(\"mm\")\n",
        "\n",
        "class chicken(Animial):\n",
        "  def say(self):\n",
        "    print(\"gg\")"
      ],
      "metadata": {
        "id": "LBMVfuij7lLB"
      },
      "execution_count": 109,
      "outputs": []
    },
    {
      "cell_type": "code",
      "source": [
        "def animailSay(m):\n",
        "  if isinstance(m,Animial):\n",
        "    m.say()\n",
        "  else:\n",
        "    print(\"no sound\")\n"
      ],
      "metadata": {
        "id": "FXUTen9M8TZh"
      },
      "execution_count": 110,
      "outputs": []
    },
    {
      "cell_type": "code",
      "source": [
        "animailSay(cat())"
      ],
      "metadata": {
        "colab": {
          "base_uri": "https://localhost:8080/"
        },
        "id": "ekK0lEQn8151",
        "outputId": "cc662a04-2915-4636-82c7-cd89d16469f1"
      },
      "execution_count": 112,
      "outputs": [
        {
          "output_type": "stream",
          "name": "stdout",
          "text": [
            "mm\n"
          ]
        }
      ]
    },
    {
      "cell_type": "code",
      "source": [
        "animailSay(dog())"
      ],
      "metadata": {
        "colab": {
          "base_uri": "https://localhost:8080/"
        },
        "id": "PaQuw3W-86T0",
        "outputId": "ed7f689b-b546-4bc8-93a6-de7baa9998f0"
      },
      "execution_count": 113,
      "outputs": [
        {
          "output_type": "stream",
          "name": "stdout",
          "text": [
            "ww\n"
          ]
        }
      ]
    },
    {
      "cell_type": "code",
      "source": [
        "animailSay(Animial())"
      ],
      "metadata": {
        "colab": {
          "base_uri": "https://localhost:8080/"
        },
        "id": "AP41H7pX88mm",
        "outputId": "953fe9d2-be84-4f36-ef4f-da4fc570c412"
      },
      "execution_count": 115,
      "outputs": [
        {
          "output_type": "stream",
          "name": "stdout",
          "text": [
            "aa\n"
          ]
        }
      ]
    },
    {
      "cell_type": "markdown",
      "source": [
        "##### object method >>> \n",
        "```\n",
        "c = a+b\n",
        "c = a.__add__(b)\n",
        "```"
      ],
      "metadata": {
        "id": "XoTw_0j197oN"
      }
    },
    {
      "cell_type": "markdown",
      "source": [
        "##### special attribute\n",
        "```\n",
        "obj.__dict__\n",
        "obj.__class__\n",
        "class.__base__\n",
        "class.__subclasses__()\n",
        "```"
      ],
      "metadata": {
        "id": "RnUIS1Cy-lAG"
      }
    },
    {
      "cell_type": "code",
      "source": [
        "Student.__base__"
      ],
      "metadata": {
        "colab": {
          "base_uri": "https://localhost:8080/"
        },
        "id": "7iNjQk5R-wRR",
        "outputId": "ba63e967-189c-49fe-f433-2fb1205ebfc9"
      },
      "execution_count": 116,
      "outputs": [
        {
          "output_type": "execute_result",
          "data": {
            "text/plain": [
              "__main__.Person"
            ]
          },
          "metadata": {},
          "execution_count": 116
        }
      ]
    },
    {
      "cell_type": "code",
      "source": [
        "Animial.__subclasses__()"
      ],
      "metadata": {
        "colab": {
          "base_uri": "https://localhost:8080/"
        },
        "id": "DZVGIezZ-Jxe",
        "outputId": "a90a9798-9f24-45e4-9a42-4fc563502b1e"
      },
      "execution_count": 117,
      "outputs": [
        {
          "output_type": "execute_result",
          "data": {
            "text/plain": [
              "[__main__.dog, __main__.cat, __main__.chicken]"
            ]
          },
          "metadata": {},
          "execution_count": 117
        }
      ]
    },
    {
      "cell_type": "markdown",
      "source": [
        "#### By Composition(Has-A Relation)\n",
        "By Inheritance(Is-A Relation)"
      ],
      "metadata": {
        "id": "aVtpWeEv_Pth"
      }
    },
    {
      "cell_type": "code",
      "source": [
        "class A:\n",
        "  def say_a(self):\n",
        "    print(\"a--a--a\")\n",
        "\n",
        "class B:\n",
        "  def __init__(self,a):\n",
        "    self.a = a \n",
        "\n",
        "a = A()\n",
        "b = B(a)\n",
        "b.a.say_a()"
      ],
      "metadata": {
        "colab": {
          "base_uri": "https://localhost:8080/"
        },
        "id": "6h-t55H39CLK",
        "outputId": "d8adbc95-79c3-4532-a49f-9f228b84324c"
      },
      "execution_count": 120,
      "outputs": [
        {
          "output_type": "stream",
          "name": "stdout",
          "text": [
            "a--a--a\n"
          ]
        }
      ]
    },
    {
      "cell_type": "markdown",
      "source": [
        "### Design Pattern\n"
      ],
      "metadata": {
        "id": "ZSyJiYPCA6sq"
      }
    },
    {
      "cell_type": "markdown",
      "source": [
        "#### Factory Pattern\n"
      ],
      "metadata": {
        "id": "ygdpTATzBAhS"
      }
    },
    {
      "cell_type": "code",
      "source": [
        "class FactoryCar():\n",
        "  def create_car(self,brand):\n",
        "    if brand=='benz':\n",
        "      return Ben()\n",
        "    elif brand=='byd':\n",
        "      return BYD()\n",
        "    elif brand=='BMW':\n",
        "      return BMW()\n",
        "    else:\n",
        "      return \"unkown\"\n",
        "class Ben():\n",
        "  pass\n",
        "class BYD():\n",
        "  pass\n",
        "class BMW():\n",
        "  pass"
      ],
      "metadata": {
        "id": "EAy2S002BEiy"
      },
      "execution_count": 122,
      "outputs": []
    },
    {
      "cell_type": "code",
      "source": [
        "factory = FactoryCar()\n",
        "f1= factory.create_car('benz')\n",
        "f2 = factory.create_car('byd')\n",
        "f3 = factory.create_car('BMW')"
      ],
      "metadata": {
        "id": "5V2i8tfoDJjP"
      },
      "execution_count": 123,
      "outputs": []
    },
    {
      "cell_type": "code",
      "source": [
        "f1"
      ],
      "metadata": {
        "colab": {
          "base_uri": "https://localhost:8080/"
        },
        "id": "evvUTMATAnP0",
        "outputId": "8bef9caf-9afb-455b-97a8-b1a6f65dd1ef"
      },
      "execution_count": 124,
      "outputs": [
        {
          "output_type": "execute_result",
          "data": {
            "text/plain": [
              "<__main__.Ben at 0x7f585683a350>"
            ]
          },
          "metadata": {},
          "execution_count": 124
        }
      ]
    },
    {
      "cell_type": "code",
      "source": [
        "f2"
      ],
      "metadata": {
        "colab": {
          "base_uri": "https://localhost:8080/"
        },
        "id": "A3g4qJBZDdgq",
        "outputId": "e93bab5a-02f4-43f8-e165-7a293fb1aae0"
      },
      "execution_count": 125,
      "outputs": [
        {
          "output_type": "execute_result",
          "data": {
            "text/plain": [
              "<__main__.BYD at 0x7f585683aad0>"
            ]
          },
          "metadata": {},
          "execution_count": 125
        }
      ]
    },
    {
      "cell_type": "markdown",
      "source": [
        "####Singleton Pattern\n",
        "> only object can be create \n",
        "> __init__(): initial object, give the attribute\n",
        ">__new__(): create object, it is actually real constructor\n",
        "1. create class attribute\n",
        "2. override __new()__ and __init()__\n"
      ],
      "metadata": {
        "id": "Qi5_URDNjbzY"
      }
    },
    {
      "cell_type": "code",
      "source": [
        "class MySingleton:\n",
        "  __obj = None   # class attribute\n",
        "  # create one object and saved in class attribute \n",
        "  __init_flag = True\n",
        "  def __new__(cls,*args, **kwargs):\n",
        "    if(cls.__obj) == None:\n",
        "      cls.__obj = object.__new__(cls)\n",
        "    return cls.__obj\n",
        "  def __init_(self,name):\n",
        "    if MySingleton.__init_flag:\n",
        "      print(\"init....\")\n",
        "      self.name=names\n",
        "      MySingleton.__init_flag =False\n",
        "\n",
        "\n"
      ],
      "metadata": {
        "id": "NSseI28-EYOZ"
      },
      "execution_count": 133,
      "outputs": []
    },
    {
      "cell_type": "code",
      "source": [
        "a = MySingleton(\"aa\")\n",
        "b = MySingleton(\"bb\")\n",
        "print(a)\n",
        "print(b)\n"
      ],
      "metadata": {
        "colab": {
          "base_uri": "https://localhost:8080/"
        },
        "id": "QNB-uBUhGaVV",
        "outputId": "91a98436-a279-4de9-fee2-f20154607f9a"
      },
      "execution_count": 134,
      "outputs": [
        {
          "output_type": "stream",
          "name": "stdout",
          "text": [
            "<__main__.MySingleton object at 0x7f58567ea210>\n",
            "<__main__.MySingleton object at 0x7f58567ea210>\n"
          ]
        }
      ]
    },
    {
      "cell_type": "code",
      "source": [
        ""
      ],
      "metadata": {
        "id": "oFRSWh_aGkX3"
      },
      "execution_count": null,
      "outputs": []
    },
    {
      "cell_type": "code",
      "source": [
        ""
      ],
      "metadata": {
        "id": "s4TwJFIietkG"
      },
      "execution_count": 81,
      "outputs": []
    },
    {
      "cell_type": "code",
      "source": [
        ""
      ],
      "metadata": {
        "id": "7Wk2ABUheto8"
      },
      "execution_count": null,
      "outputs": []
    },
    {
      "cell_type": "code",
      "source": [
        ""
      ],
      "metadata": {
        "id": "CPyKcp3h7bQi"
      },
      "execution_count": null,
      "outputs": []
    },
    {
      "cell_type": "markdown",
      "source": [
        "#### list slice\n",
        "list[start:end:step]\n",
        "contain start but not contain end. index from 0"
      ],
      "metadata": {
        "id": "amnAq5Lo6HMA"
      }
    },
    {
      "cell_type": "code",
      "source": [
        "myList = [1,3,5,7]\n",
        "myList[1:5:2]"
      ],
      "metadata": {
        "colab": {
          "base_uri": "https://localhost:8080/"
        },
        "id": "9Ene2Q055qTw",
        "outputId": "936bc92e-24ed-4666-ab79-dca0d9fa8719"
      },
      "execution_count": 5,
      "outputs": [
        {
          "output_type": "execute_result",
          "data": {
            "text/plain": [
              "[3, 7]"
            ]
          },
          "metadata": {},
          "execution_count": 5
        }
      ]
    },
    {
      "cell_type": "markdown",
      "source": [
        "## Object O Programing\n",
        "\n"
      ],
      "metadata": {
        "id": "nNcBZ8Ozj1sA"
      }
    },
    {
      "cell_type": "markdown",
      "source": [
        "## define class\n"
      ],
      "metadata": {
        "id": "qELw3x77yAl4"
      }
    },
    {
      "cell_type": "code",
      "source": [
        "class Student(object):\n",
        "  def __init__(self,name,age):\n",
        "    self.name = name\n",
        "    self.__age = age\n",
        "  def study(self,course_name):\n",
        "    print('%s is studying %s now' %(self.name,course_name))\n",
        "  def __exam(self):\n",
        "    print(self.__age)"
      ],
      "metadata": {
        "id": "zE5kAgiByNdZ"
      },
      "execution_count": 16,
      "outputs": []
    },
    {
      "cell_type": "code",
      "source": [
        "stu1 = Student('xiaoming',23)\n",
        "stu1.study('Math')"
      ],
      "metadata": {
        "colab": {
          "base_uri": "https://localhost:8080/"
        },
        "id": "6KxArv_FylUi",
        "outputId": "3cbbbdf0-9b7e-486e-f1d4-21d33286a0f5"
      },
      "execution_count": 17,
      "outputs": [
        {
          "output_type": "stream",
          "name": "stdout",
          "text": [
            "xiaoming is studying Math now\n"
          ]
        }
      ]
    },
    {
      "cell_type": "markdown",
      "source": [
        "### accessibility\n",
        "\n",
        "\n",
        "> if properties is private, there is __ to be begining. \n",
        "\n"
      ],
      "metadata": {
        "id": "ZhJxmFnr0B--"
      }
    },
    {
      "cell_type": "code",
      "source": [
        "stu1.__exam()"
      ],
      "metadata": {
        "colab": {
          "base_uri": "https://localhost:8080/",
          "height": 169
        },
        "id": "ZE78Af6rz_q2",
        "outputId": "822ee883-6d91-4bd5-deed-6be48f88fc58"
      },
      "execution_count": 18,
      "outputs": [
        {
          "output_type": "error",
          "ename": "AttributeError",
          "evalue": "ignored",
          "traceback": [
            "\u001b[0;31m---------------------------------------------------------------------------\u001b[0m",
            "\u001b[0;31mAttributeError\u001b[0m                            Traceback (most recent call last)",
            "\u001b[0;32m<ipython-input-18-86ed4aece8c6>\u001b[0m in \u001b[0;36m<module>\u001b[0;34m()\u001b[0m\n\u001b[0;32m----> 1\u001b[0;31m \u001b[0mstu1\u001b[0m\u001b[0;34m.\u001b[0m\u001b[0m__exam\u001b[0m\u001b[0;34m(\u001b[0m\u001b[0;34m)\u001b[0m\u001b[0;34m\u001b[0m\u001b[0;34m\u001b[0m\u001b[0m\n\u001b[0m",
            "\u001b[0;31mAttributeError\u001b[0m: 'Student' object has no attribute '__exam'"
          ]
        }
      ]
    },
    {
      "cell_type": "code",
      "source": [
        "print(stu1.__age)"
      ],
      "metadata": {
        "colab": {
          "base_uri": "https://localhost:8080/",
          "height": 169
        },
        "id": "D3EtQ58v1SYP",
        "outputId": "10a4113f-e2b5-45f1-c943-b0df7b9f591b"
      },
      "execution_count": 19,
      "outputs": [
        {
          "output_type": "error",
          "ename": "AttributeError",
          "evalue": "ignored",
          "traceback": [
            "\u001b[0;31m---------------------------------------------------------------------------\u001b[0m",
            "\u001b[0;31mAttributeError\u001b[0m                            Traceback (most recent call last)",
            "\u001b[0;32m<ipython-input-19-736ee6fe1a5c>\u001b[0m in \u001b[0;36m<module>\u001b[0;34m()\u001b[0m\n\u001b[0;32m----> 1\u001b[0;31m \u001b[0mprint\u001b[0m\u001b[0;34m(\u001b[0m\u001b[0mstu1\u001b[0m\u001b[0;34m.\u001b[0m\u001b[0m__age\u001b[0m\u001b[0;34m)\u001b[0m\u001b[0;34m\u001b[0m\u001b[0;34m\u001b[0m\u001b[0m\n\u001b[0m",
            "\u001b[0;31mAttributeError\u001b[0m: 'Student' object has no attribute '__age'"
          ]
        }
      ]
    },
    {
      "cell_type": "code",
      "source": [
        "print(stu1._Student__age)"
      ],
      "metadata": {
        "colab": {
          "base_uri": "https://localhost:8080/"
        },
        "id": "Udb6bn841i8w",
        "outputId": "14e723f0-2fbf-47d6-c52f-9fd2d729424f"
      },
      "execution_count": 21,
      "outputs": [
        {
          "output_type": "stream",
          "name": "stdout",
          "text": [
            "23\n"
          ]
        }
      ]
    },
    {
      "cell_type": "code",
      "source": [
        "stu1._Student__exam()"
      ],
      "metadata": {
        "colab": {
          "base_uri": "https://localhost:8080/"
        },
        "id": "5PiOohMf1tVw",
        "outputId": "a57049bf-09fb-446f-c3a7-fbe2daf4906b"
      },
      "execution_count": 22,
      "outputs": [
        {
          "output_type": "stream",
          "name": "stdout",
          "text": [
            "23\n"
          ]
        }
      ]
    },
    {
      "cell_type": "markdown",
      "source": [
        "### OOP\n",
        "\n",
        "\n",
        "> encapsulation,inheritance,polymorphism\n",
        "\n",
        "\n"
      ],
      "metadata": {
        "id": "-eemU1HJ1741"
      }
    },
    {
      "cell_type": "markdown",
      "source": [
        "#### encapsulation\n",
        "\n",
        "\n",
        "> we encapsulate the data and the munipulation of data. \n",
        "\n"
      ],
      "metadata": {
        "id": "-JKr282_2Tq0"
      }
    },
    {
      "cell_type": "markdown",
      "source": [
        "### @property\n"
      ],
      "metadata": {
        "id": "2-K71ngP39qy"
      }
    },
    {
      "cell_type": "markdown",
      "source": [
        "#### inheritance\n"
      ],
      "metadata": {
        "id": "__QFePsx3Cwi"
      }
    },
    {
      "cell_type": "code",
      "source": [
        ""
      ],
      "metadata": {
        "id": "pNV1ecxZ123s"
      },
      "execution_count": null,
      "outputs": []
    },
    {
      "cell_type": "markdown",
      "source": [
        "## Charpter 13 模块\n",
        "\n",
        "\n",
        "> * 高级的封装: 模块 : 模块就是程序. 保存为.py的文件, 都是一个独立的模块\n",
        "  * 容器（列表、元组、字符串、字典等），是对数据的封装。\n",
        "  * 函数，是对语句的封装。\n",
        "  * 类，是对方法和属性的封装，也就是对函数和数据的封装。\n",
        "\n"
      ],
      "metadata": {
        "id": "Jywcykb2bysE"
      }
    },
    {
      "cell_type": "markdown",
      "source": [
        "#### 命名空间\n",
        "命名空间 表示标识符的可见范围. 在python, 每个模块都会维护一个独立的命名空间,应该把模块名加上,才能够正常使用模块中的函数\n"
      ],
      "metadata": {
        "id": "Sa2vIAiWcrv8"
      }
    },
    {
      "cell_type": "code",
      "execution_count": null,
      "metadata": {
        "colab": {
          "base_uri": "https://localhost:8080/",
          "height": 218
        },
        "id": "sI5olQ8gbhFc",
        "outputId": "0092b874-145c-4231-e3eb-157bad28aea9"
      },
      "outputs": [
        {
          "output_type": "stream",
          "name": "stdout",
          "text": [
            "[1 2 3]\n"
          ]
        },
        {
          "output_type": "error",
          "ename": "NameError",
          "evalue": "ignored",
          "traceback": [
            "\u001b[0;31m---------------------------------------------------------------------------\u001b[0m",
            "\u001b[0;31mNameError\u001b[0m                                 Traceback (most recent call last)",
            "\u001b[0;32m<ipython-input-4-b9eeeb8cd2f3>\u001b[0m in \u001b[0;36m<module>\u001b[0;34m()\u001b[0m\n\u001b[1;32m      1\u001b[0m \u001b[0;32mimport\u001b[0m \u001b[0mnumpy\u001b[0m \u001b[0;32mas\u001b[0m \u001b[0mnp\u001b[0m \u001b[0;31m# np is namespace\u001b[0m\u001b[0;34m\u001b[0m\u001b[0;34m\u001b[0m\u001b[0m\n\u001b[1;32m      2\u001b[0m \u001b[0mprint\u001b[0m\u001b[0;34m(\u001b[0m\u001b[0mnp\u001b[0m\u001b[0;34m.\u001b[0m\u001b[0marray\u001b[0m\u001b[0;34m(\u001b[0m\u001b[0;34m[\u001b[0m\u001b[0;36m1\u001b[0m\u001b[0;34m,\u001b[0m\u001b[0;36m2\u001b[0m\u001b[0;34m,\u001b[0m\u001b[0;36m3\u001b[0m\u001b[0;34m]\u001b[0m\u001b[0;34m)\u001b[0m\u001b[0;34m)\u001b[0m\u001b[0;34m\u001b[0m\u001b[0;34m\u001b[0m\u001b[0m\n\u001b[0;32m----> 3\u001b[0;31m \u001b[0marray\u001b[0m\u001b[0;34m(\u001b[0m\u001b[0;34m[\u001b[0m\u001b[0;36m1\u001b[0m\u001b[0;34m,\u001b[0m\u001b[0;36m2\u001b[0m\u001b[0;34m,\u001b[0m\u001b[0;36m3\u001b[0m\u001b[0;34m]\u001b[0m\u001b[0;34m)\u001b[0m\u001b[0;34m\u001b[0m\u001b[0;34m\u001b[0m\u001b[0m\n\u001b[0m",
            "\u001b[0;31mNameError\u001b[0m: name 'array' is not defined"
          ]
        }
      ],
      "source": [
        "import numpy as np # np is namespace\n",
        "print(np.array([1,2,3]))\n",
        "array([1,2,3])    # without namespace \n"
      ]
    },
    {
      "cell_type": "markdown",
      "source": [
        "#### 三种导入模块的方法\n"
      ],
      "metadata": {
        "id": "Bgd-CyRaeBmV"
      }
    },
    {
      "cell_type": "code",
      "source": [
        "# import 模块名字\n",
        "# from 模块名字 import 函数名\n",
        "from numpy import * # 不推荐\n",
        "# import 模块名 as 新名字\n",
        "import numpy as np"
      ],
      "metadata": {
        "id": "AJB3lElxeIvB"
      },
      "execution_count": null,
      "outputs": []
    },
    {
      "cell_type": "markdown",
      "source": [
        "#### 模块的作用与用法\n",
        "\n",
        "\n",
        "1.   封装组织的python代码\n",
        "2.   python代码的重用\n",
        "\n",
        "\n",
        "\n",
        "\n"
      ],
      "metadata": {
        "id": "Hmo9ApbNeHcP"
      }
    },
    {
      "cell_type": "markdown",
      "source": [
        "#### if name = main 的作用\n",
        "让python 知道该模块是作为程序运行还是导入其他模块中\n"
      ],
      "metadata": {
        "id": "PSF0DDsOgGTC"
      }
    },
    {
      "cell_type": "code",
      "source": [
        "if __name__ = '__main__':\n",
        "  test()\n",
        "# 如果没有这句, 当这个模块导入时, 其中的函数都会跑一遍.\n"
      ],
      "metadata": {
        "id": "FFaarYFweoMC"
      },
      "execution_count": null,
      "outputs": []
    },
    {
      "cell_type": "markdown",
      "source": [
        "#### 搜索路径\n",
        "\n",
        "\n",
        "> 组织中的代码不会放在同一个文件夹中,他会用不同的文件夹来管理. python模块的导入需要一个路径搜索的过程.\n",
        "\n",
        "\n",
        "> 搜索路径有: sys.path\n",
        "\n",
        "\n",
        "> 如果你的模块不在这个搜索路径, 你可以把自己模块的位置添加进来\n",
        "sys.append(path)\n",
        "\n",
        "\n",
        "\n",
        "\n",
        "\n"
      ],
      "metadata": {
        "id": "cqCti76ihEGf"
      }
    },
    {
      "cell_type": "code",
      "source": [
        "import sys\n",
        "sys.path"
      ],
      "metadata": {
        "colab": {
          "base_uri": "https://localhost:8080/"
        },
        "id": "UNfe2FQchh0d",
        "outputId": "4c190a4d-9380-4e0f-8546-415b78966bb5"
      },
      "execution_count": null,
      "outputs": [
        {
          "output_type": "execute_result",
          "data": {
            "text/plain": [
              "['',\n",
              " '/content',\n",
              " '/env/python',\n",
              " '/usr/lib/python37.zip',\n",
              " '/usr/lib/python3.7',\n",
              " '/usr/lib/python3.7/lib-dynload',\n",
              " '/usr/local/lib/python3.7/dist-packages',\n",
              " '/usr/lib/python3/dist-packages',\n",
              " '/usr/local/lib/python3.7/dist-packages/IPython/extensions',\n",
              " '/root/.ipython']"
            ]
          },
          "metadata": {},
          "execution_count": 5
        }
      ]
    },
    {
      "cell_type": "markdown",
      "source": [
        "#### 包\n",
        "\n",
        "\n",
        "> 把模块分门别类地存放在不同的文件夹,然后把各个文件夹的位置告诉python\n",
        "\n",
        "\n",
        "> 步骤:\n",
        "\n",
        "\n",
        "1.   创建一个文件夹用于存放相关的模块,文件夹的名字即是包的名字\n",
        "2.   在文件夹中 创建一个 __init_ _.py 的模块文件, 内容可以为空  (用来告诉python 这是包)\n",
        "3.   将相关的模块放进去\n",
        "\n",
        "\n",
        "\n",
        "\n",
        "\n",
        "\n"
      ],
      "metadata": {
        "id": "PqGtRtI6ieoj"
      }
    },
    {
      "cell_type": "markdown",
      "source": [
        "#### python 标准库的模块的属性 \n",
        "\n",
        "\n",
        "> 怎么看 这个module都有什么\n",
        "\n",
        "\n",
        "1.   import 模块\n",
        "2.   _ _doc_ _ 属性来看简介\n",
        "3.   dir() 函数 查询\n",
        "4.   _ _all_ _ 属性 \n",
        "5.   _ _file_ _属性: 表明这个模块的源代码位置\n",
        "6.   help() \n",
        "\n",
        "\n",
        "\n"
      ],
      "metadata": {
        "id": "r9MC2ZrTmAVN"
      }
    },
    {
      "cell_type": "code",
      "source": [
        "import timeit\n",
        "print(timeit.__doc__)"
      ],
      "metadata": {
        "colab": {
          "base_uri": "https://localhost:8080/"
        },
        "id": "eEO36MS7ihIP",
        "outputId": "c53861c4-d3fe-4d47-8d20-96fadff26057"
      },
      "execution_count": null,
      "outputs": [
        {
          "output_type": "stream",
          "name": "stdout",
          "text": [
            "Tool for measuring execution time of small code snippets.\n",
            "\n",
            "This module avoids a number of common traps for measuring execution\n",
            "times.  See also Tim Peters' introduction to the Algorithms chapter in\n",
            "the Python Cookbook, published by O'Reilly.\n",
            "\n",
            "Library usage: see the Timer class.\n",
            "\n",
            "Command line usage:\n",
            "    python timeit.py [-n N] [-r N] [-s S] [-p] [-h] [--] [statement]\n",
            "\n",
            "Options:\n",
            "  -n/--number N: how many times to execute 'statement' (default: see below)\n",
            "  -r/--repeat N: how many times to repeat the timer (default 5)\n",
            "  -s/--setup S: statement to be executed once initially (default 'pass').\n",
            "                Execution time of this setup statement is NOT timed.\n",
            "  -p/--process: use time.process_time() (default is time.perf_counter())\n",
            "  -v/--verbose: print raw timing results; repeat for more digits precision\n",
            "  -u/--unit: set the output time unit (nsec, usec, msec, or sec)\n",
            "  -h/--help: print this usage message and exit\n",
            "  --: separate options from statement, use when statement starts with -\n",
            "  statement: statement to be timed (default 'pass')\n",
            "\n",
            "A multi-line statement may be given by specifying each line as a\n",
            "separate argument; indented lines are possible by enclosing an\n",
            "argument in quotes and using leading spaces.  Multiple -s options are\n",
            "treated similarly.\n",
            "\n",
            "If -n is not given, a suitable number of loops is calculated by trying\n",
            "increasing numbers from the sequence 1, 2, 5, 10, 20, 50, ... until the\n",
            "total time is at least 0.2 seconds.\n",
            "\n",
            "Note: there is a certain baseline overhead associated with executing a\n",
            "pass statement.  It differs between versions.  The code here doesn't try\n",
            "to hide it, but you should be aware of it.  The baseline overhead can be\n",
            "measured by invoking the program without arguments.\n",
            "\n",
            "Classes:\n",
            "\n",
            "    Timer\n",
            "\n",
            "Functions:\n",
            "\n",
            "    timeit(string, string) -> float\n",
            "    repeat(string, string) -> list\n",
            "    default_timer() -> float\n",
            "\n",
            "\n"
          ]
        }
      ]
    },
    {
      "cell_type": "code",
      "source": [
        "dir(timeit)"
      ],
      "metadata": {
        "colab": {
          "base_uri": "https://localhost:8080/"
        },
        "id": "e97zxC6inkt_",
        "outputId": "37c1baf5-6fe1-4f17-e92b-19d3057cc74b"
      },
      "execution_count": null,
      "outputs": [
        {
          "output_type": "execute_result",
          "data": {
            "text/plain": [
              "['Timer',\n",
              " '__all__',\n",
              " '__builtins__',\n",
              " '__cached__',\n",
              " '__doc__',\n",
              " '__file__',\n",
              " '__loader__',\n",
              " '__name__',\n",
              " '__package__',\n",
              " '__spec__',\n",
              " '_globals',\n",
              " 'default_number',\n",
              " 'default_repeat',\n",
              " 'default_timer',\n",
              " 'dummy_src_name',\n",
              " 'gc',\n",
              " 'itertools',\n",
              " 'main',\n",
              " 'reindent',\n",
              " 'repeat',\n",
              " 'sys',\n",
              " 'template',\n",
              " 'time',\n",
              " 'timeit']"
            ]
          },
          "metadata": {},
          "execution_count": 9
        }
      ]
    },
    {
      "cell_type": "code",
      "source": [
        "timeit.__all__  # 可以获取可供调用接口的信息"
      ],
      "metadata": {
        "colab": {
          "base_uri": "https://localhost:8080/"
        },
        "id": "aC9oJE_ZnuHy",
        "outputId": "0a9c96ec-fab7-4b0c-a563-4cfa47a8b90e"
      },
      "execution_count": null,
      "outputs": [
        {
          "output_type": "execute_result",
          "data": {
            "text/plain": [
              "['Timer', 'timeit', 'repeat', 'default_timer']"
            ]
          },
          "metadata": {},
          "execution_count": 10
        }
      ]
    },
    {
      "cell_type": "markdown",
      "source": [
        ""
      ],
      "metadata": {
        "id": "s7be9cnrm544"
      }
    },
    {
      "cell_type": "code",
      "source": [
        ""
      ],
      "metadata": {
        "id": "q6wC5LKtnxsV"
      },
      "execution_count": null,
      "outputs": []
    }
  ]
}